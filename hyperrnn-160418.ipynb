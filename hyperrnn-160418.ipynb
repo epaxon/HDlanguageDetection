{
 "cells": [
  {
   "cell_type": "markdown",
   "metadata": {},
   "source": [
    "## Recurrent Neural Networks and Hypervectors\n",
    "\n",
    "So, one thing I am thinking about is the connection of the hypervector algebra with the nature of neural networks and other neuro-inspired AI architectures.\n",
    "\n",
    "The primary difference between a neural network and a hypervector is that the neural network has a weight matrix, where each neuron will influence the others in a feedback manner. This matrix is very general, and people attempt to use it to learn or produce patterns. One connection with the recurrent weight matrix and the hypervector algebra is that the roll/permutation operation can be implemented by this weight matrix.\n"
   ]
  },
  {
   "cell_type": "code",
   "execution_count": 1,
   "metadata": {
    "collapsed": false
   },
   "outputs": [
    {
     "name": "stdout",
     "output_type": "stream",
     "text": [
      "height has been deprecated.\n",
      "\n",
      "2016-04-18 15:55\n"
     ]
    }
   ],
   "source": [
    "from pylab import *\n",
    "import random_idx\n",
    "import time\n",
    "%matplotlib inline"
   ]
  },
  {
   "cell_type": "code",
   "execution_count": 2,
   "metadata": {
    "collapsed": false
   },
   "outputs": [
    {
     "name": "stdout",
     "output_type": "stream",
     "text": [
      "[[-1  1 -1 ...,  1 -1 -1]\n",
      " [ 1 -1  1 ...,  1  1  1]\n",
      " [ 1 -1  1 ...,  1  1 -1]\n",
      " ..., \n",
      " [-1  1  1 ..., -1 -1  1]\n",
      " [ 1  1  1 ..., -1  1  1]\n",
      " [ 1 -1  1 ..., -1 -1  1]]\n"
     ]
    }
   ],
   "source": [
    "N=1000\n",
    "letter_vectors = 2 * (np.random.randn(len(random_idx.alphabet), N) > 0) - 1\n",
    "print letter_vectors"
   ]
  },
  {
   "cell_type": "code",
   "execution_count": 3,
   "metadata": {
    "collapsed": false
   },
   "outputs": [
    {
     "name": "stdout",
     "output_type": "stream",
     "text": [
      "Duration:  0.00155401229858\n"
     ]
    },
    {
     "data": {
      "text/plain": [
       "(array([   6.,   30.,   94.,   80.,  246.,  262.,   97.,  124.,   50.,   11.]),\n",
       " array([-18. , -14.6, -11.2,  -7.8,  -4.4,  -1. ,   2.4,   5.8,   9.2,\n",
       "         12.6,  16. ]),\n",
       " <a list of 10 Patch objects>)"
      ]
     },
     "execution_count": 3,
     "metadata": {},
     "output_type": "execute_result"
    },
    {
     "data": {
      "image/png": "[encoded data removed]",
      "text/plain": [
       "<matplotlib.figure.Figure at 0x7f2e419bd250>"
      ]
     },
     "metadata": {},
     "output_type": "display_data"
    }
   ],
   "source": [
    "hypervec = np.zeros(N)\n",
    "\n",
    "# So, we can add stuff to the hypervec as usual\n",
    "letter_sequence = 'store these letters in the hypervector'\n",
    "\n",
    "tstart = time.time()\n",
    "for l in letter_sequence:\n",
    "    lidx = random_idx.alphabet.find(l)\n",
    "    \n",
    "    hypervec = np.roll(hypervec, 1) + letter_vectors[lidx, :]\n",
    "     \n",
    "print 'Duration: ', time.time() - tstart\n",
    "\n",
    "hist(hypervec)"
   ]
  },
  {
   "cell_type": "markdown",
   "metadata": {},
   "source": [
    "So, now the hypervector has each letter stored at an index using the roll operation. You can see how we just roll the hypervector each time we add a letter, as if the hypervector could be taking in a continuous stream. \n",
    "\n",
    "We can then derefence the hypervector, and get the letters at certain positions."
   ]
  },
  {
   "cell_type": "code",
   "execution_count": 4,
   "metadata": {
    "collapsed": false
   },
   "outputs": [
    {
     "name": "stdout",
     "output_type": "stream",
     "text": [
      "r o t c e v r e p y h   e h t   n i   s r e t t e l   e s e h t   e r o t s\n"
     ]
    },
    {
     "data": {
      "image/png": "[encoded data removed]",
      "text/plain": [
       "<matplotlib.figure.Figure at 0x7f2e3b9dba10>"
      ]
     },
     "metadata": {},
     "output_type": "display_data"
    }
   ],
   "source": [
    "def letter_at_pos(pos):\n",
    "    v = np.roll(hypervec, -pos)\n",
    "    vals = np.dot(letter_vectors/N, v.T)\n",
    "    bar(arange(len(vals))+0.15, vals)   \n",
    "    ax=gca()\n",
    "    ax.set_xticks(arange(len(random_idx.alphabet))+0.5)\n",
    "    th = ax.set_xticklabels(list(random_idx.alphabet))\n",
    "    return argmax(vals)\n",
    "\n",
    "for i in range(len(letter_sequence)):\n",
    "    print random_idx.alphabet[letter_at_pos(i)],\n",
    "    "
   ]
  },
  {
   "cell_type": "code",
   "execution_count": 5,
   "metadata": {
    "collapsed": false
   },
   "outputs": [
    {
     "data": {
      "text/plain": [
       "4"
      ]
     },
     "execution_count": 5,
     "metadata": {},
     "output_type": "execute_result"
    },
    {
     "data": {
      "image/png": "[encoded data removed]",
      "text/plain": [
       "<matplotlib.figure.Figure at 0x7f2e3b9b1dd0>"
      ]
     },
     "metadata": {},
     "output_type": "display_data"
    }
   ],
   "source": [
    "letter_at_pos(21)\n"
   ]
  },
  {
   "cell_type": "markdown",
   "metadata": {},
   "source": [
    "So, it prints the letters out backwards, which is what we asked. \n",
    "\n",
    "Now, the roll operation can be equivalently expressed as a matrix multiply. "
   ]
  },
  {
   "cell_type": "code",
   "execution_count": 6,
   "metadata": {
    "collapsed": false
   },
   "outputs": [
    {
     "name": "stdout",
     "output_type": "stream",
     "text": [
      "[[ 0.  0.  0. ...,  0.  0.  1.]\n",
      " [ 1.  0.  0. ...,  0.  0.  0.]\n",
      " [ 0.  1.  0. ...,  0.  0.  0.]\n",
      " ..., \n",
      " [ 0.  0.  0. ...,  0.  0.  0.]\n",
      " [ 0.  0.  0. ...,  1.  0.  0.]\n",
      " [ 0.  0.  0. ...,  0.  1.  0.]]\n"
     ]
    }
   ],
   "source": [
    "roll_matrix = np.eye(N,N)\n",
    "\n",
    "roll_matrix = np.roll(roll_matrix, -1, axis=1)\n",
    "\n",
    "print roll_matrix"
   ]
  },
  {
   "cell_type": "markdown",
   "metadata": {},
   "source": [
    "This is just an off-diagonal matrix, and this should do the exact permutation operation as roll, but it will be much more inefficient. However, this takes us a step towards generalizing hypervector algebra for recurrent neural networks, because now we can treat the roll matrix as the weights of an RNN.\n",
    "\n",
    "First, lets just make sure it really does work the same way."
   ]
  },
  {
   "cell_type": "code",
   "execution_count": 7,
   "metadata": {
    "collapsed": false
   },
   "outputs": [
    {
     "name": "stdout",
     "output_type": "stream",
     "text": [
      "Duration:  0.0157110691071\n"
     ]
    },
    {
     "data": {
      "text/plain": [
       "(array([   6.,   30.,   94.,   80.,  246.,  262.,   97.,  124.,   50.,   11.]),\n",
       " array([-18. , -14.6, -11.2,  -7.8,  -4.4,  -1. ,   2.4,   5.8,   9.2,\n",
       "         12.6,  16. ]),\n",
       " <a list of 10 Patch objects>)"
      ]
     },
     "execution_count": 7,
     "metadata": {},
     "output_type": "execute_result"
    },
    {
     "data": {
      "image/png": "[encoded data removed]",
      "text/plain": [
       "<matplotlib.figure.Figure at 0x7f2e41962110>"
      ]
     },
     "metadata": {},
     "output_type": "display_data"
    }
   ],
   "source": [
    "hyperrnn = np.zeros(N)\n",
    "\n",
    "tstart = time.time()\n",
    "for l in letter_sequence:\n",
    "    lidx = random_idx.alphabet.find(l)\n",
    "    \n",
    "    hyperrnn = np.dot(roll_matrix, hyperrnn) + letter_vectors[lidx, :]\n",
    "    \n",
    "print 'Duration: ', time.time() - tstart\n",
    "\n",
    "hist(hyperrnn)"
   ]
  },
  {
   "cell_type": "code",
   "execution_count": 8,
   "metadata": {
    "collapsed": false
   },
   "outputs": [
    {
     "name": "stdout",
     "output_type": "stream",
     "text": [
      "[ True  True  True  True  True  True  True  True  True  True  True  True\n",
      "  True  True  True  True  True  True  True  True  True  True  True  True\n",
      "  True  True  True  True  True  True  True  True  True  True  True  True\n",
      "  True  True  True  True  True  True  True  True  True  True  True  True\n",
      "  True  True  True  True  True  True  True  True  True  True  True  True\n",
      "  True  True  True  True  True  True  True  True  True  True  True  True\n",
      "  True  True  True  True  True  True  True  True  True  True  True  True\n",
      "  True  True  True  True  True  True  True  True  True  True  True  True\n",
      "  True  True  True  True  True  True  True  True  True  True  True  True\n",
      "  True  True  True  True  True  True  True  True  True  True  True  True\n",
      "  True  True  True  True  True  True  True  True  True  True  True  True\n",
      "  True  True  True  True  True  True  True  True  True  True  True  True\n",
      "  True  True  True  True  True  True  True  True  True  True  True  True\n",
      "  True  True  True  True  True  True  True  True  True  True  True  True\n",
      "  True  True  True  True  True  True  True  True  True  True  True  True\n",
      "  True  True  True  True  True  True  True  True  True  True  True  True\n",
      "  True  True  True  True  True  True  True  True  True  True  True  True\n",
      "  True  True  True  True  True  True  True  True  True  True  True  True\n",
      "  True  True  True  True  True  True  True  True  True  True  True  True\n",
      "  True  True  True  True  True  True  True  True  True  True  True  True\n",
      "  True  True  True  True  True  True  True  True  True  True  True  True\n",
      "  True  True  True  True  True  True  True  True  True  True  True  True\n",
      "  True  True  True  True  True  True  True  True  True  True  True  True\n",
      "  True  True  True  True  True  True  True  True  True  True  True  True\n",
      "  True  True  True  True  True  True  True  True  True  True  True  True\n",
      "  True  True  True  True  True  True  True  True  True  True  True  True\n",
      "  True  True  True  True  True  True  True  True  True  True  True  True\n",
      "  True  True  True  True  True  True  True  True  True  True  True  True\n",
      "  True  True  True  True  True  True  True  True  True  True  True  True\n",
      "  True  True  True  True  True  True  True  True  True  True  True  True\n",
      "  True  True  True  True  True  True  True  True  True  True  True  True\n",
      "  True  True  True  True  True  True  True  True  True  True  True  True\n",
      "  True  True  True  True  True  True  True  True  True  True  True  True\n",
      "  True  True  True  True  True  True  True  True  True  True  True  True\n",
      "  True  True  True  True  True  True  True  True  True  True  True  True\n",
      "  True  True  True  True  True  True  True  True  True  True  True  True\n",
      "  True  True  True  True  True  True  True  True  True  True  True  True\n",
      "  True  True  True  True  True  True  True  True  True  True  True  True\n",
      "  True  True  True  True  True  True  True  True  True  True  True  True\n",
      "  True  True  True  True  True  True  True  True  True  True  True  True\n",
      "  True  True  True  True  True  True  True  True  True  True  True  True\n",
      "  True  True  True  True  True  True  True  True  True  True  True  True\n",
      "  True  True  True  True  True  True  True  True  True  True  True  True\n",
      "  True  True  True  True  True  True  True  True  True  True  True  True\n",
      "  True  True  True  True  True  True  True  True  True  True  True  True\n",
      "  True  True  True  True  True  True  True  True  True  True  True  True\n",
      "  True  True  True  True  True  True  True  True  True  True  True  True\n",
      "  True  True  True  True  True  True  True  True  True  True  True  True\n",
      "  True  True  True  True  True  True  True  True  True  True  True  True\n",
      "  True  True  True  True  True  True  True  True  True  True  True  True\n",
      "  True  True  True  True  True  True  True  True  True  True  True  True\n",
      "  True  True  True  True  True  True  True  True  True  True  True  True\n",
      "  True  True  True  True  True  True  True  True  True  True  True  True\n",
      "  True  True  True  True  True  True  True  True  True  True  True  True\n",
      "  True  True  True  True  True  True  True  True  True  True  True  True\n",
      "  True  True  True  True  True  True  True  True  True  True  True  True\n",
      "  True  True  True  True  True  True  True  True  True  True  True  True\n",
      "  True  True  True  True  True  True  True  True  True  True  True  True\n",
      "  True  True  True  True  True  True  True  True  True  True  True  True\n",
      "  True  True  True  True  True  True  True  True  True  True  True  True\n",
      "  True  True  True  True  True  True  True  True  True  True  True  True\n",
      "  True  True  True  True  True  True  True  True  True  True  True  True\n",
      "  True  True  True  True  True  True  True  True  True  True  True  True\n",
      "  True  True  True  True  True  True  True  True  True  True  True  True\n",
      "  True  True  True  True  True  True  True  True  True  True  True  True\n",
      "  True  True  True  True  True  True  True  True  True  True  True  True\n",
      "  True  True  True  True  True  True  True  True  True  True  True  True\n",
      "  True  True  True  True  True  True  True  True  True  True  True  True\n",
      "  True  True  True  True  True  True  True  True  True  True  True  True\n",
      "  True  True  True  True  True  True  True  True  True  True  True  True\n",
      "  True  True  True  True  True  True  True  True  True  True  True  True\n",
      "  True  True  True  True  True  True  True  True  True  True  True  True\n",
      "  True  True  True  True  True  True  True  True  True  True  True  True\n",
      "  True  True  True  True  True  True  True  True  True  True  True  True\n",
      "  True  True  True  True  True  True  True  True  True  True  True  True\n",
      "  True  True  True  True  True  True  True  True  True  True  True  True\n",
      "  True  True  True  True  True  True  True  True  True  True  True  True\n",
      "  True  True  True  True  True  True  True  True  True  True  True  True\n",
      "  True  True  True  True  True  True  True  True  True  True  True  True\n",
      "  True  True  True  True  True  True  True  True  True  True  True  True\n",
      "  True  True  True  True  True  True  True  True  True  True  True  True\n",
      "  True  True  True  True  True  True  True  True  True  True  True  True\n",
      "  True  True  True  True  True  True  True  True  True  True  True  True\n",
      "  True  True  True  True]\n"
     ]
    }
   ],
   "source": [
    "print hypervec==hyperrnn"
   ]
  },
  {
   "cell_type": "code",
   "execution_count": 9,
   "metadata": {
    "collapsed": false
   },
   "outputs": [
    {
     "name": "stdout",
     "output_type": "stream",
     "text": [
      "r o t c e v r e p y h   e h t   n i   s r e t t e l   e s e h t   e r o t s\n"
     ]
    },
    {
     "data": {
      "image/png": "[encoded data removed]",
      "text/plain": [
       "<matplotlib.figure.Figure at 0x7f2e41962e50>"
      ]
     },
     "metadata": {},
     "output_type": "display_data"
    }
   ],
   "source": [
    "def letter_at_pos_rnn(pos):    \n",
    "    v = np.dot(np.roll(np.eye(N,N), pos, axis=1), hyperrnn)\n",
    "    \n",
    "    vals = np.dot(letter_vectors/N, v.T)\n",
    "    bar(arange(len(vals))+0.15, vals)   \n",
    "    ax=gca()\n",
    "    ax.set_xticks(arange(len(random_idx.alphabet))+0.5)\n",
    "    th = ax.set_xticklabels(list(random_idx.alphabet))\n",
    "    return argmax(vals)\n",
    "\n",
    "for i in range(len(letter_sequence)):\n",
    "    print random_idx.alphabet[letter_at_pos_rnn(i)],\n",
    "    "
   ]
  },
  {
   "cell_type": "markdown",
   "metadata": {},
   "source": [
    "In this case we have to build the unrolling matrix, and then we do matrix multiply, which is much slower. \n",
    "\n",
    "## Roll is a permutation matrix\n",
    "\n",
    "So, the question is what other types of matrices are acceptable as a roll martix. Typically with an RNN, the recurrent weights are just set randomly, but here we can see the hypervector algebra can be created with a certain type of roll matrix/connectivity. The roll matrix at heart is an *orthonormal basis*, but I do not think that every index must be 1 or 0. This matrix can be made more generally, and there are certain properties about this matrix that relate to how an RNN may work and store information.\n",
    "\n",
    "One thing to note is that there is a pattern to the roll matrix -- we cycle through all N possible permutations, and so the roll matrix cannot just be any orthonormal basis. Obviously, the identity matrix would not serve as a good roll matrix. At some point with the permutations, we will do a complete loop around the dimensions. This means that any good roll matrix should have a property like:\n",
    "\n",
    "$$\n",
    "R^N = I\n",
    "$$\n",
    "\n",
    "and \n",
    "\n",
    "$$\n",
    "R^j \\ne I \\\\ for j \\ne (N-1)\n",
    "$$\n",
    "\n",
    "Which basically says that the roll matrix cycles through all the dimensions, and then completes a full loop after N steps. But, you can imagine a lot of orthonormal bases that would not cycle through each dimension. If the vectors in the roll_matrix are rearranged, then the orthonormal basis part stays constant. However, if you switch a few of them, you can make the roll matrix cycle back to the beginning in less than N steps. The identity matrix cycles back in 1 step. The more steps it takes to cycle, then the more positions you have in memory.\n",
    "\n"
   ]
  },
  {
   "cell_type": "code",
   "execution_count": 10,
   "metadata": {
    "collapsed": false
   },
   "outputs": [],
   "source": [
    "def random_orthogonal(n):\n",
    "    a = np.random.random((n,n))\n",
    "    q, r = np.linalg.qr(a)\n",
    "    \n",
    "    return q"
   ]
  },
  {
   "cell_type": "code",
   "execution_count": 11,
   "metadata": {
    "collapsed": false
   },
   "outputs": [
    {
     "name": "stdout",
     "output_type": "stream",
     "text": [
      "0.534034967422\n",
      "[[-0.00465947 -0.05784956  0.00124796 ..., -0.02376072 -0.05718671\n",
      "   0.00054542]\n",
      " [-0.01126536 -0.00725692 -0.01308165 ..., -0.06106317  0.01371128\n",
      "   0.07363751]\n",
      " [-0.01140667 -0.00125225 -0.04076648 ...,  0.00670959  0.00591389\n",
      "   0.00053313]\n",
      " ..., \n",
      " [-0.01525672  0.01708019 -0.02846395 ...,  0.03997402 -0.00163758\n",
      "   0.03526775]\n",
      " [-0.01661889 -0.05517815  0.04250532 ...,  0.00414027  0.03914118\n",
      "  -0.02431875]\n",
      " [-0.04186403  0.03391536 -0.02399106 ...,  0.0195168  -0.04144963\n",
      "   0.01593434]]\n"
     ]
    }
   ],
   "source": [
    "tstart = time.time()\n",
    "ro = random_orthogonal(N)\n",
    "print time.time() - tstart\n",
    "print ro"
   ]
  },
  {
   "cell_type": "markdown",
   "metadata": {},
   "source": [
    "Ok, so a random orthogonal matrix, should work just as well as the roll matrix... "
   ]
  },
  {
   "cell_type": "code",
   "execution_count": 12,
   "metadata": {
    "collapsed": false
   },
   "outputs": [
    {
     "data": {
      "text/plain": [
       "(1000, 1000)"
      ]
     },
     "execution_count": 12,
     "metadata": {},
     "output_type": "execute_result"
    }
   ],
   "source": [
    "ro.shape"
   ]
  },
  {
   "cell_type": "code",
   "execution_count": 13,
   "metadata": {
    "collapsed": false,
    "scrolled": true
   },
   "outputs": [
    {
     "name": "stdout",
     "output_type": "stream",
     "text": [
      "Duration:  0.0127549171448\n"
     ]
    },
    {
     "data": {
      "text/plain": [
       "(array([   2.,   15.,   76.,  164.,  247.,  251.,  168.,   62.,   13.,    2.]),\n",
       " array([-21.08107048, -16.8528225 , -12.62457453,  -8.39632655,\n",
       "         -4.16807857,   0.06016941,   4.28841738,   8.51666536,\n",
       "         12.74491334,  16.97316131,  21.20140929]),\n",
       " <a list of 10 Patch objects>)"
      ]
     },
     "execution_count": 13,
     "metadata": {},
     "output_type": "execute_result"
    },
    {
     "data": {
      "image/png": "[encoded data removed]",
      "text/plain": [
       "<matplotlib.figure.Figure at 0x7f2e313c0b10>"
      ]
     },
     "metadata": {},
     "output_type": "display_data"
    }
   ],
   "source": [
    "hyperro = np.zeros(N)\n",
    "\n",
    "tstart = time.time()\n",
    "for l in letter_sequence:\n",
    "    lidx = random_idx.alphabet.find(l)\n",
    "    \n",
    "    hyperro = np.dot(ro, hyperro) + letter_vectors[lidx, :]\n",
    "    \n",
    "print 'Duration: ', time.time() - tstart\n",
    "\n",
    "hist(hyperro)"
   ]
  },
  {
   "cell_type": "code",
   "execution_count": 14,
   "metadata": {
    "collapsed": false
   },
   "outputs": [
    {
     "name": "stdout",
     "output_type": "stream",
     "text": [
      "r o t c e v r e p y h   e h t   n i   s r e t t e l   e s e h t   e r o t s\n"
     ]
    },
    {
     "data": {
      "image/png": "[encoded data removed]",
      "text/plain": [
       "<matplotlib.figure.Figure at 0x7f2e069cdd90>"
      ]
     },
     "metadata": {},
     "output_type": "display_data"
    }
   ],
   "source": [
    "def letter_at_pos_ro(pos): \n",
    "    # so to read out, we need to decode the ro, which means we have to do a bunch of matrix multiplies.\n",
    "    \n",
    "    v = np.dot(np.linalg.matrix_power(ro, -pos), hyperro)\n",
    "    #v = np.dot(np.roll(np.eye(N,N), pos, axis=1), hyperrnn)\n",
    "    \n",
    "    vals = np.dot(letter_vectors/N, v.T)\n",
    "    bar(arange(len(vals))+0.15, vals)   \n",
    "    ax=gca()\n",
    "    ax.set_xticks(arange(len(random_idx.alphabet))+0.5)\n",
    "    th = ax.set_xticklabels(list(random_idx.alphabet))\n",
    "    return argmax(vals)\n",
    "\n",
    "for i in range(len(letter_sequence)):\n",
    "    print random_idx.alphabet[letter_at_pos_ro(i)],\n",
    "    "
   ]
  },
  {
   "cell_type": "markdown",
   "metadata": {},
   "source": [
    "Cool! So, yes, can just use a random orthonormal matrix as the permutation operation, and can store the hypervectors in the same fashion. \n",
    "\n",
    "This is terribly slow, however, because we have to compute the inverse of the matrix and raise it to a power to go backwards. However, the important point is that we have taken another step towards generalizing the hypervector math to neural networks. \n",
    "\n",
    "This is important because I think that the storage capacity of the hypervectors and utilizing the math is extremely important to consider in the context of an RNN. Becuase we can show that hypervectors and RNN are essentially equivalent, we can say that the storage capacity of a hypervector is similar to RNN.\n",
    "\n",
    "I think this is essential because many don't consider the capacity of an RNN -- how much information can it keep in the recurrent dynamics? Well, the limit is set by how much a hypervector can hold. \n",
    "\n",
    "I think so long as the matrix is orthonormal it should work. Of course identity would not work, even though its orthonormal, and then there are tons of other permutations that won't work as well. At some point the permutation operation has to do a loop, and the max number of iterations for a loop would be N (does it have to loop at some point?). \n",
    "\n",
    "But random orthonormal matrix works well. The hypervector probably cannot store N values anyway, so the loop issue is not so bad. A random basis will likely not have N steps before looping, but it should be high or close to N (maybe?). \n",
    "\n",
    "\n",
    "The final difference with the RNN and hypervectors is that the hypervectors are entirely linear. An RNN often has a non-linear threshold/saturation function. What would this mean in terms of storage and capacity? How would decoding/dereferencing the memory work? \n",
    "\n",
    "\n"
   ]
  },
  {
   "cell_type": "markdown",
   "metadata": {
    "collapsed": true
   },
   "source": [
    "## Plate RNN\n",
    "\n",
    "An alternative vector-symbolic architecture to hypercomputing with binary splatter codes (Kanerva) is the Holographic Reduced Representation (Plate, 1995). This architecture still uses high-dimensional vectors but has a different set of representations and operations. In a similar fashion, the HRR computing architecture can be straight-forwardly generalized to a linear recurrent neural network, and we can use the algebra of the mathematics to directly encode and decode a long series of input symbols. \n",
    "\n",
    "In the HRR framework, the hypervector representations change from $[-1, +1]^N$ to hypervectors with elements chosen from a normal distributrion -- ($[\\mathscr{N}(0,1/N)]^N$). These vectors have an expected value length of 1, as well as the representations can be made to have exactly norm 1 (this is typically more useful). The other primary difference is that the HRR framework uses \"circular convolution\" ($\\oplus$) for binding.\n",
    "\n",
    "In the Kanerva framework, we illustrated how to use the roll operation to store a stream of letters into a hypervector, and related this operation to neural networks. This same procedure can be followed under the Plate framework using circular convolution.\n",
    "\n",
    "According to Plate 1995, the circular convolution can be transformed into a matrix multiply for a fixed vector. This takes us towards reconsidering the Plate circular convolution in terms of a recurrent neural network. In fact, Plate even states this idea that circular convolution with a fixed vector can be turned into a matrix multiply and he states that this could be part of a feed-forward neural network. \n",
    "\n",
    "> \"The convolution operation can be expressed as a matrix-vector multiplication.\n",
    "$$\n",
    "    a \\oplus b = M_a b\n",
    "$$\n",
    "> \"where $M_a$ is the matrix corresponding to convolution by $a$. It has elements $m_{a_{ij}}=a_{i-j}$ (where the subscripts on a are interpreted modulo n). Such matrices are known as \"circulant matrices\" [6]. The eigenvalues of $M_a$ are the individual (complex valued) elements of the Fourier transform of $a$. The corresponding eigenvectors are the inverse transform of the frequency components (i.e., $(1,0,0,...), (0,1,0,...), etc.$ in the frequency domain). Thus it is possible for the mapping computed by the connections between two layers in a feed-forward network (i.e. a matrix multiplication) to correspond to convolution by a fixed vector.\"\n",
    "\n",
    "This should mean that the roll vector can be transformed into a weight matrix. And luckily scipy has a built-in function for making the circulant matrix from a given vector.\n"
   ]
  },
  {
   "cell_type": "code",
   "execution_count": 168,
   "metadata": {
    "collapsed": true
   },
   "outputs": [],
   "source": [
    "def cconv(a, b):\n",
    "    return ifft(fft(a) * fft(b))\n",
    "    \n",
    "def ccinv(a):\n",
    "    return ifft(np.conj(fft(a)))  "
   ]
  },
  {
   "cell_type": "code",
   "execution_count": 169,
   "metadata": {
    "collapsed": false
   },
   "outputs": [],
   "source": [
    "import nengo\n",
    "N=1000\n",
    "hs = nengo.dists.UniformHypersphere()\n",
    "letter_vectors = hs.sample(len(random_idx.alphabet), N)\n",
    "letters = random_idx.alphabet.replace(' ', '_')\n",
    "\n",
    "for i in range(len(random_idx.alphabet)):\n",
    "    # ok pretty close to 1, but lets make it exact.\n",
    "    letter_vectors[i,:] = letter_vectors[i,:] / norm(letter_vectors[i,:])\n",
    "    \n",
    "#roll_vector = hs.sample(1, N)[0]\n",
    "#roll_vector = roll_vector / norm(roll_vector)\n",
    "\n",
    "# the roll_vector has to be unitary\n",
    "roll_vector = ifft(2*(np.random.randn(N) > 0) - 1)\n"
   ]
  },
  {
   "cell_type": "code",
   "execution_count": 170,
   "metadata": {
    "collapsed": false
   },
   "outputs": [
    {
     "data": {
      "text/plain": [
       "(1000,)"
      ]
     },
     "execution_count": 170,
     "metadata": {},
     "output_type": "execute_result"
    }
   ],
   "source": [
    "roll_vector.shape"
   ]
  },
  {
   "cell_type": "code",
   "execution_count": 171,
   "metadata": {
    "collapsed": false
   },
   "outputs": [
    {
     "name": "stdout",
     "output_type": "stream",
     "text": [
      "[[-0.01400000+0.j         -0.02783650+0.00198861j  0.02238595-0.01782821j\n",
      "  ...,  0.00202977+0.0136333j   0.02238595+0.01782821j\n",
      "  -0.02783650-0.00198861j]\n",
      " [-0.02783650-0.00198861j -0.01400000+0.j         -0.02783650+0.00198861j\n",
      "  ...,  0.01676155-0.036691j    0.00202977+0.0136333j\n",
      "   0.02238595+0.01782821j]\n",
      " [ 0.02238595+0.01782821j -0.02783650-0.00198861j -0.01400000+0.j         ...,\n",
      "  -0.03689781-0.01063487j  0.01676155-0.036691j    0.00202977+0.0136333j ]\n",
      " ..., \n",
      " [ 0.00202977-0.0136333j   0.01676155+0.036691j   -0.03689781+0.01063487j\n",
      "  ..., -0.01400000+0.j         -0.02783650+0.00198861j\n",
      "   0.02238595-0.01782821j]\n",
      " [ 0.02238595-0.01782821j  0.00202977-0.0136333j   0.01676155+0.036691j\n",
      "  ..., -0.02783650-0.00198861j -0.01400000+0.j         -0.02783650+0.00198861j]\n",
      " [-0.02783650+0.00198861j  0.02238595-0.01782821j  0.00202977-0.0136333j\n",
      "  ...,  0.02238595+0.01782821j -0.02783650-0.00198861j -0.01400000+0.j        ]]\n"
     ]
    }
   ],
   "source": [
    "import scipy\n",
    "\n",
    "roll_matrix = scipy.linalg.circulant(roll_vector)\n",
    "print roll_matrix"
   ]
  },
  {
   "cell_type": "code",
   "execution_count": 172,
   "metadata": {
    "collapsed": false
   },
   "outputs": [
    {
     "name": "stdout",
     "output_type": "stream",
     "text": [
      "[-0.01297372-0.00969741j -0.03218527+0.00783879j  0.02770900+0.02540485j\n",
      " -0.00043901+0.0059081j  -0.00496367-0.02008662j  0.00915860+0.01101964j\n",
      "  0.01570676-0.02038434j -0.00154384-0.01107459j  0.01073574+0.03126027j\n",
      " -0.03671324+0.00069053j]\n",
      "[-0.01297372-0.00969741j -0.03218527+0.00783879j  0.02770900+0.02540485j\n",
      " -0.00043901+0.0059081j  -0.00496367-0.02008662j  0.00915860+0.01101964j\n",
      "  0.01570676-0.02038434j -0.00154384-0.01107459j  0.01073574+0.03126027j\n",
      " -0.03671324+0.00069053j]\n"
     ]
    }
   ],
   "source": [
    "am = np.dot(roll_matrix, letter_vectors[0,:])\n",
    "av = cconv(roll_vector, letter_vectors[0,:])\n",
    "print am[0:10]\n",
    "print av[0:10]"
   ]
  },
  {
   "cell_type": "markdown",
   "metadata": {},
   "source": [
    "Now, we can really see a direct connection between Plate and Kanerva and how these algebraic theories describe the operations of recurrent neural networks. \n",
    "\n",
    "In the Plate framework, the `roll_vector` is a unit norm vector. And the `roll_matrix` is the *circulant matrix* of the roll vector. A circulant matrix created from a unit norm vector is also just a unitary permutation matix.\n",
    "\n"
   ]
  },
  {
   "cell_type": "code",
   "execution_count": 173,
   "metadata": {
    "collapsed": false
   },
   "outputs": [
    {
     "name": "stdout",
     "output_type": "stream",
     "text": [
      "[[ 0.  0.  0. ...,  0.  0.  1.]\n",
      " [ 1.  0.  0. ...,  0.  0.  0.]\n",
      " [ 0.  1.  0. ...,  0.  0.  0.]\n",
      " ..., \n",
      " [ 0.  0.  0. ...,  0.  0.  0.]\n",
      " [ 0.  0.  0. ...,  1.  0.  0.]\n",
      " [ 0.  0.  0. ...,  0.  1.  0.]]\n"
     ]
    }
   ],
   "source": [
    "kanerva_roll_vec = np.zeros(N)\n",
    "kanerva_roll_vec[1] = 1\n",
    "\n",
    "kanerva_roll_matrix = scipy.linalg.circulant(kanerva_roll_vec)\n",
    "print kanerva_roll_matrix"
   ]
  },
  {
   "cell_type": "code",
   "execution_count": 180,
   "metadata": {
    "collapsed": false
   },
   "outputs": [
    {
     "data": {
      "text/plain": [
       "0.031622776601683777"
      ]
     },
     "execution_count": 180,
     "metadata": {},
     "output_type": "execute_result"
    }
   ],
   "source": [
    "norm(ifft(kanerva_roll_vec))"
   ]
  },
  {
   "cell_type": "code",
   "execution_count": 174,
   "metadata": {
    "collapsed": false
   },
   "outputs": [
    {
     "data": {
      "text/plain": [
       "0.99999999999999956"
      ]
     },
     "execution_count": 174,
     "metadata": {},
     "output_type": "execute_result"
    }
   ],
   "source": [
    "norm(cconv(roll_vector, letter_vectors[19,:]))"
   ]
  },
  {
   "cell_type": "code",
   "execution_count": 175,
   "metadata": {
    "collapsed": false
   },
   "outputs": [
    {
     "data": {
      "text/plain": [
       "(0.99999999999999989, 0.99999999999999989)"
      ]
     },
     "execution_count": 175,
     "metadata": {},
     "output_type": "execute_result"
    }
   ],
   "source": [
    "norm(roll_vector), norm(letter_vectors[19,:])"
   ]
  },
  {
   "cell_type": "markdown",
   "metadata": {},
   "source": [
    "If the random vector to bind to used in Plate's framework happens to be $[0, 1, 0, ... 0]$, then the Plate and Kanerva operations are *exactly* the same. "
   ]
  },
  {
   "cell_type": "code",
   "execution_count": 178,
   "metadata": {
    "collapsed": false
   },
   "outputs": [
    {
     "name": "stdout",
     "output_type": "stream",
     "text": [
      "Duration:  0.00794816017151\n"
     ]
    },
    {
     "data": {
      "text/plain": [
       "(array([   5.,   24.,   84.,  204.,  231.,  226.,  133.,   60.,   28.,    5.]),\n",
       " array([-0.8541083 , -0.67874254, -0.50337677, -0.32801101, -0.15264524,\n",
       "         0.02272052,  0.19808629,  0.37345205,  0.54881782,  0.72418358,\n",
       "         0.89954935]),\n",
       " <a list of 10 Patch objects>)"
      ]
     },
     "execution_count": 178,
     "metadata": {},
     "output_type": "execute_result"
    },
    {
     "data": {
      "image/png": "[encoded data removed]",
      "text/plain": [
       "<matplotlib.figure.Figure at 0x7f2e04198350>"
      ]
     },
     "metadata": {},
     "output_type": "display_data"
    }
   ],
   "source": [
    "platernn = np.zeros(N)\n",
    "\n",
    "tstart = time.time()\n",
    "for l in letter_sequence:\n",
    "    lidx = random_idx.alphabet.find(l)\n",
    "    \n",
    "    platernn = cconv(roll_vector, platernn) + letter_vectors[lidx, :]\n",
    "    \n",
    "print 'Duration: ', time.time() - tstart\n",
    "\n",
    "hist(real(platernn))"
   ]
  },
  {
   "cell_type": "code",
   "execution_count": 179,
   "metadata": {
    "collapsed": false
   },
   "outputs": [
    {
     "name": "stdout",
     "output_type": "stream",
     "text": [
      "t e t e t e t e t e t e t e t e t e t e t e t e t e t e t e t e t e t e t e\n"
     ]
    },
    {
     "name": "stderr",
     "output_type": "stream",
     "text": [
      "/home/epaxon/anaconda2/lib/python2.7/site-packages/matplotlib/transforms.py:839: ComplexWarning: Casting complex values to real discards the imaginary part\n",
      "  points = np.array(args, dtype=np.float_).reshape(2, 2)\n",
      "/home/epaxon/anaconda2/lib/python2.7/site-packages/matplotlib/transforms.py:1895: ComplexWarning: Casting complex values to real discards the imaginary part\n",
      "  np.float_)\n"
     ]
    },
    {
     "data": {
      "image/png": "[encoded data removed]",
      "text/plain": [
       "<matplotlib.figure.Figure at 0x7f2e06cef950>"
      ]
     },
     "metadata": {},
     "output_type": "display_data"
    }
   ],
   "source": [
    "def letter_at_pos_plate(pos): \n",
    "    # so to read out, we need to decode the ro, which means we have to do a bunch of matrix multiplies.\n",
    "    \n",
    "    if pos > 0:\n",
    "        rv = np.zeros(N)\n",
    "        rv[0] = 1\n",
    "        for i in range(pos):\n",
    "            rv = cconv(rv, roll_vector)\n",
    "            \n",
    "        v = cconv(platernn, rv)\n",
    "    else:\n",
    "        v = platernn\n",
    "    \n",
    "    vals = np.dot(letter_vectors, v.T)\n",
    "    bar(arange(len(vals))+0.15, vals)   \n",
    "    ax=gca()\n",
    "    ax.set_xticks(arange(len(random_idx.alphabet))+0.5)\n",
    "    th = ax.set_xticklabels(list(random_idx.alphabet))\n",
    "    return argmax(vals)\n",
    "\n",
    "for i in range(len(letter_sequence)):\n",
    "    print random_idx.alphabet[letter_at_pos_plate(i)],\n",
    "    "
   ]
  },
  {
   "cell_type": "code",
   "execution_count": 166,
   "metadata": {
    "collapsed": false
   },
   "outputs": [
    {
     "data": {
      "text/plain": [
       "0.99999999999999967"
      ]
     },
     "execution_count": 166,
     "metadata": {},
     "output_type": "execute_result"
    }
   ],
   "source": [
    "norm(cconv(roll_vector, roll_vector))\n"
   ]
  },
  {
   "cell_type": "code",
   "execution_count": 92,
   "metadata": {
    "collapsed": false
   },
   "outputs": [
    {
     "name": "stdout",
     "output_type": "stream",
     "text": [
      "store these letters in the hypervector\n"
     ]
    }
   ],
   "source": [
    "print letter_sequence"
   ]
  },
  {
   "cell_type": "code",
   "execution_count": 66,
   "metadata": {
    "collapsed": false
   },
   "outputs": [
    {
     "name": "stdout",
     "output_type": "stream",
     "text": [
      "2.41910204986\n"
     ]
    }
   ],
   "source": [
    "v = cconv(platernn, ccinv(roll_vector))\n"
   ]
  },
  {
   "cell_type": "code",
   "execution_count": 119,
   "metadata": {
    "collapsed": false
   },
   "outputs": [
    {
     "name": "stdout",
     "output_type": "stream",
     "text": [
      "1.0\n",
      "1.46941901689\n",
      "5.82144458975\n",
      "259.044830645\n",
      "1188079.5114\n",
      "3.11579555248e+13\n",
      "2.17065398513e+28\n",
      "1.05357680282e+58\n",
      "2.48208929831e+117\n",
      "inf\n"
     ]
    }
   ],
   "source": [
    "rv = roll_vector\n",
    "for i in range(10):\n",
    "    print norm(rv)\n",
    "    rv = cconv(rv, rv)"
   ]
  },
  {
   "cell_type": "code",
   "execution_count": 77,
   "metadata": {
    "collapsed": false
   },
   "outputs": [
    {
     "name": "stdout",
     "output_type": "stream",
     "text": [
      "0\n"
     ]
    }
   ],
   "source": [
    "for i in range(1):\n",
    "    print i\n"
   ]
  },
  {
   "cell_type": "code",
   "execution_count": null,
   "metadata": {
    "collapsed": true
   },
   "outputs": [],
   "source": []
  }
 ],
 "metadata": {
  "kernelspec": {
   "display_name": "Python 2",
   "language": "python",
   "name": "python2"
  },
  "language_info": {
   "codemirror_mode": {
    "name": "ipython",
    "version": 2
   },
   "file_extension": ".py",
   "mimetype": "text/x-python",
   "name": "python",
   "nbconvert_exporter": "python",
   "pygments_lexer": "ipython2",
   "version": "2.7.11"
  }
 },
 "nbformat": 4,
 "nbformat_minor": 0
}
