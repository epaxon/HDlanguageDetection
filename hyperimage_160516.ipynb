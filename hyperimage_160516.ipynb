{
 "cells": [
  {
   "cell_type": "code",
   "execution_count": 1,
   "metadata": {
    "collapsed": true
   },
   "outputs": [],
   "source": [
    "from pylab import *\n",
    "from __future__ import division\n",
    "import imnet_utils as imut\n",
    "import sklearn\n",
    "from sklearn.decomposition import PCA, FastICA, TruncatedSVD\n",
    "import time\n",
    "\n",
    "%matplotlib inline"
   ]
  },
  {
   "cell_type": "code",
   "execution_count": 2,
   "metadata": {
    "collapsed": true
   },
   "outputs": [],
   "source": [
    "def norm_range(v):\n",
    "    return (v-v.min())/(v.max()-v.min())"
   ]
  },
  {
   "cell_type": "markdown",
   "metadata": {},
   "source": [
    "# Storing image sequence in the hypervector\n",
    "\n",
    "A further generalization of the capacity analysis is to consider storing images in a hypervector. To store images, we utilize a clean-up memory, which is a set of basis vectors that serve to represent the image. This is the same as the alphabet, and we will have $D$ tokens to serve to represent the images.\n",
    "\n",
    "First, I will load a ton of random image patches from an ImageNet database and create the basis vectors. I am going to use both pca (which will give me a \"dense\" representation of the image), and then I am going to perform ICA on the pca-reduced data, and get another set of basis vectors (these are a \"sparse\" representation of the image).\n"
   ]
  },
  {
   "cell_type": "code",
   "execution_count": 3,
   "metadata": {
    "collapsed": false
   },
   "outputs": [
    {
     "ename": "KeyboardInterrupt",
     "evalue": "",
     "output_type": "error",
     "traceback": [
      "\u001b[1;31m---------------------------------------------------------------------------\u001b[0m",
      "\u001b[1;31mKeyboardInterrupt\u001b[0m                         Traceback (most recent call last)",
      "\u001b[1;32m<ipython-input-3-68e3ecaf923f>\u001b[0m in \u001b[0;36m<module>\u001b[1;34m()\u001b[0m\n\u001b[0;32m      2\u001b[0m \u001b[0mpatch_size\u001b[0m\u001b[1;33m=\u001b[0m\u001b[1;33m(\u001b[0m\u001b[1;36m20\u001b[0m\u001b[1;33m,\u001b[0m\u001b[1;36m20\u001b[0m\u001b[1;33m)\u001b[0m\u001b[1;33m\u001b[0m\u001b[0m\n\u001b[0;32m      3\u001b[0m \u001b[0mtstart\u001b[0m \u001b[1;33m=\u001b[0m \u001b[0mtime\u001b[0m\u001b[1;33m.\u001b[0m\u001b[0mtime\u001b[0m\u001b[1;33m(\u001b[0m\u001b[1;33m)\u001b[0m\u001b[1;33m\u001b[0m\u001b[0m\n\u001b[1;32m----> 4\u001b[1;33m \u001b[0mimpatches\u001b[0m \u001b[1;33m=\u001b[0m \u001b[0mimut\u001b[0m\u001b[1;33m.\u001b[0m\u001b[0mload_random_imnet_patches\u001b[0m\u001b[1;33m(\u001b[0m\u001b[1;36m100000\u001b[0m\u001b[1;33m,\u001b[0m \u001b[0mpatch_size\u001b[0m\u001b[1;33m=\u001b[0m\u001b[0mpatch_size\u001b[0m\u001b[1;33m)\u001b[0m\u001b[1;33m\u001b[0m\u001b[0m\n\u001b[0m\u001b[0;32m      5\u001b[0m \u001b[1;32mprint\u001b[0m \u001b[1;34m\"Duration: \"\u001b[0m\u001b[1;33m,\u001b[0m \u001b[0mtime\u001b[0m\u001b[1;33m.\u001b[0m\u001b[0mtime\u001b[0m\u001b[1;33m(\u001b[0m\u001b[1;33m)\u001b[0m \u001b[1;33m-\u001b[0m \u001b[0mtstart\u001b[0m\u001b[1;33m\u001b[0m\u001b[0m\n",
      "\u001b[1;32m/data/Research/GitHub/HDlanguageDetection/imnet_utils.pyc\u001b[0m in \u001b[0;36mload_random_imnet_patches\u001b[1;34m(num_images, patch_size)\u001b[0m\n\u001b[0;32m     30\u001b[0m \u001b[1;32mdef\u001b[0m \u001b[0mload_random_imnet_patches\u001b[0m\u001b[1;33m(\u001b[0m\u001b[0mnum_images\u001b[0m\u001b[1;33m=\u001b[0m\u001b[1;36m1\u001b[0m\u001b[1;33m,\u001b[0m \u001b[0mpatch_size\u001b[0m\u001b[1;33m=\u001b[0m\u001b[1;33m(\u001b[0m\u001b[1;36m20\u001b[0m\u001b[1;33m,\u001b[0m\u001b[1;36m20\u001b[0m\u001b[1;33m)\u001b[0m\u001b[1;33m)\u001b[0m\u001b[1;33m:\u001b[0m\u001b[1;33m\u001b[0m\u001b[0m\n\u001b[0;32m     31\u001b[0m \u001b[1;33m\u001b[0m\u001b[0m\n\u001b[1;32m---> 32\u001b[1;33m     \u001b[0mims\u001b[0m \u001b[1;33m=\u001b[0m \u001b[0mload_imnet\u001b[0m\u001b[1;33m(\u001b[0m\u001b[1;33m)\u001b[0m\u001b[1;33m\u001b[0m\u001b[0m\n\u001b[0m\u001b[0;32m     33\u001b[0m \u001b[1;33m\u001b[0m\u001b[0m\n\u001b[0;32m     34\u001b[0m     \u001b[0mim_patches\u001b[0m \u001b[1;33m=\u001b[0m \u001b[0mnp\u001b[0m\u001b[1;33m.\u001b[0m\u001b[0mzeros\u001b[0m\u001b[1;33m(\u001b[0m\u001b[1;33m(\u001b[0m\u001b[0mpatch_size\u001b[0m\u001b[1;33m[\u001b[0m\u001b[1;36m0\u001b[0m\u001b[1;33m]\u001b[0m\u001b[1;33m,\u001b[0m \u001b[0mpatch_size\u001b[0m\u001b[1;33m[\u001b[0m\u001b[1;36m1\u001b[0m\u001b[1;33m]\u001b[0m\u001b[1;33m,\u001b[0m \u001b[1;36m3\u001b[0m\u001b[1;33m,\u001b[0m \u001b[0mnum_images\u001b[0m\u001b[1;33m)\u001b[0m\u001b[1;33m)\u001b[0m\u001b[1;33m\u001b[0m\u001b[0m\n",
      "\u001b[1;32m/data/Research/GitHub/HDlanguageDetection/imnet_utils.pyc\u001b[0m in \u001b[0;36mload_imnet\u001b[1;34m(base_dir)\u001b[0m\n\u001b[0;32m     23\u001b[0m \u001b[1;33m\u001b[0m\u001b[0m\n\u001b[0;32m     24\u001b[0m     \u001b[1;32mfor\u001b[0m \u001b[0mimfname\u001b[0m \u001b[1;32min\u001b[0m \u001b[0mim_list\u001b[0m\u001b[1;33m:\u001b[0m\u001b[1;33m\u001b[0m\u001b[0m\n\u001b[1;32m---> 25\u001b[1;33m         \u001b[0mims\u001b[0m\u001b[1;33m.\u001b[0m\u001b[0mappend\u001b[0m\u001b[1;33m(\u001b[0m\u001b[0mplt\u001b[0m\u001b[1;33m.\u001b[0m\u001b[0mimread\u001b[0m\u001b[1;33m(\u001b[0m\u001b[0mimfname\u001b[0m\u001b[1;33m)\u001b[0m\u001b[1;33m)\u001b[0m\u001b[1;33m\u001b[0m\u001b[0m\n\u001b[0m\u001b[0;32m     26\u001b[0m \u001b[1;33m\u001b[0m\u001b[0m\n\u001b[0;32m     27\u001b[0m     \u001b[1;32mreturn\u001b[0m \u001b[0mims\u001b[0m\u001b[1;33m\u001b[0m\u001b[0m\n",
      "\u001b[1;32m/home/epaxon/anaconda2/lib/python2.7/site-packages/matplotlib/pyplot.pyc\u001b[0m in \u001b[0;36mimread\u001b[1;34m(*args, **kwargs)\u001b[0m\n\u001b[0;32m   2213\u001b[0m \u001b[1;33m@\u001b[0m\u001b[0mdocstring\u001b[0m\u001b[1;33m.\u001b[0m\u001b[0mcopy_dedent\u001b[0m\u001b[1;33m(\u001b[0m\u001b[0m_imread\u001b[0m\u001b[1;33m)\u001b[0m\u001b[1;33m\u001b[0m\u001b[0m\n\u001b[0;32m   2214\u001b[0m \u001b[1;32mdef\u001b[0m \u001b[0mimread\u001b[0m\u001b[1;33m(\u001b[0m\u001b[1;33m*\u001b[0m\u001b[0margs\u001b[0m\u001b[1;33m,\u001b[0m \u001b[1;33m**\u001b[0m\u001b[0mkwargs\u001b[0m\u001b[1;33m)\u001b[0m\u001b[1;33m:\u001b[0m\u001b[1;33m\u001b[0m\u001b[0m\n\u001b[1;32m-> 2215\u001b[1;33m     \u001b[1;32mreturn\u001b[0m \u001b[0m_imread\u001b[0m\u001b[1;33m(\u001b[0m\u001b[1;33m*\u001b[0m\u001b[0margs\u001b[0m\u001b[1;33m,\u001b[0m \u001b[1;33m**\u001b[0m\u001b[0mkwargs\u001b[0m\u001b[1;33m)\u001b[0m\u001b[1;33m\u001b[0m\u001b[0m\n\u001b[0m\u001b[0;32m   2216\u001b[0m \u001b[1;33m\u001b[0m\u001b[0m\n\u001b[0;32m   2217\u001b[0m \u001b[1;33m\u001b[0m\u001b[0m\n",
      "\u001b[1;32m/home/epaxon/anaconda2/lib/python2.7/site-packages/matplotlib/image.pyc\u001b[0m in \u001b[0;36mimread\u001b[1;34m(fname, format)\u001b[0m\n\u001b[0;32m   1252\u001b[0m \u001b[1;33m\u001b[0m\u001b[0m\n\u001b[0;32m   1253\u001b[0m     \u001b[1;32mif\u001b[0m \u001b[0mext\u001b[0m \u001b[1;32mnot\u001b[0m \u001b[1;32min\u001b[0m \u001b[0mhandlers\u001b[0m\u001b[1;33m:\u001b[0m\u001b[1;33m\u001b[0m\u001b[0m\n\u001b[1;32m-> 1254\u001b[1;33m         \u001b[0mim\u001b[0m \u001b[1;33m=\u001b[0m \u001b[0mpilread\u001b[0m\u001b[1;33m(\u001b[0m\u001b[0mfname\u001b[0m\u001b[1;33m)\u001b[0m\u001b[1;33m\u001b[0m\u001b[0m\n\u001b[0m\u001b[0;32m   1255\u001b[0m         \u001b[1;32mif\u001b[0m \u001b[0mim\u001b[0m \u001b[1;32mis\u001b[0m \u001b[0mNone\u001b[0m\u001b[1;33m:\u001b[0m\u001b[1;33m\u001b[0m\u001b[0m\n\u001b[0;32m   1256\u001b[0m             raise ValueError('Only know how to handle extensions: %s; '\n",
      "\u001b[1;32m/home/epaxon/anaconda2/lib/python2.7/site-packages/matplotlib/image.pyc\u001b[0m in \u001b[0;36mpilread\u001b[1;34m(fname)\u001b[0m\n\u001b[0;32m   1232\u001b[0m             \u001b[1;31m# force close the file after reading the image\u001b[0m\u001b[1;33m\u001b[0m\u001b[1;33m\u001b[0m\u001b[0m\n\u001b[0;32m   1233\u001b[0m             \u001b[1;32mwith\u001b[0m \u001b[0mopen\u001b[0m\u001b[1;33m(\u001b[0m\u001b[0mfname\u001b[0m\u001b[1;33m,\u001b[0m \u001b[1;34m\"rb\"\u001b[0m\u001b[1;33m)\u001b[0m \u001b[1;32mas\u001b[0m \u001b[0mfh\u001b[0m\u001b[1;33m:\u001b[0m\u001b[1;33m\u001b[0m\u001b[0m\n\u001b[1;32m-> 1234\u001b[1;33m                 \u001b[0mimage\u001b[0m \u001b[1;33m=\u001b[0m \u001b[0mImage\u001b[0m\u001b[1;33m.\u001b[0m\u001b[0mopen\u001b[0m\u001b[1;33m(\u001b[0m\u001b[0mfh\u001b[0m\u001b[1;33m)\u001b[0m\u001b[1;33m\u001b[0m\u001b[0m\n\u001b[0m\u001b[0;32m   1235\u001b[0m                 \u001b[1;32mreturn\u001b[0m \u001b[0mpil_to_array\u001b[0m\u001b[1;33m(\u001b[0m\u001b[0mimage\u001b[0m\u001b[1;33m)\u001b[0m\u001b[1;33m\u001b[0m\u001b[0m\n\u001b[0;32m   1236\u001b[0m         \u001b[1;32melse\u001b[0m\u001b[1;33m:\u001b[0m\u001b[1;33m\u001b[0m\u001b[0m\n",
      "\u001b[1;32m/home/epaxon/anaconda2/lib/python2.7/site-packages/PIL/Image.pyc\u001b[0m in \u001b[0;36mopen\u001b[1;34m(fp, mode)\u001b[0m\n\u001b[0;32m   2254\u001b[0m         \u001b[0mfp\u001b[0m \u001b[1;33m=\u001b[0m \u001b[0mio\u001b[0m\u001b[1;33m.\u001b[0m\u001b[0mBytesIO\u001b[0m\u001b[1;33m(\u001b[0m\u001b[0mfp\u001b[0m\u001b[1;33m.\u001b[0m\u001b[0mread\u001b[0m\u001b[1;33m(\u001b[0m\u001b[1;33m)\u001b[0m\u001b[1;33m)\u001b[0m\u001b[1;33m\u001b[0m\u001b[0m\n\u001b[0;32m   2255\u001b[0m \u001b[1;33m\u001b[0m\u001b[0m\n\u001b[1;32m-> 2256\u001b[1;33m     \u001b[0mprefix\u001b[0m \u001b[1;33m=\u001b[0m \u001b[0mfp\u001b[0m\u001b[1;33m.\u001b[0m\u001b[0mread\u001b[0m\u001b[1;33m(\u001b[0m\u001b[1;36m16\u001b[0m\u001b[1;33m)\u001b[0m\u001b[1;33m\u001b[0m\u001b[0m\n\u001b[0m\u001b[0;32m   2257\u001b[0m \u001b[1;33m\u001b[0m\u001b[0m\n\u001b[0;32m   2258\u001b[0m     \u001b[0mpreinit\u001b[0m\u001b[1;33m(\u001b[0m\u001b[1;33m)\u001b[0m\u001b[1;33m\u001b[0m\u001b[0m\n",
      "\u001b[1;31mKeyboardInterrupt\u001b[0m: "
     ]
    }
   ],
   "source": [
    "reload(imut)\n",
    "patch_size=(20,20)\n",
    "tstart = time.time()\n",
    "impatches = imut.load_random_imnet_patches(100000, patch_size=patch_size)\n",
    "print \"Duration: \", time.time() - tstart\n"
   ]
  },
  {
   "cell_type": "code",
   "execution_count": null,
   "metadata": {
    "collapsed": false
   },
   "outputs": [],
   "source": [
    "import glob\n",
    "\n",
    "im_list = glob.glob('data/image_net/*')\n",
    "print len(im_list)"
   ]
  },
  {
   "cell_type": "code",
   "execution_count": null,
   "metadata": {
    "collapsed": false
   },
   "outputs": [],
   "source": [
    "\n",
    "figure(figsize=(16,8))\n",
    "nshow = 60\n",
    "maxrow=12\n",
    "for i in range(nshow):\n",
    "    ax=subplot(nshow//maxrow + 1, maxrow,i+1)\n",
    "    imshow(norm_range(impatches[:,:,:,i]))\n",
    "    ax.set_xticks([])\n",
    "    ax.set_yticks([])"
   ]
  },
  {
   "cell_type": "markdown",
   "metadata": {},
   "source": [
    "** Figure 1: Sample image patches from the database. **"
   ]
  },
  {
   "cell_type": "markdown",
   "metadata": {},
   "source": [
    "So, we are first going to turn all of our images into a matrix, just a sanity check to make shure the reshaping is done correctly."
   ]
  },
  {
   "cell_type": "code",
   "execution_count": null,
   "metadata": {
    "collapsed": false
   },
   "outputs": [],
   "source": [
    "impatchr = impatches.reshape((-1, impatches.shape[3]))\n",
    "impatchr -= impatchr.mean(axis=1)[:, np.newaxis]\n",
    "\n",
    "irec = impatchr[:, 13].reshape((impatches.shape[0], impatches.shape[1], impatches.shape[2]))\n",
    "\n",
    "subplot(121)\n",
    "imshow(norm_range(impatches[:,:,:,13]))\n",
    "subplot(122)\n",
    "imshow(norm_range(irec))"
   ]
  },
  {
   "cell_type": "code",
   "execution_count": null,
   "metadata": {
    "collapsed": false
   },
   "outputs": [],
   "source": [
    "impatchr.shape"
   ]
  },
  {
   "cell_type": "markdown",
   "metadata": {},
   "source": [
    "Next, we do PCA-ICA anlaysis (this is actually the same as what I do with calcium imaging and vsd imaging) to get the basis vectors. We will use a set of `ncomponents=400` basis vectors. "
   ]
  },
  {
   "cell_type": "code",
   "execution_count": null,
   "metadata": {
    "collapsed": false
   },
   "outputs": [],
   "source": [
    "\n",
    "ncomponents = 1000\n",
    "\n",
    "pca_encoder = TruncatedSVD(ncomponents)\n",
    "fica_encoder = FastICA(ncomponents)\n",
    "\n"
   ]
  },
  {
   "cell_type": "code",
   "execution_count": null,
   "metadata": {
    "collapsed": false
   },
   "outputs": [],
   "source": [
    "tstart = time.time()\n",
    "pca_encoder.fit(impatchr.T)\n",
    "print 'Duration: ', time.time() - tstart\n"
   ]
  },
  {
   "cell_type": "code",
   "execution_count": null,
   "metadata": {
    "collapsed": false
   },
   "outputs": [],
   "source": [
    "scores = pca_encoder.transform(impatchr.T)"
   ]
  },
  {
   "cell_type": "code",
   "execution_count": null,
   "metadata": {
    "collapsed": false
   },
   "outputs": [],
   "source": [
    "scores.shape"
   ]
  },
  {
   "cell_type": "markdown",
   "metadata": {},
   "source": [
    "scores is the image data in the pca basis space -- i.e. there are 10,000 images and 400 pc basis vectors. Lets look at the basis vectors."
   ]
  },
  {
   "cell_type": "code",
   "execution_count": null,
   "metadata": {
    "collapsed": false
   },
   "outputs": [],
   "source": [
    "pc_comp = pca_encoder.components_\n",
    "\n",
    "print pc_comp.shape\n",
    "\n",
    "pc_comp_ims = pc_comp.T.reshape((impatches.shape[0], impatches.shape[1], impatches.shape[2], -1))"
   ]
  },
  {
   "cell_type": "code",
   "execution_count": null,
   "metadata": {
    "collapsed": false
   },
   "outputs": [],
   "source": [
    "figure(figsize=(32,16))\n",
    "nshow = 240\n",
    "maxrow = 24\n",
    "for i in range(nshow):\n",
    "    ax=subplot(nshow//maxrow+1,maxrow,i+1)\n",
    "    imshow(norm_range(pc_comp_ims[:,:,:,i+0]))\n",
    "    ax.set_xticks([])\n",
    "    ax.set_yticks([])\n"
   ]
  },
  {
   "cell_type": "markdown",
   "metadata": {},
   "source": [
    "** Figure 2: Basis images of top PCA components**\n",
    "\n",
    "So, to get a sparse basis, we perform ICA on the image data (we used the dimensionality-reduced image data). This will actually give us just a linear projection of the same set of basis vectors that the PCA analysis provides. This means that the reconstruction of the image from either the PCA or ICA basis vectors should be exactly the same. "
   ]
  },
  {
   "cell_type": "code",
   "execution_count": null,
   "metadata": {
    "collapsed": false
   },
   "outputs": [],
   "source": [
    "tstart = time.time()\n",
    "which_pcs = np.arange(400)\n",
    "fica_encoder.fit(scores[:,which_pcs])\n",
    "print 'Duration: ', time.time() - tstart\n"
   ]
  },
  {
   "cell_type": "code",
   "execution_count": null,
   "metadata": {
    "collapsed": false
   },
   "outputs": [],
   "source": [
    "ic_scores = fica_encoder.transform(scores[:1000,which_pcs])"
   ]
  },
  {
   "cell_type": "code",
   "execution_count": null,
   "metadata": {
    "collapsed": false
   },
   "outputs": [],
   "source": [
    "pc_scores = scores[:ic_scores.shape[0], :ic_scores.shape[1]]\n"
   ]
  },
  {
   "cell_type": "code",
   "execution_count": null,
   "metadata": {
    "collapsed": false
   },
   "outputs": [],
   "source": [
    "ic_scores.shape"
   ]
  },
  {
   "cell_type": "code",
   "execution_count": null,
   "metadata": {
    "collapsed": false
   },
   "outputs": [],
   "source": [
    "ic_comp = fica_encoder.components_\n",
    "ic_comp /= ic_comp.std(axis=0)\n",
    "ic_comp = np.dot(ic_comp, pc_comp[which_pcs,:])\n",
    "print ic_comp.shape"
   ]
  },
  {
   "cell_type": "markdown",
   "metadata": {},
   "source": [
    "Here is what some of the ICA basis vectors look like. We get a bunch of cool Gabor filters and color opponency edges."
   ]
  },
  {
   "cell_type": "code",
   "execution_count": null,
   "metadata": {
    "collapsed": false
   },
   "outputs": [],
   "source": [
    "ic_comp_ims = ic_comp.T.reshape((impatches.shape[0], impatches.shape[1], impatches.shape[2], -1))\n",
    "figure(figsize=(32,16))\n",
    "nshow = 240\n",
    "maxrow = 24\n",
    "for i in range(nshow):\n",
    "    ax=subplot(nshow//maxrow,maxrow,i+1)\n",
    "    imshow(norm_range(ic_comp_ims[:,:,:,i+0]))\n",
    "    ax.set_xticks([])\n",
    "    ax.set_yticks([])\n",
    "    ax.set_frame_on(False)\n",
    "    \n",
    "plt.tight_layout()"
   ]
  },
  {
   "cell_type": "markdown",
   "metadata": {},
   "source": [
    "** Figure 3: Sample of ICA basis vectors **\n",
    "\n",
    "We can use these basis vectors to then represent an image. We just get a new random patch from the data base and use a linear regression (there are probably slightly better things than this, but not the point) of the image with the basis vectors to get a histogram of coefficients for each vector and that is the `pc_code` or `ic_code` that represents the image. Here is an image encoded into the basis and reconstructed, as well as the histogram of the coefficients (note we take out the mean of the image, which occasionally makes things look different because of renormalization)."
   ]
  },
  {
   "cell_type": "code",
   "execution_count": null,
   "metadata": {
    "collapsed": false
   },
   "outputs": [],
   "source": [
    "nrecon = 16\n",
    "impatch = imut.load_random_imnet_patches(nrecon, patch_size)\n",
    "#impatch = impatches[:,:,:,58]\n",
    "impatchr = impatch.reshape((-1, nrecon))\n",
    "impatchr -= impatchr.mean(axis=1)[:, np.newaxis]\n",
    "\n",
    "ic_c = linalg.lstsq(ic_comp.T, impatchr)\n",
    "pc_c = linalg.lstsq(pc_comp[which_pcs,:].T, impatchr)\n",
    "ic_code = ic_c[0].T\n",
    "pc_code = pc_c[0].T"
   ]
  },
  {
   "cell_type": "code",
   "execution_count": null,
   "metadata": {
    "collapsed": false
   },
   "outputs": [],
   "source": [
    "ic_code.shape"
   ]
  },
  {
   "cell_type": "code",
   "execution_count": null,
   "metadata": {
    "collapsed": false
   },
   "outputs": [],
   "source": [
    "\n",
    "\n",
    "figure(figsize=(32, 10))\n",
    "\n",
    "for imx in range(nrecon):\n",
    "    \n",
    "    ax = subplot(5, nrecon, imx + 1)\n",
    "    imp = impatchr[:,imx].reshape(patch_size[0], patch_size[1], 3)\n",
    "    imshow(norm_range(imp))\n",
    "    ax.set_xticks([])\n",
    "    ax.set_yticks([])\n",
    "    \n",
    "    ax = subplot(5, nrecon, imx + 1 + nrecon)\n",
    "    ic_recon = np.dot(ic_code[imx,:], ic_comp)\n",
    "    ic_reconr = ic_recon.reshape(patch_size[0], patch_size[1], 3)\n",
    "    imshow(norm_range(ic_reconr))\n",
    "    ax.set_xticks([])\n",
    "    ax.set_yticks([])\n",
    "    \n",
    "    \n",
    "    ax = subplot(5, nrecon, imx + 1 + 2*nrecon)\n",
    "    plot(ic_code[imx,:].T/norm(ic_code[imx, :]))\n",
    "    ax.set_xticks([])\n",
    "    ax.set_ylim([-0.5, 0.5])\n",
    "    if imx > 0:\n",
    "        ax.set_yticks([])\n",
    "\n",
    "    ax = subplot(5, nrecon, imx + 1 + 3*nrecon)\n",
    "    pc_recon = np.dot(pc_code[imx,:], pc_comp[which_pcs,:])\n",
    "    pc_reconr = pc_recon.reshape(patch_size[0], patch_size[1], 3)\n",
    "    imshow(norm_range(pc_reconr))\n",
    "    ax.set_xticks([])\n",
    "    ax.set_yticks([])\n",
    "    \n",
    "    ax = subplot(5, nrecon, imx + 1 + 4*nrecon)\n",
    "    plot(pc_code[imx,:].T/norm(pc_code[imx, :]))\n",
    "    ax.set_xticks([])\n",
    "    ax.set_ylim([-0.5, 0.5])\n",
    "    if imx > 0:\n",
    "        ax.set_yticks([])\n"
   ]
  },
  {
   "cell_type": "markdown",
   "metadata": {},
   "source": [
    "** Figure 4: PCA and ICA vector encoding of new image patches. ** Top row: original image. Second row: ICA basis reconstruction of the image. Third row: histogram of ICA basis coefficients. Fourth row: PCA basis reconstruction of image. Bottom row: histogram of PCA basis coefficients.\n",
    "\n"
   ]
  },
  {
   "cell_type": "code",
   "execution_count": null,
   "metadata": {
    "collapsed": false
   },
   "outputs": [],
   "source": [
    "np.allclose(ic_recon, pc_recon)"
   ]
  },
  {
   "cell_type": "code",
   "execution_count": null,
   "metadata": {
    "collapsed": false
   },
   "outputs": [],
   "source": [
    "figure(figsize=(16, 8))\n",
    "\n",
    "ic_ex = 2*arange(5)+1\n",
    "nrows = 3 + len(ic_ex)\n",
    "for imx in range(nrecon):\n",
    "    \n",
    "    ax = subplot(nrows, nrecon, imx + 1)\n",
    "    imp = impatchr[:,imx].reshape(patch_size[0], patch_size[1], 3)\n",
    "    imshow(norm_range(imp))\n",
    "    ax.set_xticks([])\n",
    "    ax.set_yticks([])\n",
    "    \n",
    "    ax = subplot(nrows, nrecon, imx + 1 + nrecon)\n",
    "    ic_recon = np.dot(ic_code[imx,:], ic_comp)\n",
    "    ic_reconr = ic_recon.reshape(patch_size[0], patch_size[1], 3)\n",
    "    imshow(norm_range(ic_reconr))\n",
    "    ax.set_xticks([])\n",
    "    ax.set_yticks([])\n",
    "    \n",
    "    \n",
    "    ax = subplot(nrows, nrecon, imx + 1 + 2*nrecon)\n",
    "    plot(ic_code[imx,:].T/norm(ic_code[imx, :]))\n",
    "    ax.set_xticks([])\n",
    "    ax.set_ylim([-0.5, 0.5])\n",
    "    if imx > 0:\n",
    "        ax.set_yticks([])\n",
    "\n",
    "          \n",
    "    idx_max = np.argsort(abs(ic_code[imx,:]))\n",
    "  \n",
    "    for ici,icx in enumerate(ic_ex):\n",
    "        ax = subplot(nrows, nrecon, imx + 1 + (3+ici)*nrecon)\n",
    "        ic_compr = ic_comp[idx_max[-icx],:].reshape(patch_size[0], patch_size[1], 3) \n",
    "        ic_compr = ic_compr * ic_code[imx, idx_max[-icx]] # this just flips it if its negative\n",
    "        imshow(norm_range(ic_compr))\n",
    "        ax.set_xticks([])\n",
    "        ax.set_yticks([])\n",
    "    \n"
   ]
  },
  {
   "cell_type": "markdown",
   "metadata": {},
   "source": [
    "** Figure 5: Maximum ICA component visualization. ** Top three rows: same as Figure 4. Bottom rows: The component with the top coefficients that encodes the image and is displayed.\n",
    "\n",
    "Pretty surprisingly, 7/10 of the images have the same largest ICA component (some are dark blueish some bright yellowish, because of negative sign). This seems to be one of the primary color/light-dark opponenecy components. "
   ]
  },
  {
   "cell_type": "markdown",
   "metadata": {},
   "source": [
    "Next, we encode the basis histograms into the hypervector, and we will encode a sequence of images using trajectory-association. "
   ]
  },
  {
   "cell_type": "code",
   "execution_count": null,
   "metadata": {
    "collapsed": false
   },
   "outputs": [],
   "source": [
    "N = 1e5\n",
    "ic_hyperpatch = 2*(np.random.randn(len(which_pcs), int(N)) < 0) - 1\n",
    "pc_hyperpatch = 2*(np.random.randn(len(which_pcs), int(N)) < 0) - 1\n",
    "\n",
    "Mmax = 500\n",
    "test_ims = imut.load_random_imnet_patches(Mmax, patch_size)\n",
    "\n",
    "test_imr = test_ims.reshape((-1, Mmax))\n",
    "test_imr = test_imr - test_imr.mean(axis=1)[:, np.newaxis]\n",
    "\n",
    "ic_c = linalg.lstsq(ic_comp.T, test_imr)\n",
    "pc_c = linalg.lstsq(pc_comp[which_pcs,:].T, test_imr)\n",
    "\n",
    "ic_code = ic_c[0].T\n",
    "pc_code = pc_c[0].T\n",
    "\n",
    "print ic_code.shape"
   ]
  },
  {
   "cell_type": "code",
   "execution_count": null,
   "metadata": {
    "collapsed": false
   },
   "outputs": [],
   "source": [
    "K = 1\n",
    "\n",
    "ic_hyperimage = np.zeros(N)\n",
    "pc_hyperimage = np.zeros(N)\n",
    "\n",
    "ic_decode = np.zeros_like(ic_code)\n",
    "pc_decode = np.zeros_like(pc_code)\n",
    "\n",
    "ic_decode1 = np.zeros_like(ic_code)\n",
    "pc_decode1 = np.zeros_like(pc_code)\n",
    "\n",
    "for imx in range(Mmax):\n",
    "    ic_hypercode = np.dot(ic_code[imx, :] / norm(ic_code[imx,:]), ic_hyperpatch)\n",
    "    pc_hypercode = np.dot(pc_code[imx, :] / norm(pc_code[imx,:]), pc_hyperpatch)\n",
    "        \n",
    "    ic_hyperimage = np.roll(ic_hyperimage, 1) + ic_hypercode\n",
    "    pc_hyperimage = np.roll(pc_hyperimage, 1) + pc_hypercode\n",
    "    \n",
    "    ic_decode[imx, :] = np.dot(ic_hyperpatch, np.roll(ic_hyperimage, -K).T)\n",
    "    pc_decode[imx, :] = np.dot(pc_hyperpatch, np.roll(pc_hyperimage, -K).T)\n",
    "\n",
    "    ic_decode1[imx, :] = np.dot(ic_hyperpatch, np.roll(ic_hyperimage, -imx+K).T)\n",
    "    pc_decode1[imx, :] = np.dot(pc_hyperpatch, np.roll(pc_hyperimage, -imx+K).T)\n",
    "    "
   ]
  },
  {
   "cell_type": "code",
   "execution_count": null,
   "metadata": {
    "collapsed": false
   },
   "outputs": [],
   "source": [
    "\n",
    "m_samp = np.round(linspace(1, 300, 20))\n",
    "\n",
    "figure(figsize=(32,7))\n",
    "for ix,imx in enumerate(m_samp):\n",
    "    \n",
    "    ax = subplot(4, len(m_samp), ix+1)\n",
    "    imshow(norm_range(test_ims[:,:,:,imx]))\n",
    "    ax.set_xticks([])\n",
    "    ax.set_yticks([])\n",
    "    \n",
    "    ax = subplot(4, len(m_samp), ix+1+len(m_samp))\n",
    "    recon = np.dot(ic_code[imx,:], ic_comp)\n",
    "    reconr = recon.reshape(patch_size[0], patch_size[1], 3)\n",
    "    imshow(norm_range(reconr))\n",
    "    ax.set_xticks([])\n",
    "    ax.set_yticks([])\n",
    "    \n",
    "    ax = subplot(4, len(m_samp), ix+1+2*len(m_samp))\n",
    "    recon = np.dot(ic_decode[imx+K,:], ic_comp)\n",
    "    reconr = recon.reshape(patch_size[0], patch_size[1], 3)\n",
    "    imshow(norm_range(reconr))\n",
    "    ax.set_xticks([])\n",
    "    ax.set_yticks([])\n",
    "    \n",
    "    ax = subplot(4, len(m_samp), ix+1+3*len(m_samp))\n",
    "    recon = np.dot(pc_decode[imx+K,:], pc_comp[which_pcs,:])\n",
    "    reconr = recon.reshape(patch_size[0], patch_size[1], 3)\n",
    "    imshow(norm_range(reconr))\n",
    "    ax.set_xticks([])\n",
    "    ax.set_yticks([])\n",
    "    \n",
    "    ax.set_xlabel(str(int(imx)))"
   ]
  },
  {
   "cell_type": "markdown",
   "metadata": {},
   "source": [
    "** Figure 6: Recall of the K=1 most recently stored image. ** Top row: original image. Middle row: direct reconstruction of image from component basis. Third row: decoded reconstruction of the image from hypervector with ICA basis. Bottom row: decoded reconstruction of the image of image from hypervector with PCA basis. Numbers at bottom indicate total number of images stored in the hypervector (minus 1). "
   ]
  },
  {
   "cell_type": "code",
   "execution_count": null,
   "metadata": {
    "collapsed": false
   },
   "outputs": [],
   "source": [
    "\n",
    "m_samp = np.round(linspace(50, 70, 20))\n",
    "\n",
    "figure(figsize=(32,7))\n",
    "for ix,imx in enumerate(m_samp):\n",
    "    \n",
    "    ax = subplot(4, len(m_samp), ix+1)\n",
    "    imshow(norm_range(test_ims[:,:,:,imx]))\n",
    "    ax.set_xticks([])\n",
    "    ax.set_yticks([])\n",
    "    \n",
    "    ax = subplot(4, len(m_samp), ix+1+len(m_samp))\n",
    "    recon = np.dot(ic_code[imx,:], ic_comp)\n",
    "    reconr = recon.reshape(patch_size[0], patch_size[1], 3)\n",
    "    imshow(norm_range(reconr))\n",
    "    ax.set_xticks([])\n",
    "    ax.set_yticks([])\n",
    "    \n",
    "    ax = subplot(4, len(m_samp), ix+1+2*len(m_samp))\n",
    "    recon = np.dot(ic_decode[imx+K,:], ic_comp)/N\n",
    "    reconr = recon.reshape(patch_size[0], patch_size[1], 3)\n",
    "    imshow(norm_range(reconr))\n",
    "    ax.set_xticks([])\n",
    "    ax.set_yticks([])\n",
    "    \n",
    "    ax = subplot(4, len(m_samp), ix+1+3*len(m_samp))\n",
    "    recon = np.dot(pc_decode[imx+K,:], pc_comp[which_pcs,:])/N\n",
    "    reconr = recon.reshape(patch_size[0], patch_size[1], 3)\n",
    "    imshow(norm_range(reconr))\n",
    "    ax.set_xticks([])\n",
    "    ax.set_yticks([])\n",
    "    \n",
    "    ax.set_xlabel(str(int(imx)))"
   ]
  },
  {
   "cell_type": "code",
   "execution_count": null,
   "metadata": {
    "collapsed": false
   },
   "outputs": [],
   "source": [
    "\n",
    "m_samp = np.round(linspace(1, 300, 20))\n",
    "\n",
    "figure(figsize=(32,3.5))\n",
    "for ix,imx in enumerate(m_samp):\n",
    "    \n",
    "    ax = subplot(2, len(m_samp), ix+1+0*len(m_samp))\n",
    "    recon = np.dot(ic_decode1[imx+K,:], ic_comp)\n",
    "    reconr = recon.reshape(patch_size[0], patch_size[1], 3)\n",
    "    imshow(norm_range(reconr))\n",
    "    ax.set_xticks([])\n",
    "    ax.set_yticks([])\n",
    "    \n",
    "    ax = subplot(2, len(m_samp), ix+1+1*len(m_samp))\n",
    "    recon = np.dot(pc_decode1[imx+K,:], pc_comp[which_pcs,:])\n",
    "    reconr = recon.reshape(patch_size[0], patch_size[1], 3)\n",
    "    imshow(norm_range(reconr))\n",
    "    ax.set_xticks([])\n",
    "    ax.set_yticks([])\n",
    "    \n",
    "    ax.set_xlabel(str(int(imx)))"
   ]
  },
  {
   "cell_type": "code",
   "execution_count": null,
   "metadata": {
    "collapsed": false
   },
   "outputs": [],
   "source": [
    "\n",
    "m_samp = np.round(linspace(50, 70, 20))\n",
    "\n",
    "figure(figsize=(32,3.5))\n",
    "for ix,imx in enumerate(m_samp):\n",
    "    \n",
    "    ax = subplot(2, len(m_samp), ix+1+0*len(m_samp))\n",
    "    recon = np.dot(ic_decode1[imx+K,:], ic_comp)\n",
    "    reconr = recon.reshape(patch_size[0], patch_size[1], 3)\n",
    "    imshow(norm_range(reconr))\n",
    "    ax.set_xticks([])\n",
    "    ax.set_yticks([])\n",
    "    \n",
    "    ax = subplot(2, len(m_samp), ix+1+1*len(m_samp))\n",
    "    recon = np.dot(pc_decode1[imx+K,:], pc_comp[which_pcs,:])\n",
    "    reconr = recon.reshape(patch_size[0], patch_size[1], 3)\n",
    "    imshow(norm_range(reconr))\n",
    "    ax.set_xticks([])\n",
    "    ax.set_yticks([])\n",
    "    \n",
    "    ax.set_xlabel(str(int(imx)))"
   ]
  },
  {
   "cell_type": "markdown",
   "metadata": {},
   "source": [
    "** Figure 7: Recall of the second encoded image with increased images stored. ** Top row: decoded reconstruction of the image from hypervector with ICA basis. Bottom row: decoded reconstruction of the image of image from hypervector with PCA basis. Numbers at bottom indicate total number of images stored in the hypervector (minus 1). \n",
    "\n"
   ]
  },
  {
   "cell_type": "code",
   "execution_count": null,
   "metadata": {
    "collapsed": false
   },
   "outputs": [],
   "source": [
    "ic_ncode = ic_code / norm(ic_code, axis=1)[:, np.newaxis]\n",
    "pc_ncode = pc_code / norm(pc_code, axis=1)[:, np.newaxis]\n",
    "\n",
    "ic_error = np.sum((ic_ncode[0:(-K),:]-ic_decode[K:,:]/N)**2, axis=1)**0.5\n",
    "pc_error = np.sum((pc_ncode[0:(-K),:]-pc_decode[K:,:]/N)**2, axis=1)**0.5\n",
    "\n",
    "plot(ic_error.T)\n",
    "plot(pc_error.T)\n"
   ]
  },
  {
   "cell_type": "code",
   "execution_count": 3,
   "metadata": {
    "collapsed": false
   },
   "outputs": [
    {
     "data": {
      "text/plain": [
       "[<matplotlib.lines.Line2D at 0x7f47efcec710>]"
      ]
     },
     "execution_count": 3,
     "metadata": {},
     "output_type": "execute_result"
    },
    {
     "data": {
      "image/png": "[encoded data removed]",
      "text/plain": [
       "<matplotlib.figure.Figure at 0x7f47efcec7d0>"
      ]
     },
     "metadata": {},
     "output_type": "display_data"
    }
   ],
   "source": [
    "M = arange(500)+1\n",
    "D = 300\n",
    "N = 1e5\n",
    "\n",
    "plot(M, np.sqrt(D * (M-1) / N))"
   ]
  },
  {
   "cell_type": "code",
   "execution_count": null,
   "metadata": {
    "collapsed": false
   },
   "outputs": [],
   "source": [
    "recon = np.dot(ic_code, ic_comp)\n",
    "\n",
    "ic_recon = np.dot(ic_decode, ic_comp)\n",
    "pc_recon = np.dot(pc_decode, pc_comp[which_pcs, :])\n",
    "\n",
    "for i in arange(ic_recon.shape[0]):\n",
    "    recon[i,:] = norm_range(recon[i,:])\n",
    "    ic_recon[i,:] = norm_range(ic_recon[i,:])\n",
    "    pc_recon[i,:] = norm_range(pc_recon[i,:])\n",
    "    \n",
    "\n",
    "ic_rerror = np.sum((recon[0:(-K),:]-ic_recon[K:,:])**2, axis=1)**0.5\n",
    "pc_rerror = np.sum((recon[0:(-K),:]-pc_recon[K:,:])**2, axis=1)**0.5\n",
    "\n",
    "\n",
    "smoothN = 5\n",
    "plot(np.convolve(ic_rerror.T, np.ones(smoothN)/smoothN, mode='same'))\n",
    "plot(np.convolve(pc_rerror.T, np.ones(smoothN)/smoothN, mode='same'))"
   ]
  },
  {
   "cell_type": "code",
   "execution_count": null,
   "metadata": {
    "collapsed": false
   },
   "outputs": [],
   "source": [
    "hist_idx = 4\n",
    "figure(figsize=(10,4))\n",
    "subplot(121)\n",
    "plot(ic_ncode[hist_idx,:])\n",
    "plot(ic_decode[hist_idx+K,:]/N)\n",
    "title(np.sum(abs(ic_ncode[hist_idx,:]) * np.log2(abs(ic_ncode[hist_idx,:])/len(which_pcs))))\n",
    "\n",
    "ylim([-0.8, 0.8])\n",
    "subplot(122)\n",
    "plot(pc_ncode[hist_idx,:])\n",
    "plot(pc_decode[hist_idx+K,:]/N)\n",
    "ylim([-0.8, 0.8])\n",
    "title(np.sum(abs(pc_ncode[hist_idx,:]) * np.log2(abs(pc_ncode[hist_idx,:])/len(which_pcs))))"
   ]
  },
  {
   "cell_type": "code",
   "execution_count": null,
   "metadata": {
    "collapsed": false
   },
   "outputs": [],
   "source": [
    "ic_code_info = np.zeros(ic_ncode.shape[0])\n",
    "pc_code_info = np.zeros(pc_ncode.shape[0])\n",
    "\n",
    "for i in range(ic_ncode.shape[0]):\n",
    "    ic_code_info[i] = -np.sum(abs(ic_ncode[i,:]) * np.log2(abs(ic_ncode[i,:])/len(which_pcs)))\n",
    "    pc_code_info[i] = -np.sum(abs(pc_ncode[i,:]) * np.log2(abs(pc_ncode[i,:])/len(which_pcs)))\n",
    "       \n",
    "sidx = np.argsort(ic_code_info)\n",
    "plot(ic_code_info[sidx], 'b')\n",
    "plot(pc_code_info[sidx], 'g')\n",
    "plot([0, 500], 2*[np.mean(ic_code_info)], 'b', lw=3)\n",
    "plot([0, 500], 2*[np.mean(pc_code_info)], 'g', lw=3)"
   ]
  },
  {
   "cell_type": "code",
   "execution_count": null,
   "metadata": {
    "collapsed": false
   },
   "outputs": [],
   "source": [
    "ntop = 12\n",
    "\n",
    "figure(figsize=(32,4))\n",
    "\n",
    "for i in range(ntop):\n",
    "    ax=subplot(2,ntop,i+1)\n",
    "    imshow(test_ims[:,:,:,sidx[i]])\n",
    "    ax.set_xticks([])\n",
    "    ax.set_yticks([])\n",
    "    ax=subplot(2,ntop,i+ntop+1)\n",
    "    imshow(test_ims[:,:,:,sidx[-i-1]])\n",
    "    ax.set_xticks([])\n",
    "    ax.set_yticks([])"
   ]
  },
  {
   "cell_type": "code",
   "execution_count": null,
   "metadata": {
    "collapsed": false
   },
   "outputs": [],
   "source": [
    "ic_scores_info = np.zeros(ic_scores.shape[0])\n",
    "pc_scores_info = np.zeros(pc_scores.shape[0])\n",
    "\n",
    "for i in range(ic_scores.shape[0]):\n",
    "    ic_scores_info[i] = -np.sum(abs(ic_scores[i,:]/norm(ic_scores[i,:])) * np.log2(abs(ic_scores[i,:]/norm(ic_scores[i,:]))/len(which_pcs)))\n",
    "    pc_scores_info[i] = -np.sum(abs(pc_scores[i,:]/norm(pc_scores[i,:])) * np.log2(abs(pc_scores[i,:]/norm(pc_scores[i,:]))/len(which_pcs)))\n",
    "       \n",
    "sidx = np.argsort(pc_scores_info)\n",
    "plot(ic_scores_info[sidx], 'b')\n",
    "plot(pc_scores_info[sidx], 'g')\n",
    "\n",
    "#plot(ic_scores_info, 'b')\n",
    "#plot(pc_scores_info, 'g')\n",
    "\n",
    "plot([0, ic_scores.shape[0]], 2*[np.mean(ic_scores_info)], 'b', lw=3)\n",
    "plot([0, pc_scores.shape[0]], 2*[np.mean(pc_scores_info)], 'g', lw=3)"
   ]
  },
  {
   "cell_type": "code",
   "execution_count": null,
   "metadata": {
    "collapsed": false
   },
   "outputs": [],
   "source": [
    "plot(ic_scores[100,:])"
   ]
  },
  {
   "cell_type": "code",
   "execution_count": null,
   "metadata": {
    "collapsed": false
   },
   "outputs": [],
   "source": [
    "ntop = 12\n",
    "\n",
    "figure(figsize=(32,4))\n",
    "\n",
    "for i in range(ntop):\n",
    "    ax=subplot(2,ntop,i+1)\n",
    "    imshow(norm_range(impatches[:,:,:,sidx[i]]))\n",
    "    ax.set_xticks([])\n",
    "    ax.set_yticks([])\n",
    "    ax=subplot(2,ntop,i+ntop+1)\n",
    "    imshow(norm_range(impatches[:,:,:,sidx[-i-1]]))\n",
    "    ax.set_xticks([])\n",
    "    ax.set_yticks([])"
   ]
  },
  {
   "cell_type": "code",
   "execution_count": null,
   "metadata": {
    "collapsed": false
   },
   "outputs": [],
   "source": [
    "recon = np.dot(ic_code, ic_comp)\n",
    "\n",
    "ic_recon = np.dot(ic_decode, ic_comp)\n",
    "pc_recon = np.dot(pc_decode, pc_comp[which_pcs, :])\n",
    "\n",
    "for i in arange(ic_recon.shape[0]):\n",
    "    recon[i,:] = norm_range(recon[i,:])\n",
    "    ic_recon[i,:] = norm_range(ic_recon[i,:])\n",
    "    pc_recon[i,:] = norm_range(pc_recon[i,:])\n",
    "    \n",
    "\n",
    "ic_rerror = np.sum((recon[0:(-K),:]-ic_recon[K:,:])**2, axis=1)**0.5\n",
    "pc_rerror = np.sum((recon[0:(-K),:]-pc_recon[K:,:])**2, axis=1)**0.5\n",
    "\n",
    "plot(ic_rerror.T)\n",
    "plot(pc_rerror.T)"
   ]
  },
  {
   "cell_type": "code",
   "execution_count": null,
   "metadata": {
    "collapsed": false
   },
   "outputs": [],
   "source": [
    "ic_recon.shape"
   ]
  },
  {
   "cell_type": "code",
   "execution_count": null,
   "metadata": {
    "collapsed": true
   },
   "outputs": [],
   "source": []
  },
  {
   "cell_type": "code",
   "execution_count": null,
   "metadata": {
    "collapsed": false
   },
   "outputs": [],
   "source": [
    "def test_hyperimage_capacity(test_ims, N):\n",
    "\n",
    "    K = 1\n",
    "\n",
    "    ic_hyperpatch = 2*(np.random.randn(len(which_pcs), int(N)) < 0) - 1\n",
    "    pc_hyperpatch = 2*(np.random.randn(len(which_pcs), int(N)) < 0) - 1\n",
    "\n",
    "    Mmax = test_ims.shape[3]\n",
    "\n",
    "    test_imr = test_ims.reshape((-1, Mmax))\n",
    "    test_imr = test_imr - test_imr.mean(axis=1)[:, np.newaxis]\n",
    "\n",
    "    ic_c = linalg.lstsq(ic_comp.T, test_imr)\n",
    "    pc_c = linalg.lstsq(pc_comp[which_pcs,:].T, test_imr)\n",
    "\n",
    "    ic_code = ic_c[0].T\n",
    "    pc_code = pc_c[0].T\n",
    "\n",
    "    ic_hyperimage = np.zeros(N)\n",
    "    pc_hyperimage = np.zeros(N)\n",
    "\n",
    "    ic_decode = np.zeros_like(ic_code)\n",
    "    pc_decode = np.zeros_like(pc_code)\n",
    "\n",
    "    ic_decode1 = np.zeros_like(ic_code)\n",
    "    pc_decode1 = np.zeros_like(pc_code)\n",
    "\n",
    "    for imx in range(Mmax):\n",
    "        ic_hypercode = np.dot(ic_code[imx, :] / norm(ic_code[imx,:]), ic_hyperpatch)\n",
    "        pc_hypercode = np.dot(pc_code[imx, :] / norm(pc_code[imx,:]), pc_hyperpatch)\n",
    "\n",
    "        ic_hyperimage = np.roll(ic_hyperimage, 1) + ic_hypercode\n",
    "        pc_hyperimage = np.roll(pc_hyperimage, 1) + pc_hypercode\n",
    "\n",
    "        ic_decode[imx, :] = np.dot(ic_hyperpatch, np.roll(ic_hyperimage, -K).T)\n",
    "        pc_decode[imx, :] = np.dot(pc_hyperpatch, np.roll(pc_hyperimage, -K).T)\n",
    "\n",
    "        ic_decode1[imx, :] = np.dot(ic_hyperpatch, np.roll(ic_hyperimage, -imx+K).T)\n",
    "        pc_decode1[imx, :] = np.dot(pc_hyperpatch, np.roll(pc_hyperimage, -imx+K).T)\n",
    "\n",
    "    return ic_code, pc_code, ic_decode, pc_decode, ic_decode1, pc_decode1\n"
   ]
  },
  {
   "cell_type": "code",
   "execution_count": null,
   "metadata": {
    "collapsed": false
   },
   "outputs": [],
   "source": [
    "test_N = [1e5, 2e5, 4e5, 8e5, 16e5, 32e5]\n",
    "\n",
    "test_ims = imut.load_random_imnet_patches(2000, patch_size)\n",
    "\n",
    "ic_code_all = []\n",
    "pc_code_all = []\n",
    "ic_decode_all = []\n",
    "pc_decode_all = []\n",
    "ic_decode1_all = []\n",
    "pc_decode1_all = []\n",
    "\n",
    "for iN, Nv in enumerate(test_N):\n",
    "    print Nv,\n",
    "    tstart = time.time()\n",
    "    icc, pcc, icd, pcd, ic1, pc1 = test_hyperimage_capacity(test_ims, Nv)\n",
    "    print 'Duration: ', time.time() - tstart\n",
    "    \n",
    "    ic_code_all.append(icc)\n",
    "    pc_code_all.append(pcc)\n",
    "    ic_decode_all.append(icd)\n",
    "    pc_decode_all.append(pcd)\n",
    "    ic_decode1_all.append(ic1)\n",
    "    pc_decode1_all.append(pc1)\n",
    "    \n",
    "filename = 'data/hyperimage_capacity-nN=' + str(len(test_N)) + '-n' + + time.strftime('%y%m%d') + '.npz'\n",
    "np.savez(filename, ic_code_all=ic_code_all, pc_code_all=pc_code_all, ic_decode_all=ic_decode_all, pc_decode_all=pc_decode_all,\n",
    "        ic_decode1_all=ic_decode1_all, pc_decode1_all=pc_decode1_all)\n",
    "print filename"
   ]
  },
  {
   "cell_type": "code",
   "execution_count": null,
   "metadata": {
    "collapsed": true
   },
   "outputs": [],
   "source": []
  },
  {
   "cell_type": "code",
   "execution_count": null,
   "metadata": {
    "collapsed": true
   },
   "outputs": [],
   "source": []
  }
 ],
 "metadata": {
  "kernelspec": {
   "display_name": "Python 2",
   "language": "python",
   "name": "python2"
  },
  "language_info": {
   "codemirror_mode": {
    "name": "ipython",
    "version": 2
   },
   "file_extension": ".py",
   "mimetype": "text/x-python",
   "name": "python",
   "nbconvert_exporter": "python",
   "pygments_lexer": "ipython2",
   "version": "2.7.11"
  }
 },
 "nbformat": 4,
 "nbformat_minor": 0
}
