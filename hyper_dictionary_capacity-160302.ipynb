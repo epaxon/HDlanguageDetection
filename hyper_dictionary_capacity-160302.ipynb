{
 "cells": [
  {
   "cell_type": "markdown",
   "metadata": {},
   "source": [
    "# Estimating the capacity of a hyperdictionary/hypervector\n",
    "\n",
    "There is likely a nice mathematical way to estimate how many categories a hypervector can store, given that each category is just a random projection. Since our hyper vectors are (50%/50%, +1/-1), there is a certain amount and probability of overlap. \n",
    "\n",
    "We force the hypervectors to have exactly 50/50 +1/-1, but it may be easier to think of them as independent.\n",
    "\n",
    "If we have just two N-D hypervectors like this, then the probability of overlap is just flipping a coin for each N:\n",
    "\n"
   ]
  },
  {
   "cell_type": "code",
   "execution_count": 2,
   "metadata": {
    "collapsed": false
   },
   "outputs": [
    {
     "name": "stdout",
     "output_type": "stream",
     "text": [
      "height has been deprecated.\n",
      "\n",
      "2016-02-02 14:02\n"
     ]
    }
   ],
   "source": [
    "\n",
    "import random_idx\n",
    "import utils\n",
    "import pickle\n",
    "\n",
    "from pylab import *\n",
    "\n",
    "%matplotlib inline"
   ]
  },
  {
   "cell_type": "code",
   "execution_count": 3,
   "metadata": {
    "collapsed": false
   },
   "outputs": [],
   "source": [
    "n, p = 1000, 0.5\n",
    "trials = 10000\n",
    "s = np.random.binomial(n, p, trials)"
   ]
  },
  {
   "cell_type": "code",
   "execution_count": 4,
   "metadata": {
    "collapsed": false
   },
   "outputs": [
    {
     "data": {
      "image/png": "[encoded data removed]",
      "text/plain": [
       "<matplotlib.figure.Figure at 0x7fa97403d3d0>"
      ]
     },
     "metadata": {},
     "output_type": "display_data"
    }
   ],
   "source": [
    "hist((s-mean(s))/n, 50);"
   ]
  },
  {
   "cell_type": "markdown",
   "metadata": {},
   "source": [
    "So, essentially the closer to the mean, the *more orthogonal* the vectors are. This histogram is related to the probability distribution of the dot product of two random 1000-D ([n]-D) hypervectors. "
   ]
  },
  {
   "cell_type": "code",
   "execution_count": 5,
   "metadata": {
    "collapsed": false
   },
   "outputs": [],
   "source": [
    "# so lets monte-carlo our way to the actual distribution\n",
    "\n",
    "def random_hypvec_distribution(N_pos=5000, N_neg=5000, trials=10000):\n",
    "    N = N_pos + N_neg\n",
    "    \n",
    "    main_hypvec = np.random.permutation(np.hstack((np.ones(N_pos), -np.ones(N_neg))))\n",
    "\n",
    "    dot_vals = np.zeros(trials)\n",
    "\n",
    "    for t in range(trials):\n",
    "        rhypvec = np.random.permutation(np.hstack((np.ones(N_pos), -np.ones(N_neg))))\n",
    "    \n",
    "        dot_vals[t] = np.dot(main_hypvec.T, rhypvec)\n",
    "        \n",
    "    return dot_vals\n"
   ]
  },
  {
   "cell_type": "code",
   "execution_count": 6,
   "metadata": {
    "collapsed": false
   },
   "outputs": [
    {
     "name": "stdout",
     "output_type": "stream",
     "text": [
      "8\n"
     ]
    },
    {
     "data": {
      "image/png": "[encoded data removed]",
      "text/plain": [
       "<matplotlib.figure.Figure at 0x7fa973f7bad0>"
      ]
     },
     "metadata": {},
     "output_type": "display_data"
    }
   ],
   "source": [
    "N_pos = 500\n",
    "N_neg = 500\n",
    "N = N_pos + N_neg\n",
    "dot_vals = random_hypvec_distribution(N_pos, N_neg)\n",
    "hist(dot_vals/N, 50);\n",
    "\n",
    "print len(np.nonzero(np.abs(dot_vals/N) > 0.1)[0])"
   ]
  },
  {
   "cell_type": "markdown",
   "metadata": {},
   "source": [
    "So, a bit wider than the pure binomial distribution would suggest, but this is likely because we have exactly (50%/50%, +1/-1). But for any two random 1000-D ([N]-D) hypervectors, we can expect >0.1 dot product around 16/1000=0.16% of the time.\n",
    "\n",
    "Of course, increasing N tightens the distribution:"
   ]
  },
  {
   "cell_type": "code",
   "execution_count": 7,
   "metadata": {
    "collapsed": false
   },
   "outputs": [
    {
     "name": "stdout",
     "output_type": "stream",
     "text": [
      "0\n"
     ]
    },
    {
     "data": {
      "image/png": "[encoded data removed]",
      "text/plain": [
       "<matplotlib.figure.Figure at 0x7fa9665273d0>"
      ]
     },
     "metadata": {},
     "output_type": "display_data"
    }
   ],
   "source": [
    "N_pos = 50000\n",
    "N_neg = 50000\n",
    "N = N_pos + N_neg\n",
    "dot_vals = random_hypvec_distribution(N_pos, N_neg)\n",
    "hist(dot_vals/N, 50);\n",
    "\n",
    "print len(np.nonzero(np.abs(dot_vals/N) > 0.1)[0])"
   ]
  },
  {
   "cell_type": "code",
   "execution_count": null,
   "metadata": {
    "collapsed": true
   },
   "outputs": [],
   "source": []
  },
  {
   "cell_type": "code",
   "execution_count": null,
   "metadata": {
    "collapsed": true
   },
   "outputs": [],
   "source": []
  },
  {
   "cell_type": "code",
   "execution_count": null,
   "metadata": {
    "collapsed": true
   },
   "outputs": [],
   "source": []
  }
 ],
 "metadata": {
  "kernelspec": {
   "display_name": "Python 2",
   "language": "python",
   "name": "python2"
  },
  "language_info": {
   "codemirror_mode": {
    "name": "ipython",
    "version": 2
   },
   "file_extension": ".py",
   "mimetype": "text/x-python",
   "name": "python",
   "nbconvert_exporter": "python",
   "pygments_lexer": "ipython2",
   "version": "2.7.13"
  }
 },
 "nbformat": 4,
 "nbformat_minor": 0
}
