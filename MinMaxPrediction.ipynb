{
 "cells": [
  {
   "cell_type": "code",
   "execution_count": 1,
   "metadata": {
    "collapsed": false
   },
   "outputs": [
    {
     "name": "stdout",
     "output_type": "stream",
     "text": [
      "height has been deprecated.\n",
      "\n",
      "2016-02-05 13:10\n",
      "developing lang_vec vocab_vec for 0\n",
      "generating language vector of cluster size 0\n",
      "developing lang_vec vocab_vec for 1\n",
      "generating language vector of cluster size 1\n",
      "developing lang_vec vocab_vec for 2\n",
      "generating language vector of cluster size 2\n",
      "developing lang_vec vocab_vec for 3\n",
      "generating language vector of cluster size 3\n"
     ]
    }
   ],
   "source": [
    "import numpy as np\n",
    "import pickle\n",
    "import random_idx\n",
    "import string\n",
    "\n",
    "N = 10000\n",
    "k = 5000\n",
    "ordered = 1\n",
    "alph = string.lowercase + \" \"\n",
    "\n",
    "fread = open(\"alice_RI_letters\", \"r\")\n",
    "RI_letters = pickle.load(fread)\n",
    "fread.close()\n",
    "\n",
    "lang_vec = [];\n",
    "vocab_vec = [];\n",
    "\n",
    "def create_lang_vocab(cluster_sizes, min_,max_,N=N, k=k):\n",
    "    total_lang = np.zeros((1,N))\n",
    "    # generate english vector\n",
    "    for cz in cluster_sizes:\n",
    "        print \"generating language vector of cluster size\", cz\n",
    "        # which alphabet to use\n",
    "        lang_vector,vocab_vector = random_idx.generate_vocab_lang_vectors(N, RI_letters, cz, ordered, \"preprocessed_texts/AliceInWonderland.txt\", min_,max_, alph)        \n",
    "        total_lang += lang_vector\n",
    "    return total_lang, vocab_vector\n",
    "\n",
    "\n",
    "\n",
    "for i in range(4):\n",
    "    print \"developing lang_vec vocab_vec for \"+str(i)\n",
    "    x = create_lang_vocab([i], 40000, 10000);\n",
    "    lang_vec.append(x[0])\n",
    "    vocab_vec.append(x[1])\n"
   ]
  },
  {
   "cell_type": "code",
   "execution_count": 2,
   "metadata": {
    "collapsed": false
   },
   "outputs": [
    {
     "data": {
      "text/plain": [
       "[array([[ 120433.,  120433.,  120433., ...,  120433.,  120433.,  120433.]]),\n",
       " array([[-61330., -39456.,  48166., ...,  10920.,  27382.,  23746.]]),\n",
       " array([[-12591.,  20939.,  -7377., ...,  -4165.,  10617.,    851.]]),\n",
       " array([[-1917.,  2919.,   283., ..., -1577., -4289.,  5987.]])]"
      ]
     },
     "execution_count": 2,
     "metadata": {},
     "output_type": "execute_result"
    }
   ],
   "source": [
    "lang_vec"
   ]
  },
  {
   "cell_type": "code",
   "execution_count": 3,
   "metadata": {
    "collapsed": false
   },
   "outputs": [],
   "source": [
    "def count_alice(pref):\n",
    "    f = open(\"preprocessed_texts/AliceInWonderland.txt\",\"r\")\n",
    "    text = f.read().strip()\n",
    "    f.close()\n",
    "    return text.count(pref)\n",
    "    "
   ]
  },
  {
   "cell_type": "code",
   "execution_count": 4,
   "metadata": {
    "collapsed": false
   },
   "outputs": [
    {
     "name": "stdout",
     "output_type": "stream",
     "text": [
      "[[-5980.]]\n",
      "[[ 1101588.]]\n",
      "0\n",
      "[[-14212.]]\n",
      "[[ 2325700.]]\n",
      "224\n"
     ]
    }
   ],
   "source": [
    "temp = random_idx.id_vector(N, \"yz\", alph, RI_letters, ordered)\n",
    "print(np.dot(temp, vocab_vec[2].T))\n",
    "print(np.dot(temp, lang_vec[2].T))\n",
    "\n",
    "\n",
    "print(count_alice(\"yz\"))\n",
    "\n",
    "\n",
    "temp = random_idx.id_vector(N, \"po\", alph, RI_letters, ordered)\n",
    "print(np.dot(temp, vocab_vec[2].T))\n",
    "print(np.dot(temp, lang_vec[2].T))\n",
    "\n",
    "\n",
    "print(count_alice(\"po\"))\n"
   ]
  },
  {
   "cell_type": "code",
   "execution_count": null,
   "metadata": {
    "collapsed": true
   },
   "outputs": [],
   "source": []
  },
  {
   "cell_type": "code",
   "execution_count": null,
   "metadata": {
    "collapsed": true
   },
   "outputs": [],
   "source": []
  }
 ],
 "metadata": {
  "kernelspec": {
   "display_name": "Python 2",
   "language": "python",
   "name": "python2"
  },
  "language_info": {
   "codemirror_mode": {
    "name": "ipython",
    "version": 2
   },
   "file_extension": ".py",
   "mimetype": "text/x-python",
   "name": "python",
   "nbconvert_exporter": "python",
   "pygments_lexer": "ipython2",
   "version": "2.7.11"
  }
 },
 "nbformat": 4,
 "nbformat_minor": 0
}
