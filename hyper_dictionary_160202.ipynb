{
 "cells": [
  {
   "cell_type": "markdown",
   "metadata": {},
   "source": [
    "# Creating a hyperdictionary\n",
    "\n",
    "I was considering that the basic way to solve the letter prediction problem given no constraints, would be to just have a dictionary of words, and then be able to reference that dictionary. I am attempting to store a dictionary into a hypervector and create a hyperdictionary.\n",
    "\n",
    "The hypervectors are very similar to hashes, and so each word or subword has no relationship to the hash. So in order to store a dictionary in the hyper vector, you need to store the word and all of the substrings. \n",
    "\n",
    "Essentially, I am encoding an algorithm in the hypervector that does a tree search through a dictionary. I want to start typing in letters and then have the hyperdictionary list the possible next letters given the words that are stored. This means I want to store not only everyword, but the entire tree of substrings that make up the word. \n"
   ]
  },
  {
   "cell_type": "code",
   "execution_count": 1,
   "metadata": {
    "collapsed": false
   },
   "outputs": [
    {
     "name": "stdout",
     "output_type": "stream",
     "text": [
      "height has been deprecated.\n",
      "\n",
      "2016-02-02 00:04\n"
     ]
    }
   ],
   "source": [
    "\n",
    "import random_idx\n",
    "import utils\n",
    "import pickle\n",
    "\n",
    "from pylab import *\n",
    "\n",
    "%matplotlib inline\n"
   ]
  },
  {
   "cell_type": "markdown",
   "metadata": {},
   "source": [
    "## Building the hyper dictionary\n",
    "\n",
    "So, I have gone to the internet and just found a text file that contains a list of common english words. My goal is to put this dictionary into a hyper vector and then see if I can use a standard word-based algorithm to predict the next letter."
   ]
  },
  {
   "cell_type": "code",
   "execution_count": 2,
   "metadata": {
    "collapsed": false
   },
   "outputs": [],
   "source": [
    "fdict = open(\"2of12id.txt\")\n",
    "word_list = []"
   ]
  },
  {
   "cell_type": "code",
   "execution_count": 3,
   "metadata": {
    "collapsed": false
   },
   "outputs": [],
   "source": [
    "for line in fdict:\n",
    "    words = line.split()\n",
    "    \n",
    "    # take out the noun/verb/adjective\n",
    "    words.pop(1)\n",
    "    \n",
    "    for word in words:\n",
    "        if word.find('{') > 0:\n",
    "            continue\n",
    "            \n",
    "        w = word.strip('()~-|{}!@/')\n",
    "        \n",
    "        if len(w) == 0:\n",
    "            continue\n",
    "                \n",
    "        word_list.append(w)"
   ]
  },
  {
   "cell_type": "code",
   "execution_count": 4,
   "metadata": {
    "collapsed": false
   },
   "outputs": [
    {
     "name": "stdout",
     "output_type": "stream",
     "text": [
      "100060\n"
     ]
    }
   ],
   "source": [
    "print len(word_list)"
   ]
  },
  {
   "cell_type": "markdown",
   "metadata": {},
   "source": [
    "So, we have a dictionary of over 100,000 words now. I am going to go through each word, substring by substring, and add each of the substrings to the hypervector. This means that there will be far more than 100k elements that need to be stored in the hypervector, because I am essentially trying to store the entire tree. Since there are so many words, I am going to start using an even larger hyper-vector. There will be issues with how much information we can store in the hypervectors, and there is already some literature on this. \n",
    "\n",
    "I really want the hyper vector to just work like a word dictionary. I am only going to add a substring if it is not already present. "
   ]
  },
  {
   "cell_type": "code",
   "execution_count": null,
   "metadata": {
    "collapsed": true
   },
   "outputs": [],
   "source": [
    "# We'll have N_pos+N_neg length hypervector\n",
    "N_pos = 500000\n",
    "N_neg = 500000\n",
    "N = N_pos + N_neg\n",
    "\n",
    "letter_vectors = np.zeros((len(random_idx.alphabet), N))\n",
    "\n",
    "# This way ensures each vector is the same number of +1 and -1\n",
    "for i in range(len(random_idx.alphabet)):\n",
    "    letter_vectors[i,:] = np.random.permutation(np.hstack((np.ones(N_pos), -np.ones(N_neg))))\n",
    "    "
   ]
  },
  {
   "cell_type": "code",
   "execution_count": 7,
   "metadata": {
    "collapsed": false
   },
   "outputs": [
    {
     "name": "stdout",
     "output_type": "stream",
     "text": [
      "[[-1. -1.  1. ..., -1.  1. -1.]\n",
      " [-1. -1.  1. ..., -1. -1. -1.]\n",
      " [-1.  1. -1. ...,  1. -1. -1.]\n",
      " ..., \n",
      " [-1. -1. -1. ..., -1.  1.  1.]\n",
      " [ 1. -1. -1. ..., -1. -1. -1.]\n",
      " [-1. -1. -1. ...,  1.  1. -1.]]\n",
      "(27, 1000000)\n"
     ]
    }
   ],
   "source": [
    "print letter_vectors\n",
    "print letter_vectors.shape"
   ]
  },
  {
   "cell_type": "code",
   "execution_count": 32,
   "metadata": {
    "collapsed": false
   },
   "outputs": [
    {
     "name": "stdout",
     "output_type": "stream",
     "text": [
      "aardvark abiding abrade absorbed academy accompanists accusative acoustics activeness addicted adjudication adoptable advantageous adzing affinities aftershocks aggrieving aim airstrip alertness allegations allures alternately ambidextrous amiabilities amphitheaters analogousnesses andantes anguish annotator anteed anticipations antiquaries apatites appall applicator appropriate arbitrage archetypal aristocracy arrangement articulate asexualities assail assimilating astray atomizers attire audited authenticating autonomies avoidance axiom back backroom worst bairn ballast bandaged bannister barbering barnacled base bastardized batting beaching beats bedclothes beers beguilers believes benches bergs bestowing bewared bicyclist bikini bind bipartisanships bisque blackamoor blancmange bleak blindfold blockading blossomed bluefish blushers bobtail boisterous bondholder boogies boors borrowing bouffants bowers bracket brans brawling breakthroughs brews brightened brittle bromines brownish bubbly buff bulking bulwark bunked burglarproofed burst busier bought cabins cadets calcimine callas cambering canal canine canters capitalisms cars cardigan carjacks carpets cartwheeling cast catalyzed cathartic caustically ceaselessness censoring centripetally cetaceans chambermaids chansons characterless chassis checker chef chichier chilling chirped choices choreographies chuckled cigars circumferences civilising clangorous classifies cleavages climatologist clitorides closings clued coarsening cockeyed coeds cognoscenti coleus collegians colorblindness combustions commences commoner companied compilations compose computers concerting concurring conductors configurations congas conjugally conscientious consistencies constraint container continent contrast conventicles convulsing coot coral cornering corrective cos cosied countable counterrevolutionaries courtesies cowers crackers cranky crayon credits cretin cripples crooked crosspieces crudities crustiness cuddle cumbersomenesses curettage curtailment cute cylinder daftest damned dare dateline deacon deathbeds debunked decennials declivity decriminalization defaulted defiling deftness delectable deliveries demimondaines demotions dents deplaning depressive derogation deserves despite detecting detractions devotes dial dicking differing dilapidated dined diplomatist disaffect disbarments discomfit discoursing disenchant dishes disinterested disorders displeasures disrespects dissolute distracting ditziest divisors docudramas dogma domiciled doorplate doublets downer dozing dramatic dreaminess drinkable droppings drunkenly dues dumplings dusked dynamiting earshots ebony eczema eeriness egalitarians ejaculatory electrify eleven eluding embitters emerita empiricists encamped encrusting endowments engraved enough ententes entrapments envyingly epitomized equivalences errata esophagus estrogens eulogizer evenness ex excerpts exculpate exhausting exorcists expend exploitable expulsion extolled extrovert fable fads fajitas families fares fasten faults feasted feeling swamp}: fervour feverishly fidelities filbert filthies fingerlings fireproofing fissionable flabby flameproofing flatted flecked flimflam floodgate flour flummoxes flies foil foodie forage forefront forest forked forsythias fouls fractioning fraternally freelancers freshman frilliest frontal fruitlessly fulfilment fundamentalists furnishes futurism gaged galosh ganged gardenia gartered gaudily gearing generalizing gentries gestapos gibbet gimmicks gives glared glinting glory gnash goddamned gong gorgons gowns grammarians grantor gratuities grebes grieving grits grotesquely growler guarani guileful gumshoed gusty gyroscope haggards halcyon halt handfuls hangman hardback harmfulness hasped haunting hazily headstones heartier hedgehog helices hemophiliac hereafter heterogeneously hiders hilariousnesses hires hoarse hogwashes homages homo honored hoosegows horrifically hospitalization hound howbeit hullabaloos humiliates hunkies huskier hydrogenations hypertexts hysteric identify ignorant image immensely impact impenitences implacability impost improbability inadequacy incapables incivility inconsideratenesses inculcating independents indistinctness industrialisms inevitably infertile inflight ingestions initial innervate insanely insincerely instant insufficiencies intelligent interconnect interlocutor interplay intervention intravenouses invalided invidiousness irascibly irrelevantly isolationists jabbering jamming jaywalk jessamine jihad jocose jonquil joyousnesses julienne just kazoos kettledrum kiddies kindheartedly kit knickknacks knucklehead labors ladder lambadas landfall lapped lash lattice lavishest lazed leap lecherousness legatee lemon let lewdness licensee lifetime likelihoods limpidity linty listens little loan lockjaws logos looms lorry lovechildren lubricating lumberings lusciousness lynchpins macrobiotic magnates mailing makings malpractices mandatory manifolding manufacturer marginal marlinspikes marzipans masters materializing mauls mazurka mecca meditated melee mending merchandising mesmerism metaphor metricizing microprocessor midway militarist millrace miniest minting misappropriating misdirected mislaying missal mistrials mobilizer modifier molestations moneygrubber monograph monumented moper morphings mote motorcycle mournfuller most muggier multiplexors murdering musingly muted myth napalming nasturtiums navigabilities necromancers negotiation nervelessnesses neutering newtons nighing nip nodded nonbelligerent noneffectives nonnative nonrestrictive noodles nosedived notorious nudism nursemaid oakum oblations observes occasion ocular officeholder oilskins omnipotence oozes opportunely oranges oregano ornateness ostracizing outcrops outlawed outrider outweighed overbuilds overdresses overhand overnighted oversaw oversupply ovum pachysandras paging palatine palmy paneling paperboard parakeet parathyroids parlay partaken passes pastramis patios pavilion peach peculiarity peeler pens penologist perambulating perfectly peritoneal perpetrations persuading pestles pewits phenomenons phonemically photojournalists piaster piddle pigsty piloted pinkies piquantly pithiness placidities planted platypus pleat plowing pluperfects podiatries polarized pollinated polytheist pooh pores portmanteaux postdating potassium pounding praise precariousness predate preening preliminary prepaid present presuming preventive primacy prismatic problems produced profoundest prolapse promptly propers prorogues protections proverbial pruriences psychoses puffing pulverized punts purl pushiest pyramids quagmire quarterback questions quiltings quoit racks radiometer ragtag rakishnesses random rapidities rates ravages reacquainting reals reappraising reauthorizing recalculating recessives recognizable reconnoitred recreating redact redissolved reeded reestablishing refinements refreeze regardless regular reimpose reiterates relearning relies remit rendezvous reorganizations repentances repossess reprograming requiters resets resolutely responds restrictively retaken retracing retrying revenuer revival rewires rib ridicules rigmaroles ripoff riverboat robber roguish room rotating roundness rubatos rugbies running rustproofed sacrificial sago salient salvaging sandbank sappiest satins savages said scanning scarlatinas scherzi schoolfellows scollops scoutmaster screams scrods scuffled seacoast seasoning sectarians seen seigniorial semen senior sentinels seraphs services severely shadow shameful sharpeners sheepfolds sheriffs shinny shleps shopped shotted shred shucks sicking sidewalk signature sill simulations sinkers sixes skew skippers skyrockets slapstick sledgehammers slick slipperiest sloucher slurps smelled smolder snake sneezing snooping snowiness soapier sodiums sole solubilities sonnetting sorenesses soups sowing sparred spear spectrometers spermicidal spinals spiteful splotchy spoonbills sprawl spruce squadrons squeamishnesses stabbing stagiest stampers stardom statesmanship steal steer sterilizes stifles stinting stoic stoplight straddling strangulation streps stript struts stunningly sub sublet subscribe subtenant succotashes suffixation sulfuric summonses sunup supermom supplementation surf surreptitious suzerains swashes sweetens swings sycamore synapsing systems tabulations tailor tallyhos tangled tarred tasseling tawdriness tears teensier telemetries temperately tenderize tequila terrycloth thallium theorists thickheaded thong threating throttler thunderous tideways tilts tinging tiptoe titulars toggled tomcatting toothbrushes tormented totalling tousled tracheas train transactions transients transpiring travel treble triages triennials trips trolleybusses trow truncheoned tuber tunas turnaround tux twins typing ugliness umps unbaked unchaperoned unconquered undeniable undergraduate undershoots undiminished unequivocally unflinchingly unharness uninhibited unknown unmarked unpins unrecognized unscratched unsoundnesses untidinesses unwillingly upheld upstage urges utilizes vain vamped variegate veges venerating verdigrises verves vibrancy vie vinegar visas viticulturists vociferate voluptuousnesses vulgarization waggles wakefulness wanderers warily washers watercraft waxed wearisomely wees weirdly westernized wheels which whirligig whitings whoso wiglet wimp windpipe winsomenesses wisp wived wonderland wooers workman worthiness wrests wrought yardage yelp yokel zealot zircon\n"
     ]
    }
   ],
   "source": [
    "hyperdictionary = np.zeros(N)\n",
    "count = 0\n",
    "vals = []\n",
    "subwords = []\n",
    "skip = 100\n",
    "\n",
    "for word in word_list[0::skip]:\n",
    "#for word in ['accelerate','aardvark', 'accordion', 'accordionists',  'apple', 'betazoid', 'betakeratine']:\n",
    "#for word in ['a', 'b', 'c', 'd','e', 'f']:\n",
    "    #print \"\"\n",
    "    print word,\n",
    "    subword = ''\n",
    "    subvec = np.ones(N)\n",
    "    for i,letter in enumerate(word):\n",
    "        letter_idx = random_idx.alphabet.find(letter)\n",
    "        subvec = np.roll(subvec, 1) * letter_vectors[letter_idx,:]\n",
    "        subword += letter\n",
    "        \n",
    "        # check to see if the subvec is already present in the hyperdictionary\n",
    "        val = np.dot(subvec.T, hyperdictionary) / N\n",
    "        #vals.append(val)\n",
    "        #subwords.append(subword)\n",
    "        \n",
    "        # If the substring is not present, then val should be near 0\n",
    "        if val < 0.3:\n",
    "            # then add the substring\n",
    "            hyperdictionary += subvec\n",
    "            count += 1\n",
    "            #print subword, \n",
    "        "
   ]
  },
  {
   "cell_type": "code",
   "execution_count": 27,
   "metadata": {
    "collapsed": false
   },
   "outputs": [
    {
     "data": {
      "text/plain": [
       "(1000000,)"
      ]
     },
     "execution_count": 27,
     "metadata": {},
     "output_type": "execute_result"
    }
   ],
   "source": [
    "hyperdictionary.shape"
   ]
  },
  {
   "cell_type": "code",
   "execution_count": 28,
   "metadata": {
    "collapsed": false
   },
   "outputs": [
    {
     "data": {
      "text/plain": [
       "(76278, 20012)"
      ]
     },
     "execution_count": 28,
     "metadata": {},
     "output_type": "execute_result"
    }
   ],
   "source": [
    "count, len(word_list)/skip"
   ]
  },
  {
   "cell_type": "code",
   "execution_count": 30,
   "metadata": {
    "collapsed": false
   },
   "outputs": [
    {
     "name": "stdout",
     "output_type": "stream",
     "text": [
      "hyperdictionary_s5_160202.npz\n"
     ]
    }
   ],
   "source": [
    "filename = 'hyperdictionary_s' +str(skip) + '_160202.npz'\n",
    "print filename"
   ]
  },
  {
   "cell_type": "code",
   "execution_count": 31,
   "metadata": {
    "collapsed": false,
    "scrolled": true
   },
   "outputs": [],
   "source": [
    "np.savez(filename, hyperdictionary=hyperdictionary, letter_vectors=letter_vectors)"
   ]
  },
  {
   "cell_type": "markdown",
   "metadata": {
    "collapsed": false,
    "scrolled": true
   },
   "source": [
    "## Exploring the hyperdictionary\n",
    "\n",
    "So, for every word we are storing the whole word tree if it is not already present in the hyperdictionary. So here are a few words that start with 'bu' that we written, followed by each substring from the word that was added to the dictionary:\n",
    "\n",
    "bubbly bu bub bubb bubbl bubbly  \n",
    "buff buf buff  \n",
    "bulking bul bulk bulki bulkin bulking  \n",
    "bulwark bulw bulwa bulwar bulwark  \n",
    "bunked bun bunk bunke bunked  \n",
    "burglarproofed bur burg burgl burgla burglar burglarp burglarpr burglarpro burglarproo burglarproof burglarproofe burglarproofed   \n",
    "burst burs burst  \n",
    "busier bus busi busie busier  \n",
    "\n",
    "Here is a widget that will display the histogram of the next letter for any string you type. However, you probably cannot run it on the notebook viewer:"
   ]
  },
  {
   "cell_type": "code",
   "execution_count": 47,
   "metadata": {
    "collapsed": false
   },
   "outputs": [],
   "source": [
    "h = np.load('hyperdictionary_s100_160131.npz')"
   ]
  },
  {
   "cell_type": "code",
   "execution_count": 51,
   "metadata": {
    "collapsed": false
   },
   "outputs": [
    {
     "name": "stdout",
     "output_type": "stream",
     "text": [
      "(200000,)\n"
     ]
    }
   ],
   "source": [
    "hyperdictionary = h['hyperdictionary']\n",
    "letter_vectors = h['letter_vectors']\n",
    "\n",
    "\n",
    "print hyperdictionary.shape\n",
    "\n",
    "N = hyperdictionary.shape[0]\n"
   ]
  },
  {
   "cell_type": "code",
   "execution_count": 49,
   "metadata": {
    "collapsed": false
   },
   "outputs": [
    {
     "data": {
      "image/png": "[encoded data removed]",
      "text/plain": [
       "<matplotlib.figure.Figure at 0x7ff1a84bddd0>"
      ]
     },
     "metadata": {},
     "output_type": "display_data"
    }
   ],
   "source": [
    "plot(hyperdictionary);"
   ]
  },
  {
   "cell_type": "code",
   "execution_count": 50,
   "metadata": {
    "collapsed": false
   },
   "outputs": [
    {
     "data": {
      "image/png": "[encoded data removed]",
      "text/plain": [
       "<matplotlib.figure.Figure at 0x7ff1a84c3b90>"
      ]
     },
     "metadata": {},
     "output_type": "display_data"
    }
   ],
   "source": [
    "hist(hyperdictionary, 50);"
   ]
  },
  {
   "cell_type": "markdown",
   "metadata": {},
   "source": [
    "Here is a widget that will display the histogram of the next letter for any string you type. However, you probably cannot run it on the notebook viewer:"
   ]
  },
  {
   "cell_type": "code",
   "execution_count": 52,
   "metadata": {
    "collapsed": false
   },
   "outputs": [],
   "source": [
    "def get_next_letters(v, thresh=0.5):\n",
    "    next_letters = ''\n",
    "    for idx in np.nonzero(v>thresh)[0]:\n",
    "        next_letters += random_idx.alphabet[idx]\n",
    "    return next_letters"
   ]
  },
  {
   "cell_type": "code",
   "execution_count": 53,
   "metadata": {
    "collapsed": false,
    "scrolled": true
   },
   "outputs": [
    {
     "data": {
      "text/plain": [
       "'b'"
      ]
     },
     "metadata": {},
     "output_type": "display_data"
    },
    {
     "data": {
      "image/png": "[encoded data removed]",
      "text/plain": [
       "<matplotlib.figure.Figure at 0x7ff1a889c850>"
      ]
     },
     "metadata": {},
     "output_type": "display_data"
    }
   ],
   "source": [
    "from ipywidgets import widgets\n",
    "from IPython.display import display\n",
    "from IPython.html.widgets import *\n",
    "\n",
    "figure(figsize=(8,5))\n",
    "\n",
    "def next_letter_hist(instring):\n",
    "    #instring = sender.value\n",
    "    subvec = np.ones(N)\n",
    "    for letter in instring:\n",
    "        lidx = random_idx.alphabet.find(letter)\n",
    "        subvec = np.roll(subvec, 1) * letter_vectors[lidx,:]\n",
    "        \n",
    "    subvec = np.roll(subvec, 1)\n",
    "    val = np.dot(letter_vectors/N, subvec*hyperdictionary)\n",
    "    bar(arange(len(val))+0.15, val)   \n",
    "    ax=gca()\n",
    "    ax.set_xticks(arange(len(random_idx.alphabet))+0.5)\n",
    "    th = ax.set_xticklabels(list(random_idx.alphabet))\n",
    "    ax.set_ylim([-0.2, 1.2])\n",
    "    return get_next_letters(val)\n",
    "\n",
    "#input_text = widgets.Text()\n",
    "#input_text.on_submit(next_letter_hist)\n",
    "#display(input_text)\n",
    "\n",
    "interact(next_letter_hist, instring=\"\")\n"
   ]
  },
  {
   "cell_type": "markdown",
   "metadata": {},
   "source": [
    "First, here is just all the letters, basically the dictionary has no 'x' and ' ' starting words:"
   ]
  },
  {
   "cell_type": "code",
   "execution_count": 25,
   "metadata": {
    "collapsed": false
   },
   "outputs": [
    {
     "name": "stdout",
     "output_type": "stream",
     "text": [
      "abcdefghijklmnopqrstuvwyz\n"
     ]
    },
    {
     "data": {
      "image/png": "[encoded data removed]",
      "text/plain": [
       "<matplotlib.figure.Figure at 0x7fd5e3ef4210>"
      ]
     },
     "metadata": {},
     "output_type": "display_data"
    }
   ],
   "source": [
    "v = next_letter_hist('')\n",
    "print get_next_letters(v)"
   ]
  },
  {
   "cell_type": "markdown",
   "metadata": {},
   "source": [
    "Now, when you type in b, you can see the distributrion for the next letters:"
   ]
  },
  {
   "cell_type": "code",
   "execution_count": 26,
   "metadata": {
    "collapsed": false
   },
   "outputs": [
    {
     "name": "stdout",
     "output_type": "stream",
     "text": [
      "aeiloru\n"
     ]
    },
    {
     "data": {
      "image/png": "[encoded data removed]",
      "text/plain": [
       "<matplotlib.figure.Figure at 0x7fd5e4587550>"
      ]
     },
     "metadata": {},
     "output_type": "display_data"
    }
   ],
   "source": [
    "v = next_letter_hist('b')\n",
    "print get_next_letters(v)"
   ]
  },
  {
   "cell_type": "code",
   "execution_count": 27,
   "metadata": {
    "collapsed": false
   },
   "outputs": [
    {
     "name": "stdout",
     "output_type": "stream",
     "text": [
      "bflnrs\n"
     ]
    },
    {
     "data": {
      "image/png": "[encoded data removed]",
      "text/plain": [
       "<matplotlib.figure.Figure at 0x7fd5e3fd4a50>"
      ]
     },
     "metadata": {},
     "output_type": "display_data"
    }
   ],
   "source": [
    "v = next_letter_hist('bu')\n",
    "print get_next_letters(v)"
   ]
  },
  {
   "cell_type": "markdown",
   "metadata": {},
   "source": [
    "because we have: 'bu**b**bly', 'bu**f**f', 'bu**n**ked', 'bu**l**king', 'bulwark', 'bu**r**garlarproofed', 'burst', 'bu**s**ier'\n",
    "\n",
    "'bubbly' is the only word that starts with bub. So the dictionary says 'b' ('bub**b**ly) is next."
   ]
  },
  {
   "cell_type": "code",
   "execution_count": 28,
   "metadata": {
    "collapsed": false
   },
   "outputs": [
    {
     "name": "stdout",
     "output_type": "stream",
     "text": [
      "b\n"
     ]
    },
    {
     "data": {
      "image/png": "[encoded data removed]",
      "text/plain": [
       "<matplotlib.figure.Figure at 0x7fd5e4a43e10>"
      ]
     },
     "metadata": {},
     "output_type": "display_data"
    }
   ],
   "source": [
    "v = next_letter_hist('bub')\n",
    "print get_next_letters(v)"
   ]
  },
  {
   "cell_type": "markdown",
   "metadata": {},
   "source": [
    "There is 'bulking' and 'bulwark', so 'bul' says 'k' or 'w'"
   ]
  },
  {
   "cell_type": "code",
   "execution_count": 29,
   "metadata": {
    "collapsed": false
   },
   "outputs": [
    {
     "name": "stdout",
     "output_type": "stream",
     "text": [
      "kw\n"
     ]
    },
    {
     "data": {
      "image/png": "[encoded data removed]",
      "text/plain": [
       "<matplotlib.figure.Figure at 0x7fd5e40386d0>"
      ]
     },
     "metadata": {},
     "output_type": "display_data"
    }
   ],
   "source": [
    "v = next_letter_hist('bul')\n",
    "print get_next_letters(v)"
   ]
  },
  {
   "cell_type": "markdown",
   "metadata": {},
   "source": [
    "And with a word that was not stored in the dictionary, we get small values:"
   ]
  },
  {
   "cell_type": "code",
   "execution_count": 30,
   "metadata": {
    "collapsed": false
   },
   "outputs": [
    {
     "name": "stdout",
     "output_type": "stream",
     "text": [
      "\n"
     ]
    },
    {
     "data": {
      "image/png": "[encoded data removed]",
      "text/plain": [
       "<matplotlib.figure.Figure at 0x7fd5e3f44410>"
      ]
     },
     "metadata": {},
     "output_type": "display_data"
    }
   ],
   "source": [
    "v = next_letter_hist('bull')\n",
    "print get_next_letters(v)"
   ]
  },
  {
   "cell_type": "code",
   "execution_count": null,
   "metadata": {
    "collapsed": true
   },
   "outputs": [],
   "source": []
  }
 ],
 "metadata": {
  "kernelspec": {
   "display_name": "Python 2",
   "language": "python",
   "name": "python2"
  },
  "language_info": {
   "codemirror_mode": {
    "name": "ipython",
    "version": 2
   },
   "file_extension": ".py",
   "mimetype": "text/x-python",
   "name": "python",
   "nbconvert_exporter": "python",
   "pygments_lexer": "ipython2",
   "version": "2.7.11"
  }
 },
 "nbformat": 4,
 "nbformat_minor": 0
}