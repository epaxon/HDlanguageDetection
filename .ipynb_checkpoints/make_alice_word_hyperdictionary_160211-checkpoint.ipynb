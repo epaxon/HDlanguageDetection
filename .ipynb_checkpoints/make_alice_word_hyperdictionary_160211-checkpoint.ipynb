{
 "cells": [
  {
   "cell_type": "markdown",
   "metadata": {},
   "source": [
    "# Creating the Alice Word Hyperdictionary\n",
    "\n",
    "We are going to create a hypervector that contains every individual word in the book. We will then use this hyperdictionary in order to attempt at putting the spaces back into sentences with the spaces removed.\n"
   ]
  },
  {
   "cell_type": "code",
   "execution_count": 1,
   "metadata": {
    "collapsed": false
   },
   "outputs": [
    {
     "name": "stdout",
     "output_type": "stream",
     "text": [
      "height has been deprecated.\n",
      "\n",
      "2016-02-22 11:16\n"
     ]
    }
   ],
   "source": [
    "\n",
    "import random_idx\n",
    "import utils\n",
    "import pickle\n",
    "import re\n",
    "import string\n",
    "\n",
    "from pylab import *\n",
    "\n",
    "%matplotlib inline\n"
   ]
  },
  {
   "cell_type": "code",
   "execution_count": 2,
   "metadata": {
    "collapsed": false
   },
   "outputs": [
    {
     "data": {
      "text/plain": [
       "3060"
      ]
     },
     "execution_count": 2,
     "metadata": {},
     "output_type": "execute_result"
    }
   ],
   "source": [
    "fdict = open(\"raw_texts/texts_english/alice_in_wonderland.txt\")\n",
    "text = fdict.read().lower()\n",
    "\n",
    "punct = string.punctuation + string.digits\n",
    "\n",
    "for i in punct:\n",
    "    if i == '-':\n",
    "        text = text.replace(i, ' ')\n",
    "    else:\n",
    "        text = text.replace(i, '')\n",
    "    \n",
    "text = text.replace('\\n', ' ')\n",
    "\n",
    "    \n",
    "word_list = set(text.split()[1:]);\n",
    "len(word_list)"
   ]
  },
  {
   "cell_type": "code",
   "execution_count": null,
   "metadata": {
    "collapsed": false
   },
   "outputs": [],
   "source": []
  },
  {
   "cell_type": "code",
   "execution_count": 3,
   "metadata": {
    "collapsed": false
   },
   "outputs": [
    {
     "name": "stdout",
     "output_type": "stream",
     "text": [
      "[[-1 -1  1 ...,  1  1 -1]\n",
      " [-1  1  1 ...,  1  1 -1]\n",
      " [-1  1 -1 ..., -1  1  1]\n",
      " ..., \n",
      " [-1 -1 -1 ...,  1 -1  1]\n",
      " [ 1  1 -1 ...,  1 -1  1]\n",
      " [ 1  1 -1 ...,  1 -1  1]]\n"
     ]
    }
   ],
   "source": [
    "N=1000000\n",
    "letter_vectors = 2 * (np.random.randn(len(random_idx.alphabet), N) > 0) - 1\n",
    "print letter_vectors"
   ]
  },
  {
   "cell_type": "code",
   "execution_count": null,
   "metadata": {
    "collapsed": false
   },
   "outputs": [
    {
     "name": "stdout",
     "output_type": "stream",
     "text": [
      "secondly pardon limited saves knelt four sleep hanging ringlets oldest hate assembled forget whose lory calculate paris blacking presents whatsoever under inwards sorry worth updated music void rise every jack govern seals fireplace school prize wooden pinch persisted favoured leaders tired efforts feathers request elegant likely louder machines shining even meekly errors hide pace solemn thunder lizard poison above conduct new increasing ever told join never wrapping here hundreds met protection possibility hers cardboard shriek dry property daughter leaves changed reports swam barrowful smoke pack changes ventured golden secure owed ground explained angrily feelings brought patience moral guests drowned punching txt negligence spoke would arms insult distributing dormouses overhead therefore leant survive fainting tell breathe paperwork posting evening hurt grief glass excellent adjourn hole hold outdated must me locked room work dodo worm roof obstacle elbow my shook rosetree quiver serpent give unjust flung organized frighten want extraordinary keep returned end turn complaining agony returning damage machine how hot answer truthful poker flustered mouths lad ladder after containing wrong jumping lay curiosity law lap types attempt childhood wink wriggling green aloud order wind wine executed office dreamed over prohibition london mabel before chatte fit somewhere lefthand fix writing better production fig glanced croquet weeks overcome then them slate safe break caterpillar they interrupt one bank pegs grammar meat alternately leading herald eleventh roast each went side bone mean calmly financial telescope fairly series dodged vote taught forgot flock sounds reminding velvet network tales sighing forty fellows content re laid millennium got size forth foundation splashed stamping turning given free uglification whereupon mallets wanted telescopes enormous ate shelves writhing cackled messages days pence hopeless moving footsteps bite user enjoy already dunce curiouser additions synonymous encouraging hearing wash another thoughtfully thick electronic awfully service indicate beauti xii top girls airs master too wildly legs bitter dogs listen consented ceiling solemnly took direct hadnt positively character begins distance coward tree second seated project matter splendidly exclaimed flame williams askance feeling chrysalis ran httpwwwgutenbergorg shyly modern mind mine sorrow talking rat manner seen seem tells eels strength thoroughly eagerly subjects doors laughed gravy nobody though ebook regular mouth plenty grave zealand incomplete alarm m dog swamp ridiculous sun notion came decidedly saying currants pardoned pope lewis queen sage ending attempts defects queer earth toast flowers spite explain folded sugar deepest disgust executive do cartwheels squeaking stop coast frowning shutting cushion altogether frying nasty dr learned comply bat countries nicely anxiously shape licking method twice bad softly release explanations steam ears blew fair checks depends decided flashed cattle corrupt miserable mournfully best subject pebbles said away irs unable finger sorts approach preserve claws crossly interrupting terms confusion weak however camomile twinkling drew extent picking maynt improve pity received protect accident reported country ill cup adventures edgar players games treacle argue asked tone appeared royal lullaby height active wider beheaded merchantibility speak shouting tarts three been quarrelling chimneys much axis interest schoolroom expected lovely threw natured life wags mushroom twinkled concerning grunt uncommon locations child catch doth teapot has disclaimers lessen tastes air ugly near neat viii stopping voice employees mistake remembering ix seven compliance fourteenth played is it iv ii gloomily cant im clinging in mouse id if grown growl severity credit perform things make linked forehead damages unfortunate vegetable plates several couple bells youth tops hand delight marched dozing opportunity thoughts kid butter hearth kept matters settled possessed youre rome humbly impertinent hearts the yours trademarkcopyright left just sentence distribute sleepy atheling verses identify farther yes yer yet electronically previous adding spectacles hjckrrh cherry had grumbled belongs easy prison save hat gave boxed possible possibly dreamy flamingoes afore destroy judge replace burnt shoulder sorrows appearing uncivil seaside alice quadrille theyre specific renamed officer night hung towards right old deal people sends crown somehow dead clubs escape dear straightening bore goldfish creep confusing denies friend for bottom purple ear everything asking shakespeare denied serpents beating christmas pinched holiday knew burn disappeared lamps paid losing bowing permitted takes wept limitation theirs newspapers choke o costs dinner despair permission sluggard raised sob whats facility wasting puzzle obtaining delighted cauldron son down respectable bats lieu balanced federal frightened methods cleared crowd wag support sneezing fight derision morcar call was happy fork head creation waistcoat form offer attempted becoming back failure hear heap boon removed true flavour rippling inside attached maximum until note scream unusually dinahs temper proud proved sticks screaming fury toss paragraphs muscular drive howling guessed promised melan curious accounting archive peeping solicitation floor generally handed tis beheading setting holding tie vanished shrink saucepans picture brothers pronounced surprise ointment welcome skirt fell ridges inkstand unlocking died puss spades cheated together beds longed contemptuous time push treading profits concept managed chain whoever dance untwist fulcrum invent crocodile mile chair displaying milk row certainly father passage answered charge unpleasant promoting terror circumstances agreed jogged fancied brown downloading made keeping hatter choice liability stays cook ma trouble exact feeble minute cool sighed presented did turns dig accidentally leave settle quick teaching scaly round prevent brave says tougher sigh discover sign cost dried dinahll helpless irritated appear assistance axes uniform current paragraph lazily goes reply falling geography filled growls jury partners honour v french water corporation twentieth yards elses hoarse along appears change wait box sending thirty impatiently lazy wherever united gryphon trial usually shifting quarrel useful morals extra hopeful merely marked inquisitively puffed swallowed stingy everybody driest angry visit only france expend live wood somersault wondering teeth associated today loving chapter entrance sharing afford flying teases ignorant wwwgutenbergorg effort fly wouldnt pretend modified longitude cat soup sour can growing making dispute laughter mouses heart crazy frontispiece nursing figure december arise carroll confused agent paused heard chin dropped phrase counting stole evidently pink requirements winter fortunately buttered watching pine write till fourth stigand condemn may dive spot cease crashed birthday tipped mad date such data grow man scrambling classics natural remember succeeded whenever maybe daisies tale provide suet so crept offend arrived pulled talk recognised refund unsolicited shoes seeing indeed pointed werent displayed canary years course quarrelled shake argued statements cold still owl birds limbs derive yawning thank curly interesting curls civil window offers dreadfully thump consequential ours main into happened roses non lonely tucked conversations sooner bound underneath tails soo half not now provision hall nor wont execute shouted name chuckled corners drop rock scolded entirely creature em domain eh bursting beloved hurried goose skurried begun year distributor happen worried irons living canvas opened profit concert abide hastily looking seriously stupid housemaid receiving juror attended state cart quite bringing besides card care advance beautify language reasonable honest thing place invalidity invitation promotion think waited first sprawling arithmetic xi ootiful revenue spoken yourself merrily fast directly carry impossible ring open tomorrow cheerfully sheep city little necessarily checked silent arch caught waist t anyone trampled returns shiver legally white west speaking eyes way mostly that snatch viewing alas eyed editions copy holder than wide accordance require future apples venture were cards accessed proofread wandering and addressing tasted remained ann turned argument voices say medium anger themselves saw any sat snorting tulip transcription "
     ]
    }
   ],
   "source": [
    "hyperdictionary = np.zeros(N)\n",
    "count = 0\n",
    "vals = []\n",
    "subwords = []\n",
    "\n",
    "for word in word_list:\n",
    "    subword = ''\n",
    "    subvec = np.ones(N)\n",
    "    for i,letter in enumerate(word):\n",
    "        letter_idx = random_idx.alphabet.find(letter)\n",
    "        subvec = np.roll(subvec, 1) * letter_vectors[letter_idx,:]\n",
    "        subword += letter\n",
    "        \n",
    "    # check to see if the subvec is already present in the hyperdictionary\n",
    "    val = np.dot(subvec.T, hyperdictionary) / N\n",
    "    #vals.append(val)\n",
    "    #subwords.append(subword)\n",
    "        \n",
    "    # If the substring is not present, then val should be near 0\n",
    "    if val < 0.5:\n",
    "        # then add the substring\n",
    "        print word,\n",
    "        hyperdictionary += subvec\n",
    "        count += 1"
   ]
  },
  {
   "cell_type": "code",
   "execution_count": 66,
   "metadata": {
    "collapsed": true
   },
   "outputs": [],
   "source": [
    "np.savez('alice_word_hyperdictionary_d1M_160211.npz', letter_vectors=letter_vectors, hyperdictionary=hyperdictionary)"
   ]
  }
 ],
 "metadata": {
  "kernelspec": {
   "display_name": "Python 2",
   "language": "python",
   "name": "python2"
  },
  "language_info": {
   "codemirror_mode": {
    "name": "ipython",
    "version": 2
   },
   "file_extension": ".py",
   "mimetype": "text/x-python",
   "name": "python",
   "nbconvert_exporter": "python",
   "pygments_lexer": "ipython2",
   "version": "2.7.11"
  }
 },
 "nbformat": 4,
 "nbformat_minor": 0
}
