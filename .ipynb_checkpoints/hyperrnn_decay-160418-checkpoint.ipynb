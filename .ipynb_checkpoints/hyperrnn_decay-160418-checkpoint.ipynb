{
 "cells": [
  {
   "cell_type": "markdown",
   "metadata": {},
   "source": [
    "### Hypervectors with decay\n",
    "\n",
    "The roll operation or the random orthogonal matrix has an important property defined by the eigenvalues. For roll or random orth matrices the eigenvalues are all 1, which means that the hypervector/rnn will attempt to store all information from all time. We have seen how the chaos will build up until no information can be stored. This means that the most recent input or the first input have the same likelihoods of being correctly read out. \n",
    "\n",
    "In the context of RNNs this is harmful. This is because an RNN will fill up at some point, and chaos will dominate its dynamics instead of information. When this happens, even the most recent items added to the RNN will be undecodable. This means that the RNN has filled up, and it is over capacity.\n",
    "\n",
    "A more useful RNN could have memory only for a finite amount of history. In this case, we could imagine the weight matrix having eigenvalue slightly less than 1, or we decay the hypervector by a small amount each time step. This type of decay will exponentially decrease the information energy in the hypervector, and should enable storage of recent sequences indefinitely, but perhaps at the cost of not being able to store quite as much.\n"
   ]
  },
  {
   "cell_type": "code",
   "execution_count": 3,
   "metadata": {
    "collapsed": false
   },
   "outputs": [
    {
     "name": "stdout",
     "output_type": "stream",
     "text": [
      "height has been deprecated.\n",
      "\n",
      "2016-04-18 11:44\n"
     ]
    }
   ],
   "source": [
    "import random_idx\n",
    "import utils\n",
    "import pickle\n",
    "import time\n",
    "import string\n",
    "from pylab import *\n",
    "%matplotlib inline"
   ]
  },
  {
   "cell_type": "code",
   "execution_count": 4,
   "metadata": {
    "collapsed": true
   },
   "outputs": [],
   "source": [
    "def test_capacity_decay(N, D, decay=1, K=5, trials=5e3):\n",
    "    letter_vectors = 2 * (np.random.randn(D, N) > 0) - 1\n",
    "\n",
    "    hypercapacity = np.zeros(N)\n",
    "\n",
    "    tstart = time.time()\n",
    "    lidx = np.zeros(trials)\n",
    "    lidx[0] = np.random.randint(D)\n",
    "    hypercapacity = letter_vectors[lidx[0], :]\n",
    "\n",
    "    lidx_last_input = np.zeros(trials)\n",
    "    lidx_input_K = np.zeros(trials)\n",
    "    lidx_first_input = np.zeros(trials)\n",
    "\n",
    "    for i in range(int(trials)-1):\n",
    "        \n",
    "        lidx[i+1] = np.random.randint(D)\n",
    "\n",
    "        hypercapacity = decay * np.roll(hypercapacity, 1) + letter_vectors[lidx[i+1], :]\n",
    "\n",
    "        v_last_input = np.roll(hypercapacity, -1)\n",
    "        v_input_K = np.roll(hypercapacity, -K) # we can still do this less than K, it will just be noise\n",
    "        v_first_input = np.roll(hypercapacity, -(i+1))\n",
    "        \n",
    "        lidx_last_input[i] = argmax(np.dot(letter_vectors, v_last_input.T))\n",
    "        lidx_input_K[i] = argmax(np.dot(letter_vectors, v_input_K.T))\n",
    "        lidx_first_input[i] = argmax(np.dot(letter_vectors, v_first_input.T))\n",
    "\n",
    "    print 'Duration: ', time.time() - tstart\n",
    "    \n",
    "    return lidx, lidx_last_input, lidx_input_K, lidx_first_input"
   ]
  },
  {
   "cell_type": "code",
   "execution_count": 5,
   "metadata": {
    "collapsed": false
   },
   "outputs": [
    {
     "name": "stdout",
     "output_type": "stream",
     "text": [
      "0\n",
      "Duration:  0.460057020187\n",
      "Duration:  0.478958845139\n",
      "Duration:  0.889186143875\n",
      "Duration:  1.2904510498\n",
      "Duration:  2.03354597092\n",
      "Duration:  3.99472212791\n",
      "1\n",
      "Duration:  0.425132989883\n",
      "Duration:  0.46914100647\n",
      "Duration:  0.743796825409\n",
      "Duration:  1.22663903236\n",
      "Duration:  2.17093300819\n",
      "Duration:  4.34584712982\n",
      "2\n",
      "Duration:  0.437391996384\n",
      "Duration:  0.488009929657\n",
      "Duration:  0.788021087646\n",
      "Duration:  1.42807006836\n",
      "Duration:  2.36531496048\n",
      "Duration:  4.46577811241\n",
      "3\n",
      "Duration:  0.424421072006\n",
      "Duration:  0.503658056259\n",
      "Duration:  0.78663110733\n",
      "Duration:  1.35415697098\n",
      "Duration:  1.90930509567\n",
      "Duration:  4.43462109566\n",
      "4\n",
      "Duration:  0.459574222565\n",
      "Duration:  0.509023189545\n",
      "Duration:  0.80873799324\n",
      "Duration:  1.29904413223\n",
      "Duration:  1.94084715843\n",
      "Duration:  4.07908415794\n",
      "data/hypervector_capacity_decay-N=1-D=6-r=5-n160418.npz\n"
     ]
    },
    {
     "name": "stderr",
     "output_type": "stream",
     "text": [
      "/home/epaxon/anaconda2/lib/python2.7/site-packages/ipykernel/__main__.py:7: DeprecationWarning: using a non-integer number instead of an integer will result in an error in the future\n",
      "/home/epaxon/anaconda2/lib/python2.7/site-packages/ipykernel/__main__.py:9: DeprecationWarning: using a non-integer number instead of an integer will result in an error in the future\n",
      "/home/epaxon/anaconda2/lib/python2.7/site-packages/ipykernel/__main__.py:11: DeprecationWarning: using a non-integer number instead of an integer will result in an error in the future\n",
      "/home/epaxon/anaconda2/lib/python2.7/site-packages/ipykernel/__main__.py:12: DeprecationWarning: using a non-integer number instead of an integer will result in an error in the future\n",
      "/home/epaxon/anaconda2/lib/python2.7/site-packages/ipykernel/__main__.py:13: DeprecationWarning: using a non-integer number instead of an integer will result in an error in the future\n",
      "/home/epaxon/anaconda2/lib/python2.7/site-packages/ipykernel/__main__.py:19: DeprecationWarning: using a non-integer number instead of an integer will result in an error in the future\n"
     ]
    }
   ],
   "source": [
    "test_N = [2000]\n",
    "test_D = [2, 4, 8, 16, 32, 64]\n",
    "\n",
    "#test_N = [100, 300, 900, 2700, 8100, 24300]\n",
    "runs = 5\n",
    "\n",
    "run_id = []\n",
    "run_N = []\n",
    "run_D = []\n",
    "lidx_all = []\n",
    "lidx_li_all = []\n",
    "lidx_iK_all = []\n",
    "lidx_fi_all = []\n",
    "\n",
    "K=20\n",
    "\n",
    "for r in range(runs):\n",
    "    print r\n",
    "    for N in test_N:\n",
    "        for D in test_D:\n",
    "            lidx, lidx_li, lidx_iK, lidx_fi = test_capacity_decay(N, D, decay=0.99, K=K)\n",
    "        \n",
    "            run_id.append(r)\n",
    "            run_N.append(N)\n",
    "            run_D.append(D)\n",
    "            lidx_all.append(lidx)\n",
    "            lidx_li_all.append(lidx_li)\n",
    "            lidx_iK_all.append(lidx_iK)\n",
    "            lidx_fi_all.append(lidx_fi)\n",
    "        \n",
    "filename = 'data/hypervector_capacity_decay-N=' + str(len(test_N)) + '-D=' + str(len(test_D)) + '-r=' + str(runs) + '-n' + time.strftime('%y%m%d') + '.npz'\n",
    "print filename\n",
    "np.savez(filename, lidx_all=lidx_all, lidx_li_all=lidx_li_all, lidx_iK_all=lidx_iK_all, lidx_fi_all=lidx_fi_all,\n",
    "        run_id=run_id, run_N=run_N, run_D=run_D, runs=runs, test_N=test_N, test_D=test_D)\n"
   ]
  },
  {
   "cell_type": "code",
   "execution_count": null,
   "metadata": {
    "collapsed": true
   },
   "outputs": [],
   "source": [
    "run_id = np.array(run_id)\n",
    "run_D = np.array(run_D)\n",
    "\n",
    "uD = unique(run_D)\n",
    "\n",
    "li_mean = np.zeros((lidx_li_all[0].shape[0], len(uD)))\n",
    "iK_mean = np.zeros((lidx_iK_all[0].shape[0], len(uD)))\n",
    "fi_mean = np.zeros((lidx_fi_all[0].shape[0], len(uD)))\n",
    "\n",
    "for iD, idxD in enumerate(uD):\n",
    "    idxs = find(run_D==idxD)\n",
    "    for i in idxs:\n",
    "        li_mean[:,iD] += np.array(lidx_all[i] == lidx_li_all[i], 'int32')\n",
    "        iK_mean[:,iD] += np.array(lidx_all[i] == roll(lidx_iK_all[i], -K+1), 'int32')                             \n",
    "        fi_mean[:,iD] += np.array(lidx_all[i][0] == lidx_fi_all[i], 'int32')\n",
    "    \n",
    "li_mean = li_mean / runs\n",
    "iK_mean = iK_mean / runs\n",
    "fi_mean = fi_mean / runs\n"
   ]
  },
  {
   "cell_type": "code",
   "execution_count": null,
   "metadata": {
    "collapsed": true
   },
   "outputs": [],
   "source": [
    "figure(figsize=(8,6))\n",
    "\n",
    "cm=get_cmap('jet', li_mean.shape[1])\n",
    "\n",
    "for i in range(li_mean.shape[1]):\n",
    "    #plot(li_mean[:,i], color=cm(i))\n",
    "    smoothN = 5\n",
    "    plot(np.convolve(li_mean[:,i], np.ones(smoothN)/smoothN, mode='same'), color=cm(i), lw=3, label=\"D: %5i\" % test_D[i])\n",
    "    \n",
    "legend(loc='lower left');\n",
    "title('Readout of most recent input', fontsize=20);\n",
    "xlabel('Number of items stored', fontsize=16);\n",
    "ylabel('Probability of correct readout', fontsize=16)\n"
   ]
  },
  {
   "cell_type": "code",
   "execution_count": null,
   "metadata": {
    "collapsed": true
   },
   "outputs": [],
   "source": [
    "figure(figsize=(8,6))\n",
    "\n",
    "cm=get_cmap('jet', iK_mean.shape[1])\n",
    "\n",
    "for i in range(iK_mean.shape[1]):\n",
    "    #plot(li_mean[:,i], color=cm(i))\n",
    "    smoothN = 5\n",
    "    plot(np.convolve(iK_mean[:,i], np.ones(smoothN)/smoothN, mode='same'), color=cm(i), lw=3, label=\"D: %5i\" % test_D[i])\n",
    "    \n",
    "legend(loc='lower left');\n",
    "title('Readout of %dth most recent input' % K, fontsize=20);\n",
    "xlabel('Number of items stored', fontsize=16);\n",
    "ylabel('Probability of correct readout', fontsize=16)\n"
   ]
  },
  {
   "cell_type": "code",
   "execution_count": null,
   "metadata": {
    "collapsed": true
   },
   "outputs": [],
   "source": [
    "figure(figsize=(8,6))\n",
    "\n",
    "cm=get_cmap('jet', li_mean.shape[1])\n",
    "\n",
    "for i in range(fi_mean.shape[1]):\n",
    "    #plot(li_mean[:,i], color=cm(i))\n",
    "    smoothN = 5\n",
    "    plot(np.convolve(fi_mean[:,i], np.ones(smoothN)/smoothN, mode='same'), color=cm(i), lw=3, label=\"D: %5i\" % test_D[i])\n",
    "    \n",
    "legend(loc='lower left');\n",
    "title('Readout of first input', fontsize=20);\n",
    "xlabel('Number of items stored', fontsize=16);\n",
    "ylabel('Probability of correct readout', fontsize=16)\n",
    "xlim([0, 1000])"
   ]
  }
 ],
 "metadata": {
  "kernelspec": {
   "display_name": "Python 2",
   "language": "python",
   "name": "python2"
  },
  "language_info": {
   "codemirror_mode": {
    "name": "ipython",
    "version": 2
   },
   "file_extension": ".py",
   "mimetype": "text/x-python",
   "name": "python",
   "nbconvert_exporter": "python",
   "pygments_lexer": "ipython2",
   "version": "2.7.11"
  }
 },
 "nbformat": 4,
 "nbformat_minor": 0
}
