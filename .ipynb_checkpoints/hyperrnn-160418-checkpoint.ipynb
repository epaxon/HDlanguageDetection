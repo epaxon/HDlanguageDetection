{
 "cells": [
  {
   "cell_type": "markdown",
   "metadata": {},
   "source": [
    "## 3. Recurrent Neural Networks and Hypervectors\n",
    "\n",
    "Neural networks are commonly used in machine-learning and as mathematical descriptions of the brain's functioning. However, most neural networks are treated like a black-box, and although learning techniques can get neural networks to produce a useful input-output relationship, it is unclear exactly how the neural network arrives it this answer.\n",
    "\n",
    "The hypervector algebra has direct connections to the properties of neural networks, and the mathematics of the theory can be used to shine light on the black-box. \n",
    "\n",
    "The primary difference between a neural network and a hypervector is that the neural network has a weight matrix, where each neuron influences others through an operation like matrix multiply. This matrix act as the parameters that can be used for learning and computation. The weight matrix can feed information from one layer of neurons into another, or the weight matrix can be used in a recurrent neural network, where the activity of neurons in the same layer can influence each other over time.\n",
    "\n",
    "The other typical difference is that neural networks often have a non-linear activation function. We will explore this later, but the properties of linear neural networks are still important with non-linear activation functions.\n",
    "\n",
    "### 3.1 Permutation stores history in Hyper-RNN\n",
    "\n",
    "One connection with the recurrent weight matrix and the hypervector algebra is that the roll/permutation/circular convolution operation can be implemented by a weight matrix. This means we can design 'Hyper-RNN's, which look and act like regular recurrent neural networks, but are still valid hypervectors and the hypercomputing algebra can be used to store and decode information in a straight-forward fashion."
   ]
  },
  {
   "cell_type": "code",
   "execution_count": 1,
   "metadata": {
    "collapsed": false
   },
   "outputs": [
    {
     "name": "stdout",
     "output_type": "stream",
     "text": [
      "height has been deprecated.\n",
      "\n",
      "2016-04-21 12:03\n"
     ]
    }
   ],
   "source": [
    "from pylab import *\n",
    "import random_idx\n",
    "import time\n",
    "%matplotlib inline\n",
    "from __future__ import division"
   ]
  },
  {
   "cell_type": "code",
   "execution_count": 2,
   "metadata": {
    "collapsed": false
   },
   "outputs": [
    {
     "name": "stdout",
     "output_type": "stream",
     "text": [
      "[[ 1  1  1 ...,  1 -1 -1]\n",
      " [ 1  1  1 ...,  1 -1  1]\n",
      " [ 1  1  1 ..., -1 -1  1]\n",
      " ..., \n",
      " [-1  1 -1 ...,  1  1  1]\n",
      " [ 1 -1 -1 ...,  1  1 -1]\n",
      " [ 1  1 -1 ...,  1  1  1]]\n"
     ]
    }
   ],
   "source": [
    "N=1000\n",
    "letter_vectors = 2 * (np.random.randn(len(random_idx.alphabet), N) > 0) - 1\n",
    "print letter_vectors"
   ]
  },
  {
   "cell_type": "code",
   "execution_count": 3,
   "metadata": {
    "collapsed": false
   },
   "outputs": [
    {
     "name": "stdout",
     "output_type": "stream",
     "text": [
      "Duration:  0.00205111503601\n"
     ]
    }
   ],
   "source": [
    "hypervec = np.zeros(N)\n",
    "\n",
    "# So, we can add stuff to the hypervec as usual\n",
    "letter_sequence = 'store these letters in the hypervector'\n",
    "\n",
    "tstart = time.time()\n",
    "for l in letter_sequence:\n",
    "    lidx = random_idx.alphabet.find(l)\n",
    "    \n",
    "    hypervec = np.roll(hypervec, 1) + letter_vectors[lidx, :]\n",
    "\n",
    "print 'Duration: ', time.time() - tstart\n"
   ]
  },
  {
   "cell_type": "markdown",
   "metadata": {},
   "source": [
    "So, now the hypervector has each letter stored at an index using the roll operation. You can see how we just roll the hypervector each time we add a letter, as if the hypervector could be taking in a continuous stream. \n",
    "\n",
    "We can then derefence the hypervector, and get the letters at certain positions."
   ]
  },
  {
   "cell_type": "code",
   "execution_count": 4,
   "metadata": {
    "collapsed": false
   },
   "outputs": [
    {
     "name": "stdout",
     "output_type": "stream",
     "text": [
      "r o t c e v r e p y h   e h t   n i   s r e t t e l   e s e h t   e r o t s\n"
     ]
    },
    {
     "data": {
      "image/png": "[encoded data removed]",
      "text/plain": [
       "<matplotlib.figure.Figure at 0x7efefd0732d0>"
      ]
     },
     "metadata": {},
     "output_type": "display_data"
    }
   ],
   "source": [
    "def letter_at_pos(pos):\n",
    "    v = np.roll(hypervec, -pos)\n",
    "    vals = np.dot(letter_vectors/N, v.T)\n",
    "    bar(arange(len(vals))+0.15, vals)   \n",
    "    ax=gca()\n",
    "    ax.set_xticks(arange(len(random_idx.alphabet))+0.5)\n",
    "    th = ax.set_xticklabels(list(random_idx.alphabet))\n",
    "    return argmax(vals)\n",
    "\n",
    "for i in range(len(letter_sequence)):\n",
    "    print random_idx.alphabet[letter_at_pos(i)],\n",
    "    "
   ]
  },
  {
   "cell_type": "markdown",
   "metadata": {},
   "source": [
    "**Figure 3.1. Permutation can store a stream of inputs in a hypervector.** We stored a sequence of letters in the hypervector and then asked it to recall the history of the sequence backwards. The histogram plot contains every overlapping histogram for each letter recalled from the sequence.\n",
    "\n",
    "It prints the letters out backwards, which is what we asked. \n",
    "\n",
    "Now, the roll operation can be equivalently expressed as a matrix multiply. "
   ]
  },
  {
   "cell_type": "code",
   "execution_count": 5,
   "metadata": {
    "collapsed": false
   },
   "outputs": [
    {
     "name": "stdout",
     "output_type": "stream",
     "text": [
      "[[ 0.  0.  0. ...,  0.  0.  1.]\n",
      " [ 1.  0.  0. ...,  0.  0.  0.]\n",
      " [ 0.  1.  0. ...,  0.  0.  0.]\n",
      " ..., \n",
      " [ 0.  0.  0. ...,  0.  0.  0.]\n",
      " [ 0.  0.  0. ...,  1.  0.  0.]\n",
      " [ 0.  0.  0. ...,  0.  1.  0.]]\n"
     ]
    }
   ],
   "source": [
    "roll_matrix = np.eye(N,N)\n",
    "\n",
    "roll_matrix = np.roll(roll_matrix, -1, axis=1)\n",
    "\n",
    "print roll_matrix"
   ]
  },
  {
   "cell_type": "markdown",
   "metadata": {},
   "source": [
    "This is just an off-diagonal matrix, and this should do the exact permutation operation as roll, but it will be much more inefficient. However, this takes us a step towards generalizing hypervector algebra for recurrent neural networks, because now we can treat the roll matrix as the weights of an RNN.\n",
    "\n",
    "First, lets just make sure it really does work the same way."
   ]
  },
  {
   "cell_type": "code",
   "execution_count": 6,
   "metadata": {
    "collapsed": false
   },
   "outputs": [
    {
     "name": "stdout",
     "output_type": "stream",
     "text": [
      "Duration:  0.0396721363068\n"
     ]
    }
   ],
   "source": [
    "hyperrnn = np.zeros(N)\n",
    "\n",
    "tstart = time.time()\n",
    "for l in letter_sequence:\n",
    "    lidx = random_idx.alphabet.find(l)\n",
    "    \n",
    "    hyperrnn = np.dot(roll_matrix, hyperrnn) + letter_vectors[lidx, :]\n",
    "    \n",
    "print 'Duration: ', time.time() - tstart"
   ]
  },
  {
   "cell_type": "code",
   "execution_count": 7,
   "metadata": {
    "collapsed": false
   },
   "outputs": [
    {
     "name": "stdout",
     "output_type": "stream",
     "text": [
      "True\n"
     ]
    }
   ],
   "source": [
    "print all(hypervec==hyperrnn)"
   ]
  },
  {
   "cell_type": "code",
   "execution_count": 8,
   "metadata": {
    "collapsed": false
   },
   "outputs": [
    {
     "name": "stdout",
     "output_type": "stream",
     "text": [
      "r o t c e v r e p y h   e h t   n i   s r e t t e l   e s e h t   e r o t s\n"
     ]
    },
    {
     "data": {
      "image/png": "[encoded data removed]",
      "text/plain": [
       "<matplotlib.figure.Figure at 0x7efefbeb5610>"
      ]
     },
     "metadata": {},
     "output_type": "display_data"
    }
   ],
   "source": [
    "def letter_at_pos_rnn(pos):    \n",
    "    v = np.dot(np.roll(np.eye(N,N), pos, axis=1), hyperrnn)\n",
    "    \n",
    "    vals = np.dot(letter_vectors/N, v.T)\n",
    "    bar(arange(len(vals))+0.15, vals)   \n",
    "    ax=gca()\n",
    "    ax.set_xticks(arange(len(random_idx.alphabet))+0.5)\n",
    "    th = ax.set_xticklabels(list(random_idx.alphabet))\n",
    "    return argmax(vals)\n",
    "\n",
    "for i in range(len(letter_sequence)):\n",
    "    print random_idx.alphabet[letter_at_pos_rnn(i)],\n",
    "    "
   ]
  },
  {
   "cell_type": "markdown",
   "metadata": {},
   "source": [
    "**Figure 3.2. Using a matrix multiply implements permutation and equivalent Hyper-RNN.**\n",
    "\n",
    "In this case we have to build the unrolling matrix, and then we do matrix multiply, which is much slower. \n",
    "\n",
    "### 3.2 Roll is a unitary permutation matrix\n",
    "\n",
    "The question is 'what other types of matrices are acceptable as a roll martix?' Typically with an RNN, the recurrent weights are just set randomly, but here we can see the hypervector algebra can be created with a certain type of roll matrix/connectivity. The roll matrix at heart is an *orthonormal basis*, but not every index needs to be 1 or 0. This matrix can be made more generally, and there are certain properties about this matrix that relate to how an RNN may work and store information.\n",
    "\n",
    "One thing to note is that there is a pattern to the roll matrix -- we cycle through all N possible permutations, and so the roll matrix cannot just be any orthonormal basis. Obviously, the identity matrix would not serve as a good roll matrix. At some point with the permutations, we will do a complete loop around the dimensions. This means that any good roll matrix should have a property like:\n",
    "\n",
    "$$\n",
    "R^N = R\n",
    "$$\n",
    "\n",
    "and \n",
    "\n",
    "$$\n",
    "R^j \\ne R \\\\ for j \\ne (N-1)\n",
    "$$\n",
    "\n",
    "Which basically says that the roll matrix cycles through all the dimensions, and then completes a full loop after N steps. But, you can imagine a lot of orthonormal bases that would not cycle through each dimension. If the vectors in the roll_matrix are rearranged, then the orthonormal basis part stays constant. However, if you switch a few of them, you can make the roll matrix cycle back to the beginning in less than N steps. The identity matrix cycles back in 1 step. The more steps it takes to cycle, then the more positions you have in memory.\n",
    "\n"
   ]
  },
  {
   "cell_type": "code",
   "execution_count": 9,
   "metadata": {
    "collapsed": false
   },
   "outputs": [],
   "source": [
    "def random_orthogonal(n):\n",
    "    a = np.random.random((n,n))\n",
    "    q, r = np.linalg.qr(a)\n",
    "    \n",
    "    return q"
   ]
  },
  {
   "cell_type": "code",
   "execution_count": 10,
   "metadata": {
    "collapsed": false
   },
   "outputs": [
    {
     "name": "stdout",
     "output_type": "stream",
     "text": [
      "0.384315013885\n",
      "[[-0.00937185 -0.0084273  -0.07305263 ...,  0.02261883 -0.01779826\n",
      "  -0.03756939]\n",
      " [-0.00156826 -0.03365489 -0.06502523 ...,  0.00761983  0.06743019\n",
      "  -0.01293149]\n",
      " [-0.02871651 -0.01487839 -0.008874   ..., -0.00434878 -0.00949259\n",
      "   0.02532397]\n",
      " ..., \n",
      " [-0.00608767 -0.00258828 -0.03435817 ...,  0.00293759  0.01748251\n",
      "  -0.03077699]\n",
      " [-0.03185124 -0.02733382  0.02906435 ...,  0.02599011 -0.08045753\n",
      "   0.0018639 ]\n",
      " [-0.04212511  0.00053447  0.00167768 ...,  0.02871895  0.01700963\n",
      "   0.02956294]]\n"
     ]
    }
   ],
   "source": [
    "tstart = time.time()\n",
    "ro = random_orthogonal(N)\n",
    "print time.time() - tstart\n",
    "print ro"
   ]
  },
  {
   "cell_type": "markdown",
   "metadata": {},
   "source": [
    "A random orthogonal matrix, should work just as well as the roll matrix."
   ]
  },
  {
   "cell_type": "code",
   "execution_count": 11,
   "metadata": {
    "collapsed": false
   },
   "outputs": [
    {
     "data": {
      "text/plain": [
       "(1000, 1000)"
      ]
     },
     "execution_count": 11,
     "metadata": {},
     "output_type": "execute_result"
    }
   ],
   "source": [
    "ro.shape"
   ]
  },
  {
   "cell_type": "code",
   "execution_count": 13,
   "metadata": {
    "collapsed": false,
    "scrolled": true
   },
   "outputs": [
    {
     "name": "stdout",
     "output_type": "stream",
     "text": [
      "Duration:  0.0279080867767\n"
     ]
    }
   ],
   "source": [
    "hyperro = np.zeros(N)\n",
    "\n",
    "tstart = time.time()\n",
    "for l in letter_sequence:\n",
    "    lidx = random_idx.alphabet.find(l)\n",
    "    \n",
    "    hyperro = np.dot(ro, hyperro) + letter_vectors[lidx, :]\n",
    "    \n",
    "print 'Duration: ', time.time() - tstart"
   ]
  },
  {
   "cell_type": "code",
   "execution_count": 14,
   "metadata": {
    "collapsed": false
   },
   "outputs": [
    {
     "name": "stdout",
     "output_type": "stream",
     "text": [
      "r o t c e v r e p y h   e h t   n i   s r e t t e l   e s e h t   e r o t s\n"
     ]
    },
    {
     "data": {
      "image/png": "[encoded data removed]",
      "text/plain": [
       "<matplotlib.figure.Figure at 0x7efefbc52050>"
      ]
     },
     "metadata": {},
     "output_type": "display_data"
    }
   ],
   "source": [
    "def letter_at_pos_ro(pos): \n",
    "    # so to read out, we need to decode the ro, which means we have to do a bunch of matrix multiplies.\n",
    "    \n",
    "    v = np.dot(np.linalg.matrix_power(ro, -pos), hyperro)\n",
    "    #v = np.dot(np.roll(np.eye(N,N), pos, axis=1), hyperrnn)\n",
    "    \n",
    "    vals = np.dot(letter_vectors/N, v.T)\n",
    "    bar(arange(len(vals))+0.15, vals)   \n",
    "    ax=gca()\n",
    "    ax.set_xticks(arange(len(random_idx.alphabet))+0.5)\n",
    "    th = ax.set_xticklabels(list(random_idx.alphabet))\n",
    "    return argmax(vals)\n",
    "\n",
    "for i in range(len(letter_sequence)):\n",
    "    print random_idx.alphabet[letter_at_pos_ro(i)],\n",
    "    "
   ]
  },
  {
   "cell_type": "markdown",
   "metadata": {},
   "source": [
    "**Figure 3.3. Linear RNN with random orthogonal weight matrix can store sequence of letters.** \n",
    "\n",
    "Thus one can just use a random orthonormal matrix as the permutation operation, and can store the sequence in a linear RNN in the same fashion.\n",
    "\n",
    "This is terribly slow, however, because we have to compute the inverse of the matrix and raise it to a power to go backwards. However, the important point is that we have taken another step towards generalizing the hypervector math to neural networks. \n",
    "\n",
    "This is important because the storage capacity of an RNN is not well known and utilizing the hypervector algebra has the potential of answering this question. Becuase we can show that hypervectors and RNN are essentially equivalent, we can say that the storage capacity of a hypervector is similar to RNN.\n",
    "\n",
    "Many don't consider the capacity of an RNN -- how much information can it keep in the activity of recurrent dynamics? The limit is set by how much an equivalent hypervector can hold. \n",
    "\n",
    "As long as the recurrent weight matrix is orthonormal the Hyper-RNN can store the history of its input stream. Of course identity would not work, even though its orthonormal, and then there are tons of other permutations that won't work as well. At some point the permutation operation has to do a loop, and the max number of iterations for a loop would be N (does it have to loop at some point?). \n",
    "\n",
    "But random orthonormal matrix works well. The hypervector probably cannot store N values anyway, so the loop issue is not so bad. A random basis will likely not have N steps before looping, but it should be high or close to N (maybe?). \n",
    "\n",
    "\n",
    "The final difference with the RNN and hypervectors is that the hypervectors are entirely linear. An RNN often has a non-linear threshold/saturation function. What would this mean in terms of storage and capacity? How would decoding/dereferencing the memory work? \n"
   ]
  },
  {
   "cell_type": "markdown",
   "metadata": {
    "collapsed": true
   },
   "source": [
    "### 3.3 Plate RNN\n",
    "\n",
    "An alternative vector-symbolic architecture to hypercomputing with binary splatter codes (Kanerva) is the Holographic Reduced Representation (Plate, 1995). This architecture still uses high-dimensional vectors but has a different set of representations and operations. In a similar fashion, the HRR computing architecture can be straight-forwardly generalized to a linear recurrent neural network, and we can use the algebra of the mathematics to directly encode and decode a long series of input symbols. \n",
    "\n",
    "In the HRR framework, the hypervector representations change from $[-1, +1]^N$ to hypervectors with elements chosen from a normal distributrion -- ($[\\mathscr{N}(0,1/N)]^N$). These vectors have an expected value length of 1, as well as the representations can be made to have exactly norm 1 (this is typically more useful). The other primary difference is that the HRR framework uses \"circular convolution\" ($\\oplus$) for binding.\n",
    "\n",
    "In the Kanerva framework, we illustrated how to use the roll operation to store a stream of letters into a hypervector, and related this operation to recurrent neural networks. This same procedure can be followed under the Plate framework using circular convolution.\n",
    "\n",
    "According to Plate 1995, the circular convolution operation can be transformed into a matrix multiply for a fixed vector. This takes us towards reconsidering the Plate circular convolution in terms of a recurrent neural network. In fact, Plate even states this idea that circular convolution with a fixed vector can be turned into a matrix multiply and he states that this could be part of a feed-forward neural network. \n",
    "\n",
    "> \"The convolution operation can be expressed as a matrix-vector multiplication.\n",
    "$$\n",
    "    a \\oplus b = M_a b\n",
    "$$\n",
    "> \"where $M_a$ is the matrix corresponding to convolution by $a$. It has elements $m_{a_{ij}}=a_{i-j}$ (where the subscripts on a are interpreted modulo n). Such matrices are known as \"circulant matrices\" [6]. The eigenvalues of $M_a$ are the individual (complex valued) elements of the Fourier transform of $a$. The corresponding eigenvectors are the inverse transform of the frequency components (i.e., $(1,0,0,...), (0,1,0,...), etc.$ in the frequency domain). Thus it is possible for the mapping computed by the connections between two layers in a feed-forward network (i.e. a matrix multiplication) to correspond to convolution by a fixed vector.\"\n",
    "\n",
    "This should mean that the roll vector can be transformed into a weight matrix. And luckily scipy has a built-in function for making the circulant matrix from a given vector.\n"
   ]
  },
  {
   "cell_type": "code",
   "execution_count": 15,
   "metadata": {
    "collapsed": true
   },
   "outputs": [],
   "source": [
    "def cconv(a, b):\n",
    "    return ifft(fft(a) * fft(b))\n",
    "    \n",
    "def ccinv(a):\n",
    "    return ifft(np.conj(fft(a)))  "
   ]
  },
  {
   "cell_type": "code",
   "execution_count": 17,
   "metadata": {
    "collapsed": false
   },
   "outputs": [],
   "source": [
    "import nengo\n",
    "N=1000\n",
    "hs = nengo.dists.UniformHypersphere()\n",
    "letter_vectors = hs.sample(len(random_idx.alphabet), N)\n",
    "letters = random_idx.alphabet.replace(' ', '_')\n",
    "\n",
    "for i in range(len(random_idx.alphabet)):\n",
    "    # ok pretty close to 1, but lets make it exact.\n",
    "    letter_vectors[i,:] = letter_vectors[i,:] / norm(letter_vectors[i,:])\n"
   ]
  },
  {
   "cell_type": "code",
   "execution_count": 18,
   "metadata": {
    "collapsed": true
   },
   "outputs": [],
   "source": [
    "roll_vector = hs.sample(1, N)[0]\n",
    "roll_vector = roll_vector / norm(roll_vector)"
   ]
  },
  {
   "cell_type": "code",
   "execution_count": 19,
   "metadata": {
    "collapsed": false
   },
   "outputs": [
    {
     "name": "stdout",
     "output_type": "stream",
     "text": [
      "[[  1.98869279e-02  -2.28130610e-03  -5.87579087e-03 ...,   1.88206574e-02\n",
      "   -1.23686248e-02   2.76073649e-02]\n",
      " [  2.76073649e-02   1.98869279e-02  -2.28130610e-03 ...,  -3.71765734e-02\n",
      "    1.88206574e-02  -1.23686248e-02]\n",
      " [ -1.23686248e-02   2.76073649e-02   1.98869279e-02 ...,  -6.42131455e-02\n",
      "   -3.71765734e-02   1.88206574e-02]\n",
      " ..., \n",
      " [  2.71143582e-05  -3.61985289e-02   5.24515536e-03 ...,   1.98869279e-02\n",
      "   -2.28130610e-03  -5.87579087e-03]\n",
      " [ -5.87579087e-03   2.71143582e-05  -3.61985289e-02 ...,   2.76073649e-02\n",
      "    1.98869279e-02  -2.28130610e-03]\n",
      " [ -2.28130610e-03  -5.87579087e-03   2.71143582e-05 ...,  -1.23686248e-02\n",
      "    2.76073649e-02   1.98869279e-02]]\n"
     ]
    }
   ],
   "source": [
    "import scipy\n",
    "\n",
    "roll_matrix = scipy.linalg.circulant(roll_vector)\n",
    "print roll_matrix"
   ]
  },
  {
   "cell_type": "code",
   "execution_count": 20,
   "metadata": {
    "collapsed": false
   },
   "outputs": [
    {
     "name": "stdout",
     "output_type": "stream",
     "text": [
      "[ 0.03930744  0.03100613  0.02641404 -0.00874548 -0.01196053  0.00787187\n",
      " -0.00939496 -0.06250401  0.01932335  0.03827589]\n",
      "[ 0.03930744  0.03100613  0.02641404 -0.00874548 -0.01196053  0.00787187\n",
      " -0.00939496 -0.06250401  0.01932335  0.03827589]\n"
     ]
    }
   ],
   "source": [
    "am = np.dot(roll_matrix, letter_vectors[0,:])\n",
    "av = real(cconv(roll_vector, letter_vectors[0,:]))\n",
    "print am[0:10]\n",
    "print av[0:10]"
   ]
  },
  {
   "cell_type": "markdown",
   "metadata": {},
   "source": [
    "This shows that we can easily convert circular convolution into a matrix multiply. However, in order to translate circular convolution into a recurrent neural network architecture, the `roll_vector` must have some other nice properties. Plate (2003) describes this as \"Trajectory-Association\" and its requirements, namely that the `roll_vector` must be *unitary* in fourier space. \n",
    "\n",
    "This means that we cannot just pick a random unit-length sphere vector to act as our roll vector. This is because a random unit vector will be unitary only by *expected value*. Which will cause problems keeping information in the hypervector."
   ]
  },
  {
   "cell_type": "code",
   "execution_count": 22,
   "metadata": {
    "collapsed": false
   },
   "outputs": [
    {
     "name": "stdout",
     "output_type": "stream",
     "text": [
      "Mean:  1.0 Std:  0.810488406483\n"
     ]
    },
    {
     "data": {
      "image/png": "[encoded data removed]",
      "text/plain": [
       "<matplotlib.figure.Figure at 0x7efec2534050>"
      ]
     },
     "metadata": {},
     "output_type": "display_data"
    }
   ],
   "source": [
    "plot(real(fft(roll_vector)))\n",
    "plot(imag(fft(roll_vector)))\n",
    "print \"Mean: \", mean(real(fft(roll_vector))**2 + imag(fft(roll_vector))**2),\n",
    "print \"Std: \", var(real(fft(roll_vector))**2 + imag(fft(roll_vector))**2)"
   ]
  },
  {
   "cell_type": "markdown",
   "metadata": {},
   "source": [
    "** Figure 3.4. Unit-length vectors are only unitary in fourier space by expectation**\n",
    "\n",
    "Now, we can really see a direct connection between Plate and Kanerva and how these algebraic theories describe the operations of recurrent neural networks. \n",
    "\n",
    "In the Plate framework, the `roll_vector` for trajectory-association must be a unitary vector in the frequency domain. And the `roll_matrix` is the *circulant matrix* of that `roll_vector`. A unitary vector in the frequency domain will translate into a unit-length vector in the spatial domain. A circulant matrix created from a unitary vector in frequency space is also a unitary permutation matix. This essentially makes circular convolution ($\\oplus$) the more general binary version of permutation ($r$).\n",
    "\n",
    "If the `roll_vector` used to build the weight matrix in Plate's framework happens to be $[0, 1, 0, ... 0]$, then the Plate and Kanerva operations are *exactly* the same. "
   ]
  },
  {
   "cell_type": "code",
   "execution_count": 24,
   "metadata": {
    "collapsed": false
   },
   "outputs": [
    {
     "name": "stdout",
     "output_type": "stream",
     "text": [
      "[[ 0.  0.  0. ...,  0.  0.  1.]\n",
      " [ 1.  0.  0. ...,  0.  0.  0.]\n",
      " [ 0.  1.  0. ...,  0.  0.  0.]\n",
      " ..., \n",
      " [ 0.  0.  0. ...,  0.  0.  0.]\n",
      " [ 0.  0.  0. ...,  1.  0.  0.]\n",
      " [ 0.  0.  0. ...,  0.  1.  0.]]\n"
     ]
    }
   ],
   "source": [
    "unitaryf_roll_vec = np.zeros(N)\n",
    "unitaryf_roll_vec[1] = 1\n",
    "\n",
    "unitary_roll_matrix = scipy.linalg.circulant(unitaryf_roll_vec)\n",
    "print unitary_roll_matrix\n"
   ]
  },
  {
   "cell_type": "code",
   "execution_count": 25,
   "metadata": {
    "collapsed": false
   },
   "outputs": [
    {
     "name": "stdout",
     "output_type": "stream",
     "text": [
      "Mean:  1.0 Var:  3.81401921723e-31\n"
     ]
    },
    {
     "data": {
      "image/png": "[encoded data removed]",
      "text/plain": [
       "<matplotlib.figure.Figure at 0x7efec249b390>"
      ]
     },
     "metadata": {},
     "output_type": "display_data"
    }
   ],
   "source": [
    "plot(real(fft(unitaryf_roll_vec)))\n",
    "plot(imag(fft(unitaryf_roll_vec)))\n",
    "print \"Mean: \", mean(real(fft(unitaryf_roll_vec))**2 + imag(fft(unitaryf_roll_vec))**2),\n",
    "print \"Var: \", var(real(fft(unitaryf_roll_vec))**2 + imag(fft(unitaryf_roll_vec))**2)"
   ]
  },
  {
   "cell_type": "markdown",
   "metadata": {},
   "source": [
    "**Figure 3.5 Certain unit-length vectors are unitary in Fourier space.** There is no variance.\n"
   ]
  },
  {
   "cell_type": "code",
   "execution_count": 26,
   "metadata": {
    "collapsed": false
   },
   "outputs": [
    {
     "name": "stdout",
     "output_type": "stream",
     "text": [
      "1.0\n"
     ]
    }
   ],
   "source": [
    "iunitary = ifft(2 * (np.random.randn(N) < 0) - 1)\n",
    "print norm(iunitary)"
   ]
  },
  {
   "cell_type": "markdown",
   "metadata": {},
   "source": [
    "First, lets see this working and then we will discuss the situations in which it does not work that we eluded to."
   ]
  },
  {
   "cell_type": "code",
   "execution_count": 27,
   "metadata": {
    "collapsed": true
   },
   "outputs": [],
   "source": [
    "roll_vector = unitaryf_roll_vec"
   ]
  },
  {
   "cell_type": "code",
   "execution_count": 29,
   "metadata": {
    "collapsed": false
   },
   "outputs": [
    {
     "name": "stdout",
     "output_type": "stream",
     "text": [
      "Duration:  0.00834512710571\n"
     ]
    }
   ],
   "source": [
    "platernn = np.zeros(N)\n",
    "\n",
    "tstart = time.time()\n",
    "for l in letter_sequence:\n",
    "    lidx = random_idx.alphabet.find(l)\n",
    "    platernn = cconv(roll_vector, platernn) + letter_vectors[lidx, :]\n",
    "    \n",
    "print 'Duration: ', time.time() - tstart\n"
   ]
  },
  {
   "cell_type": "code",
   "execution_count": 30,
   "metadata": {
    "collapsed": false
   },
   "outputs": [
    {
     "name": "stdout",
     "output_type": "stream",
     "text": [
      "r o t c e v r e p y h   e h t   n i   s r e t t e l   e s e h t   e r o t s\n"
     ]
    },
    {
     "name": "stderr",
     "output_type": "stream",
     "text": [
      "/home/epaxon/anaconda2/lib/python2.7/site-packages/matplotlib/transforms.py:839: ComplexWarning: Casting complex values to real discards the imaginary part\n",
      "  points = np.array(args, dtype=np.float_).reshape(2, 2)\n",
      "/home/epaxon/anaconda2/lib/python2.7/site-packages/matplotlib/transforms.py:1895: ComplexWarning: Casting complex values to real discards the imaginary part\n",
      "  np.float_)\n"
     ]
    },
    {
     "data": {
      "image/png": "[encoded data removed]",
      "text/plain": [
       "<matplotlib.figure.Figure at 0x7efec24ba3d0>"
      ]
     },
     "metadata": {},
     "output_type": "display_data"
    }
   ],
   "source": [
    "def letter_at_pos_plate(pos):     \n",
    "    rv = np.zeros(N)\n",
    "    rv[0] = 1\n",
    "    for i in range(pos):\n",
    "        rv = cconv(rv, roll_vector)\n",
    "\n",
    "    v = cconv(platernn, ccinv(rv))\n",
    "    \n",
    "    vals = np.dot(letter_vectors, v.T)\n",
    "    bar(arange(len(vals))+0.15, vals)   \n",
    "    ax=gca()\n",
    "    ax.set_xticks(arange(len(random_idx.alphabet))+0.5)\n",
    "    th = ax.set_xticklabels(list(random_idx.alphabet))\n",
    "    return argmax(vals)\n",
    "\n",
    "for i in range(len(letter_sequence)):\n",
    "    print random_idx.alphabet[letter_at_pos_plate(i)],\n",
    "    "
   ]
  },
  {
   "cell_type": "markdown",
   "metadata": {},
   "source": [
    "**Figure 3.6. HRR-RNN also is a valid framework for storing stream of inputs.** There is a relationship between circular convolution in HRR and permutation in Hypercomputing that makes these equivalent.\n",
    "\n",
    "Now, we can see what happens when the roll_vector has unit-length, but is only unitary in the fourier domain by expectation."
   ]
  },
  {
   "cell_type": "code",
   "execution_count": 32,
   "metadata": {
    "collapsed": false
   },
   "outputs": [
    {
     "name": "stdout",
     "output_type": "stream",
     "text": [
      "y o i x s y m v o i x s y m v o i x s y m r x s y s y o i x s y m y o i x s\n"
     ]
    },
    {
     "data": {
      "image/png": "[encoded data removed]",
      "text/plain": [
       "<matplotlib.figure.Figure at 0x7efec2bd6450>"
      ]
     },
     "metadata": {},
     "output_type": "display_data"
    }
   ],
   "source": [
    "roll_vector = hs.sample(1, N)[0]\n",
    "roll_vector = roll_vector / norm(roll_vector)\n",
    "platernn = np.zeros(N)\n",
    "\n",
    "for l in letter_sequence:\n",
    "    lidx = random_idx.alphabet.find(l)\n",
    "    platernn = cconv(roll_vector, platernn) + letter_vectors[lidx, :]\n",
    "    \n",
    "for i in range(len(letter_sequence)):\n",
    "    print random_idx.alphabet[letter_at_pos_plate(i)],\n",
    "    "
   ]
  },
  {
   "cell_type": "markdown",
   "metadata": {},
   "source": [
    "** Figure 3.7. Roll vector that is unitary in fourier domain only by expectation cannot store sequence information.**\n",
    "\n",
    "We get a bunch of non-sense and exploding values in the dot product because of the exponential nature of this system and the fact that the roll_vector is unitary only by expectation.\n",
    "\n",
    "We can use Plate's equations to translate trajectory-association via circular convolution into a weight matrix.\n"
   ]
  },
  {
   "cell_type": "code",
   "execution_count": 38,
   "metadata": {
    "collapsed": false
   },
   "outputs": [
    {
     "name": "stdout",
     "output_type": "stream",
     "text": [
      "r o t c e v r e p y h   e h t   n i   s r e t t e l   e s e h t   e r o t s\n"
     ]
    },
    {
     "data": {
      "image/png": "[encoded data removed]",
      "text/plain": [
       "<matplotlib.figure.Figure at 0x7efec3e65dd0>"
      ]
     },
     "metadata": {},
     "output_type": "display_data"
    }
   ],
   "source": [
    "roll_vector = np.zeros(N)\n",
    "roll_vector[1] = 1\n",
    "\n",
    "ro = scipy.linalg.circulant(roll_vector)\n",
    "hyperro = np.zeros(N)\n",
    "\n",
    "for l in letter_sequence:\n",
    "    lidx = random_idx.alphabet.find(l)\n",
    "    hyperro = np.dot(ro, hyperro) + letter_vectors[lidx, :]\n",
    "\n",
    "for i in range(len(letter_sequence)):\n",
    "    print random_idx.alphabet[letter_at_pos_ro(i)],\n",
    "    "
   ]
  },
  {
   "cell_type": "markdown",
   "metadata": {},
   "source": [
    "** Figure 3.8. HRR-RNN.** Using Plate's method of translating circular convolution into matrix multiply, the HRR framework can be used to make a linear RNN store the sequence of characters.\n",
    "\n",
    "In this case, we chose the `roll_vector` that makes the same weight matrix as the permutation matrix we originally used in the Kanerva framework (Figure 3.2). This means that the same weight matrix can be used to store information using both representations.\n",
    " \n",
    "Again, to do trajectory-association the roll vector must have unitary values in the fourier domain to prevent the system from exploding. If we use Plate's translation from circular convolution to matrix multiply (`circulant`), then we see that the matrix built from a random vector with unit length has the same exploding problem."
   ]
  },
  {
   "cell_type": "code",
   "execution_count": 39,
   "metadata": {
    "collapsed": false
   },
   "outputs": [
    {
     "name": "stdout",
     "output_type": "stream",
     "text": [
      "y s f s p m p n l z b n a b e a u g a u g a u g a u g a u g n u b n z b n a\n"
     ]
    },
    {
     "data": {
      "image/png": "[encoded data removed]",
      "text/plain": [
       "<matplotlib.figure.Figure at 0x7efec2e82d10>"
      ]
     },
     "metadata": {},
     "output_type": "display_data"
    }
   ],
   "source": [
    "roll_vector = hs.sample(1, N)[0]\n",
    "roll_vector = roll_vector / norm(roll_vector)\n",
    "\n",
    "rov = scipy.linalg.circulant(roll_vector)\n",
    "ro = rov\n",
    "hyperro = np.zeros(N)\n",
    "\n",
    "for l in letter_sequence:\n",
    "    lidx = random_idx.alphabet.find(l)\n",
    "    hyperro = np.dot(ro, hyperro) + letter_vectors[lidx, :]\n",
    "\n",
    "for i in range(len(letter_sequence)):\n",
    "    print random_idx.alphabet[letter_at_pos_ro(i)],\n",
    "    "
   ]
  },
  {
   "cell_type": "markdown",
   "metadata": {},
   "source": [
    "**Figure 3.9. Approximately unitary weight matrix causes HRR-RNN to explode.**\n",
    "\n",
    "This again happens because of the properties of this matrix. Rather than being a complete basis set of orthogonal vectors, the matrix is only *expected* to be that and has variance. Thus it is not exactly its own self-inverse, and the eigenvalues of the matrix are only 1 on average. Because some eigenvalues are greater than 1, this causes the recurrent network to explode exponentially.\n"
   ]
  },
  {
   "cell_type": "code",
   "execution_count": 53,
   "metadata": {
    "collapsed": false
   },
   "outputs": [
    {
     "name": "stdout",
     "output_type": "stream",
     "text": [
      "[[ 1.   -0.01 -0.04 ...,  0.01 -0.04 -0.01]\n",
      " [-0.01  1.   -0.01 ..., -0.04  0.01 -0.04]\n",
      " [-0.04 -0.01  1.   ..., -0.02 -0.04  0.01]\n",
      " ..., \n",
      " [ 0.01 -0.04 -0.02 ...,  1.   -0.01 -0.04]\n",
      " [-0.04  0.01 -0.04 ..., -0.01  1.   -0.01]\n",
      " [-0.01 -0.04  0.01 ..., -0.04 -0.01  1.  ]]\n"
     ]
    }
   ],
   "source": [
    "print np.round(np.dot(rov.T, rov),2)"
   ]
  },
  {
   "cell_type": "markdown",
   "metadata": {},
   "source": [
    "However, if we utilize a random orthogonal matrix, then we can still store Plate style hypervectors in the Hyper-RNN. "
   ]
  },
  {
   "cell_type": "code",
   "execution_count": 54,
   "metadata": {
    "collapsed": false
   },
   "outputs": [
    {
     "name": "stdout",
     "output_type": "stream",
     "text": [
      "r o t c e v r e p y h   e h t   n i   s r e t t e l   e s e h t   e r o t s\n"
     ]
    },
    {
     "data": {
      "image/png": "[encoded data removed]",
      "text/plain": [
       "<matplotlib.figure.Figure at 0x7efefbb9b150>"
      ]
     },
     "metadata": {},
     "output_type": "display_data"
    }
   ],
   "source": [
    "ro = random_orthogonal(N)\n",
    "hyperro = np.zeros(N)\n",
    "\n",
    "for l in letter_sequence:\n",
    "    lidx = random_idx.alphabet.find(l)\n",
    "    hyperro = np.dot(ro, hyperro) + letter_vectors[lidx, :]\n",
    "\n",
    "for i in range(len(letter_sequence)):\n",
    "    print random_idx.alphabet[letter_at_pos_ro(i)],\n",
    "    "
   ]
  },
  {
   "cell_type": "markdown",
   "metadata": {},
   "source": [
    "**Figure 3.10. A random unitary matrix perserves information in an HRR-RNN.**"
   ]
  },
  {
   "cell_type": "code",
   "execution_count": 55,
   "metadata": {
    "collapsed": false
   },
   "outputs": [
    {
     "name": "stdout",
     "output_type": "stream",
     "text": [
      "[[ 1. -0.  0. ..., -0.  0.  0.]\n",
      " [-0.  1. -0. ...,  0. -0.  0.]\n",
      " [ 0. -0.  1. ..., -0.  0.  0.]\n",
      " ..., \n",
      " [-0.  0. -0. ...,  1.  0.  0.]\n",
      " [ 0. -0.  0. ...,  0.  1.  0.]\n",
      " [ 0.  0.  0. ...,  0.  0.  1.]]\n"
     ]
    }
   ],
   "source": [
    "print np.round(np.dot(ro.T, ro), 2)"
   ]
  },
  {
   "cell_type": "code",
   "execution_count": 51,
   "metadata": {
    "collapsed": true
   },
   "outputs": [],
   "source": [
    "# Lets look at the singular values of these matrices\n",
    "[uv, sv, vv] = svd(rov)\n",
    "[uo, so, vo] = svd(ro)"
   ]
  },
  {
   "cell_type": "code",
   "execution_count": 52,
   "metadata": {
    "collapsed": false
   },
   "outputs": [
    {
     "data": {
      "text/plain": [
       "<matplotlib.legend.Legend at 0x7efec39ef890>"
      ]
     },
     "execution_count": 52,
     "metadata": {},
     "output_type": "execute_result"
    },
    {
     "data": {
      "image/png": "[encoded data removed]",
      "text/plain": [
       "<matplotlib.figure.Figure at 0x7efec3de9510>"
      ]
     },
     "metadata": {},
     "output_type": "display_data"
    }
   ],
   "source": [
    "figure()\n",
    "plot(sv, label='Unit Circulant')\n",
    "plot(so, label='Random Orthogonal')\n",
    "\n",
    "xlabel('Index')\n",
    "ylabel('Singular Value')\n",
    "title('Singular Values of Recurrent Weight Matrix')\n",
    "legend(loc='upper right')"
   ]
  },
  {
   "cell_type": "markdown",
   "metadata": {},
   "source": [
    "**Figure 3.11. The singular values of Hyper-RNN weight matrices that work and don't work.** Unless all eigenvalues of the matrix are 1 (or near and below 1) the Hyper-RNN will explode.\n"
   ]
  },
  {
   "cell_type": "markdown",
   "metadata": {},
   "source": [
    "### 3.4 Loops in the permutation\n",
    "\n",
    "The other important aspect of the roll_vector (that applies in both frameworks) is that permutation or circular convolution can lead to loops (i.e. there is some $t$ such that $k^t=k$). This means that not all unitary vectors can work, and the capacity of such a trajectory-association network can be greatly hindered by a bad choice in the roll vector. For instance, if k is the circular convolution identity ([1,0,0...0]), then $k^t=k$ for any t, and the corresponding roll matrix will be the identity. This means only 1 value could be stored via trajectory association in such a hypervector. \n",
    "\n",
    "There are also many other vectors for which $k^t = k$ for small $t$, and the number of items that can be stored is limited by this $t$, So, if we found a $k$ such that $k^2=k$, then the hypervector can only store two items."
   ]
  },
  {
   "cell_type": "code",
   "execution_count": 33,
   "metadata": {
    "collapsed": false
   },
   "outputs": [
    {
     "name": "stdout",
     "output_type": "stream",
     "text": [
      "r e r e r e r e r e r e r e r e r e r e r e r e r e r e r e r e r e r e r e\n"
     ]
    },
    {
     "data": {
      "image/png": "[encoded data removed]",
      "text/plain": [
       "<matplotlib.figure.Figure at 0x7efec21ded10>"
      ]
     },
     "metadata": {},
     "output_type": "display_data"
    }
   ],
   "source": [
    "roll_vector = np.zeros(N)\n",
    "roll_vector[N // 2] = 1 # exactly half N means that two permutes gets you back to identity\n",
    "platernn = np.zeros(N)\n",
    "\n",
    "for l in letter_sequence:\n",
    "    lidx = random_idx.alphabet.find(l)\n",
    "    platernn = cconv(roll_vector, platernn) + letter_vectors[lidx, :]\n",
    "    \n",
    "for i in range(len(letter_sequence)):\n",
    "    print random_idx.alphabet[letter_at_pos_plate(i)],\n",
    " "
   ]
  },
  {
   "cell_type": "markdown",
   "metadata": {},
   "source": [
    "** Figure 3.12. Loops limit capacity.** The roll_vector was carefully chosen such that loops are created in the trajectory association. This allows only two slots for storing items, and the most common letters associated with these slots are ultimately stored.\n",
    "\n",
    "So in this case the hypervector really only has 2 slots to do trajectory association with. Lets see what happens with more."
   ]
  },
  {
   "cell_type": "code",
   "execution_count": 34,
   "metadata": {
    "collapsed": false
   },
   "outputs": [
    {
     "name": "stdout",
     "output_type": "stream",
     "text": [
      "e e t t e e t t e e t t e e t t e e t t e e t t e e t t e e t t e e t t e e\n"
     ]
    },
    {
     "data": {
      "image/png": "[encoded data removed]",
      "text/plain": [
       "<matplotlib.figure.Figure at 0x7efec3468750>"
      ]
     },
     "metadata": {},
     "output_type": "display_data"
    }
   ],
   "source": [
    "roll_vector = np.zeros(N)\n",
    "roll_vector[N // 4] = 1 # exactly quarter N means that four permutes gets you back to identity\n",
    "platernn = np.zeros(N)\n",
    "\n",
    "for l in letter_sequence:\n",
    "    lidx = random_idx.alphabet.find(l)\n",
    "    platernn = cconv(roll_vector, platernn) + letter_vectors[lidx, :]\n",
    "    \n",
    "for i in range(len(letter_sequence)):\n",
    "    print random_idx.alphabet[letter_at_pos_plate(i)],\n",
    " "
   ]
  },
  {
   "cell_type": "markdown",
   "metadata": {},
   "source": [
    "**Figure 3.13. Loops limit capacity.** In this case the 4 slots available are filled with $e$, $e$, $t$, and $t$."
   ]
  },
  {
   "cell_type": "code",
   "execution_count": 35,
   "metadata": {
    "collapsed": false
   },
   "outputs": [
    {
     "name": "stdout",
     "output_type": "stream",
     "text": [
      "r e t c e v r e p e h   e e t o t i   s r e t c e v r e p e h   e e t o t i\n"
     ]
    },
    {
     "data": {
      "image/png": "[encoded data removed]",
      "text/plain": [
       "<matplotlib.figure.Figure at 0x7efec3937650>"
      ]
     },
     "metadata": {},
     "output_type": "display_data"
    }
   ],
   "source": [
    "roll_vector = np.zeros(N)\n",
    "roll_vector[N // 20] = 1 # now 20 slots\n",
    "platernn = np.zeros(N)\n",
    "\n",
    "for l in letter_sequence:\n",
    "    lidx = random_idx.alphabet.find(l)\n",
    "    platernn = cconv(roll_vector, platernn) + letter_vectors[lidx, :]\n",
    "    \n",
    "for i in range(len(letter_sequence)):\n",
    "    print random_idx.alphabet[letter_at_pos_plate(i)],\n",
    " "
   ]
  },
  {
   "cell_type": "markdown",
   "metadata": {},
   "source": [
    "**Figure 3.14. Loops limit capacity.** Twenty slots still not enough to fully store the sequence."
   ]
  },
  {
   "cell_type": "code",
   "execution_count": 36,
   "metadata": {
    "collapsed": false
   },
   "outputs": [
    {
     "name": "stdout",
     "output_type": "stream",
     "text": [
      "38\n"
     ]
    }
   ],
   "source": [
    "print len(letter_sequence)"
   ]
  },
  {
   "cell_type": "markdown",
   "metadata": {},
   "source": [
    "Lets give it 40"
   ]
  },
  {
   "cell_type": "code",
   "execution_count": 37,
   "metadata": {
    "collapsed": false
   },
   "outputs": [
    {
     "name": "stdout",
     "output_type": "stream",
     "text": [
      "r o t c e v r e p y h   e h t   n i   s r e t t e l   e s e h t   e r o t s\n"
     ]
    },
    {
     "data": {
      "image/png": "[encoded data removed]",
      "text/plain": [
       "<matplotlib.figure.Figure at 0x7efec3e19110>"
      ]
     },
     "metadata": {},
     "output_type": "display_data"
    }
   ],
   "source": [
    "roll_vector = np.zeros(N)\n",
    "roll_vector[N // 40] = 1 # now 40 slots\n",
    "platernn = np.zeros(N)\n",
    "\n",
    "for l in letter_sequence:\n",
    "    lidx = random_idx.alphabet.find(l)\n",
    "    platernn = cconv(roll_vector, platernn) + letter_vectors[lidx, :]\n",
    "    \n",
    "for i in range(len(letter_sequence)):\n",
    "    print random_idx.alphabet[letter_at_pos_plate(i)],\n",
    " "
   ]
  },
  {
   "cell_type": "markdown",
   "metadata": {},
   "source": [
    "**Figure 3.15. Loops limit capacity.** With enough slots, the sequence can be stored."
   ]
  },
  {
   "cell_type": "markdown",
   "metadata": {},
   "source": [
    "## Discussion\n",
    "\n",
    "We have generalized the hypercomputing architectures to recurrent neural network weight matrices, and show how hypervectors that store an input stream through trajectory-association can be directly translated into a linear recurrent-neural network, which can be directly read using the algebra.\n",
    "\n",
    "Our efforts at linking Plate and Kanerva have revealed that these vector symbolic architecture are nearly identical. In fact, Kanerva can be thought of as a special case of Plate, which means that the properties of the Kanerva architecture also apply to the general architecture of the Plate framework.\n",
    "\n",
    "The primary advantage of the Kanerva framework is that the inverse operation of element-wise multiply is well defined because the Kanerva vectors always have a stable multiplicative inverse.\n",
    "\n",
    "What we can also see in this work is that the Plate representation ($[\\mathscr{N}(0,1/N)]^N$) works fine with the Kanerva operations ($r, *$) so long as the inverse of $*$ isn't needed or normalization is constantly used.\n",
    "\n",
    "Because of the connection between Kanerva and Plate, we can also see a connection between the permutation operation ($r$) and circular convolution ($\\oplus$). In fact, circular convolution can be thought of as a more general binary version of permutation, where the permutation operation is exactly circular convolution with the vector $[0, 1, 0, ... 0]$. \n",
    "\n",
    "Further, we ran into problems trying to use circular convolution to generate new vector-symbols for sequential n-grams. Why this doesn't work begins to make sense now that we see more clearly that permute and circular convolution are connected. However, what this means is that circular convolution and *binding* are not as connected as previously thought. This points to a weakness in the HRR architecture because it does not have a true binding operation, as the circular convolution operation does not have all the properties of element-wise multiply (in that permute is not commutative with multiply). However, we could just add $*$ to HRR and we would be fine (except for the inverse issue).\n",
    "\n",
    "Finally, as we translate permute and circular convolutions into their equivalent matrices their relationship becomes even more clear. Using the techniques of trajectory-association, we showed how hypervectors with permutation or circular convolution are directly linked to linear recurrent neural networks. Both the Kanerva and Plate framework point to the same properties of the recurrent weight matrix to store information -- that the matrix is an orthogonal basis (with all eigenvalues as 1). Problems arise when this is violated, typically causing the Hyper-RNN to explode and lose the capability to store information. \n",
    "\n",
    "These frameworks thus provide insights into the black-box that is neural networks, and we can decipher the activity of linear RNNs directly using the algebra. \n"
   ]
  }
 ],
 "metadata": {
  "kernelspec": {
   "display_name": "Python 2",
   "language": "python",
   "name": "python2"
  },
  "language_info": {
   "codemirror_mode": {
    "name": "ipython",
    "version": 2
   },
   "file_extension": ".py",
   "mimetype": "text/x-python",
   "name": "python",
   "nbconvert_exporter": "python",
   "pygments_lexer": "ipython2",
   "version": "2.7.11"
  }
 },
 "nbformat": 4,
 "nbformat_minor": 0
}
