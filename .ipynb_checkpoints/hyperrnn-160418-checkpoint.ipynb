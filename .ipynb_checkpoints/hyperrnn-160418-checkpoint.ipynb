{
 "cells": [
  {
   "cell_type": "markdown",
   "metadata": {},
   "source": [
    "## Recurrent Neural Networks and Hypervectors\n",
    "\n",
    "So, one thing I am thinking about is the connection of the hypervector algebra with the nature of neural networks and other neuro-inspired AI architectures.\n",
    "\n",
    "The primary difference between a neural network and a hypervector is that the neural network has a weight matrix, where each neuron will influence the others in a feedback manner. This matrix is very general, and people attempt to use it to learn or produce patterns. One connection with the recurrent weight matrix and the hypervector algebra is that the roll/permutation operation can be implemented by this weight matrix.\n"
   ]
  },
  {
   "cell_type": "code",
   "execution_count": 1,
   "metadata": {
    "collapsed": false
   },
   "outputs": [
    {
     "name": "stdout",
     "output_type": "stream",
     "text": [
      "height has been deprecated.\n",
      "\n",
      "2016-03-11 19:49\n"
     ]
    }
   ],
   "source": [
    "from pylab import *\n",
    "import random_idx\n",
    "import time\n",
    "%matplotlib inline"
   ]
  },
  {
   "cell_type": "code",
   "execution_count": 2,
   "metadata": {
    "collapsed": false
   },
   "outputs": [
    {
     "name": "stdout",
     "output_type": "stream",
     "text": [
      "[[-1  1  1 ...,  1 -1 -1]\n",
      " [-1 -1  1 ...,  1  1 -1]\n",
      " [-1  1  1 ..., -1  1 -1]\n",
      " ..., \n",
      " [ 1  1 -1 ..., -1  1  1]\n",
      " [ 1  1  1 ...,  1 -1 -1]\n",
      " [ 1 -1  1 ...,  1 -1 -1]]\n"
     ]
    }
   ],
   "source": [
    "N=1000\n",
    "letter_vectors = 2 * (np.random.randn(len(random_idx.alphabet), N) > 0) - 1\n",
    "print letter_vectors"
   ]
  },
  {
   "cell_type": "code",
   "execution_count": 3,
   "metadata": {
    "collapsed": false
   },
   "outputs": [
    {
     "name": "stdout",
     "output_type": "stream",
     "text": [
      "Duration:  0.00104093551636\n"
     ]
    },
    {
     "data": {
      "text/plain": [
       "(array([   3.,   23.,   60.,  139.,  212.,  226.,  213.,   91.,   22.,   11.]),\n",
       " array([-22. , -17.8, -13.6,  -9.4,  -5.2,  -1. ,   3.2,   7.4,  11.6,\n",
       "         15.8,  20. ]),\n",
       " <a list of 10 Patch objects>)"
      ]
     },
     "execution_count": 3,
     "metadata": {},
     "output_type": "execute_result"
    },
    {
     "data": {
      "image/png": "[encoded data removed]",
      "text/plain": [
       "<matplotlib.figure.Figure at 0x7fabe6887150>"
      ]
     },
     "metadata": {},
     "output_type": "display_data"
    }
   ],
   "source": [
    "hypervec = np.zeros(N)\n",
    "\n",
    "# So, we can add stuff to the hypervec as usual\n",
    "letter_sequence = 'store these letters in the hypervector'\n",
    "\n",
    "tstart = time.time()\n",
    "for l in letter_sequence:\n",
    "    lidx = random_idx.alphabet.find(l)\n",
    "    \n",
    "    hypervec = np.roll(hypervec, 1) + letter_vectors[lidx, :]\n",
    "     \n",
    "print 'Duration: ', time.time() - tstart\n",
    "\n",
    "hist(hypervec)"
   ]
  },
  {
   "cell_type": "markdown",
   "metadata": {},
   "source": [
    "So, now the hypervector has each letter stored at an index using the roll operation. You can see how we just roll the hypervector each time we add a letter, as if the hypervector could be taking in a continuous stream. \n",
    "\n",
    "We can then derefence the hypervector, and get the letters at certain positions."
   ]
  },
  {
   "cell_type": "code",
   "execution_count": 4,
   "metadata": {
    "collapsed": false
   },
   "outputs": [
    {
     "name": "stdout",
     "output_type": "stream",
     "text": [
      "r o t c e v r e p y h   e h t   n i   s r e t t e l   e s e h t   e r o t s\n"
     ]
    },
    {
     "data": {
      "image/png": "[encoded data removed]",
      "text/plain": [
       "<matplotlib.figure.Figure at 0x7fabdf166a10>"
      ]
     },
     "metadata": {},
     "output_type": "display_data"
    }
   ],
   "source": [
    "def letter_at_pos(pos):\n",
    "    v = np.roll(hypervec, -pos)\n",
    "    vals = np.dot(letter_vectors/N, v.T)\n",
    "    bar(arange(len(vals))+0.15, vals)   \n",
    "    ax=gca()\n",
    "    ax.set_xticks(arange(len(random_idx.alphabet))+0.5)\n",
    "    th = ax.set_xticklabels(list(random_idx.alphabet))\n",
    "    return argmax(vals)\n",
    "\n",
    "for i in range(len(letter_sequence)):\n",
    "    print random_idx.alphabet[letter_at_pos(i)],\n",
    "    "
   ]
  },
  {
   "cell_type": "code",
   "execution_count": 5,
   "metadata": {
    "collapsed": false
   },
   "outputs": [
    {
     "data": {
      "text/plain": [
       "4"
      ]
     },
     "execution_count": 5,
     "metadata": {},
     "output_type": "execute_result"
    },
    {
     "data": {
      "image/png": "[encoded data removed]",
      "text/plain": [
       "<matplotlib.figure.Figure at 0x7fabe6887f10>"
      ]
     },
     "metadata": {},
     "output_type": "display_data"
    }
   ],
   "source": [
    "letter_at_pos(21)\n"
   ]
  },
  {
   "cell_type": "markdown",
   "metadata": {},
   "source": [
    "So, it prints the letters out backwards, which is what we asked. \n",
    "\n",
    "Now, the roll operation can be equivalently expressed as a matrix multiply. "
   ]
  },
  {
   "cell_type": "code",
   "execution_count": 6,
   "metadata": {
    "collapsed": false
   },
   "outputs": [
    {
     "name": "stdout",
     "output_type": "stream",
     "text": [
      "[[ 0.  0.  0. ...,  0.  0.  1.]\n",
      " [ 1.  0.  0. ...,  0.  0.  0.]\n",
      " [ 0.  1.  0. ...,  0.  0.  0.]\n",
      " ..., \n",
      " [ 0.  0.  0. ...,  0.  0.  0.]\n",
      " [ 0.  0.  0. ...,  1.  0.  0.]\n",
      " [ 0.  0.  0. ...,  0.  1.  0.]]\n"
     ]
    }
   ],
   "source": [
    "roll_matrix = np.eye(N,N)\n",
    "\n",
    "roll_matrix = np.roll(roll_matrix, -1, axis=1)\n",
    "\n",
    "print roll_matrix"
   ]
  },
  {
   "cell_type": "markdown",
   "metadata": {},
   "source": [
    "This is just an off-diagonal matrix, and this should do the exact permutation operation as roll, but it will be much more inefficient. However, this takes us a step towards generalizing hypervector algebra for recurrent neural networks, because now we can treat the roll matrix as the weights of an RNN.\n",
    "\n",
    "First, lets just make sure it really does work the same way."
   ]
  },
  {
   "cell_type": "code",
   "execution_count": 7,
   "metadata": {
    "collapsed": false
   },
   "outputs": [
    {
     "name": "stdout",
     "output_type": "stream",
     "text": [
      "Duration:  0.0259740352631\n"
     ]
    },
    {
     "data": {
      "text/plain": [
       "(array([   3.,   23.,   60.,  139.,  212.,  226.,  213.,   91.,   22.,   11.]),\n",
       " array([-22. , -17.8, -13.6,  -9.4,  -5.2,  -1. ,   3.2,   7.4,  11.6,\n",
       "         15.8,  20. ]),\n",
       " <a list of 10 Patch objects>)"
      ]
     },
     "execution_count": 7,
     "metadata": {},
     "output_type": "execute_result"
    },
    {
     "data": {
      "image/png": "[encoded data removed]",
      "text/plain": [
       "<matplotlib.figure.Figure at 0x7fabe6851fd0>"
      ]
     },
     "metadata": {},
     "output_type": "display_data"
    }
   ],
   "source": [
    "hyperrnn = np.zeros(N)\n",
    "\n",
    "tstart = time.time()\n",
    "for l in letter_sequence:\n",
    "    lidx = random_idx.alphabet.find(l)\n",
    "    \n",
    "    hyperrnn = np.dot(roll_matrix, hyperrnn) + letter_vectors[lidx, :]\n",
    "    \n",
    "print 'Duration: ', time.time() - tstart\n",
    "\n",
    "hist(hyperrnn)"
   ]
  },
  {
   "cell_type": "code",
   "execution_count": 8,
   "metadata": {
    "collapsed": false
   },
   "outputs": [
    {
     "name": "stdout",
     "output_type": "stream",
     "text": [
      "[ True  True  True  True  True  True  True  True  True  True  True  True\n",
      "  True  True  True  True  True  True  True  True  True  True  True  True\n",
      "  True  True  True  True  True  True  True  True  True  True  True  True\n",
      "  True  True  True  True  True  True  True  True  True  True  True  True\n",
      "  True  True  True  True  True  True  True  True  True  True  True  True\n",
      "  True  True  True  True  True  True  True  True  True  True  True  True\n",
      "  True  True  True  True  True  True  True  True  True  True  True  True\n",
      "  True  True  True  True  True  True  True  True  True  True  True  True\n",
      "  True  True  True  True  True  True  True  True  True  True  True  True\n",
      "  True  True  True  True  True  True  True  True  True  True  True  True\n",
      "  True  True  True  True  True  True  True  True  True  True  True  True\n",
      "  True  True  True  True  True  True  True  True  True  True  True  True\n",
      "  True  True  True  True  True  True  True  True  True  True  True  True\n",
      "  True  True  True  True  True  True  True  True  True  True  True  True\n",
      "  True  True  True  True  True  True  True  True  True  True  True  True\n",
      "  True  True  True  True  True  True  True  True  True  True  True  True\n",
      "  True  True  True  True  True  True  True  True  True  True  True  True\n",
      "  True  True  True  True  True  True  True  True  True  True  True  True\n",
      "  True  True  True  True  True  True  True  True  True  True  True  True\n",
      "  True  True  True  True  True  True  True  True  True  True  True  True\n",
      "  True  True  True  True  True  True  True  True  True  True  True  True\n",
      "  True  True  True  True  True  True  True  True  True  True  True  True\n",
      "  True  True  True  True  True  True  True  True  True  True  True  True\n",
      "  True  True  True  True  True  True  True  True  True  True  True  True\n",
      "  True  True  True  True  True  True  True  True  True  True  True  True\n",
      "  True  True  True  True  True  True  True  True  True  True  True  True\n",
      "  True  True  True  True  True  True  True  True  True  True  True  True\n",
      "  True  True  True  True  True  True  True  True  True  True  True  True\n",
      "  True  True  True  True  True  True  True  True  True  True  True  True\n",
      "  True  True  True  True  True  True  True  True  True  True  True  True\n",
      "  True  True  True  True  True  True  True  True  True  True  True  True\n",
      "  True  True  True  True  True  True  True  True  True  True  True  True\n",
      "  True  True  True  True  True  True  True  True  True  True  True  True\n",
      "  True  True  True  True  True  True  True  True  True  True  True  True\n",
      "  True  True  True  True  True  True  True  True  True  True  True  True\n",
      "  True  True  True  True  True  True  True  True  True  True  True  True\n",
      "  True  True  True  True  True  True  True  True  True  True  True  True\n",
      "  True  True  True  True  True  True  True  True  True  True  True  True\n",
      "  True  True  True  True  True  True  True  True  True  True  True  True\n",
      "  True  True  True  True  True  True  True  True  True  True  True  True\n",
      "  True  True  True  True  True  True  True  True  True  True  True  True\n",
      "  True  True  True  True  True  True  True  True  True  True  True  True\n",
      "  True  True  True  True  True  True  True  True  True  True  True  True\n",
      "  True  True  True  True  True  True  True  True  True  True  True  True\n",
      "  True  True  True  True  True  True  True  True  True  True  True  True\n",
      "  True  True  True  True  True  True  True  True  True  True  True  True\n",
      "  True  True  True  True  True  True  True  True  True  True  True  True\n",
      "  True  True  True  True  True  True  True  True  True  True  True  True\n",
      "  True  True  True  True  True  True  True  True  True  True  True  True\n",
      "  True  True  True  True  True  True  True  True  True  True  True  True\n",
      "  True  True  True  True  True  True  True  True  True  True  True  True\n",
      "  True  True  True  True  True  True  True  True  True  True  True  True\n",
      "  True  True  True  True  True  True  True  True  True  True  True  True\n",
      "  True  True  True  True  True  True  True  True  True  True  True  True\n",
      "  True  True  True  True  True  True  True  True  True  True  True  True\n",
      "  True  True  True  True  True  True  True  True  True  True  True  True\n",
      "  True  True  True  True  True  True  True  True  True  True  True  True\n",
      "  True  True  True  True  True  True  True  True  True  True  True  True\n",
      "  True  True  True  True  True  True  True  True  True  True  True  True\n",
      "  True  True  True  True  True  True  True  True  True  True  True  True\n",
      "  True  True  True  True  True  True  True  True  True  True  True  True\n",
      "  True  True  True  True  True  True  True  True  True  True  True  True\n",
      "  True  True  True  True  True  True  True  True  True  True  True  True\n",
      "  True  True  True  True  True  True  True  True  True  True  True  True\n",
      "  True  True  True  True  True  True  True  True  True  True  True  True\n",
      "  True  True  True  True  True  True  True  True  True  True  True  True\n",
      "  True  True  True  True  True  True  True  True  True  True  True  True\n",
      "  True  True  True  True  True  True  True  True  True  True  True  True\n",
      "  True  True  True  True  True  True  True  True  True  True  True  True\n",
      "  True  True  True  True  True  True  True  True  True  True  True  True\n",
      "  True  True  True  True  True  True  True  True  True  True  True  True\n",
      "  True  True  True  True  True  True  True  True  True  True  True  True\n",
      "  True  True  True  True  True  True  True  True  True  True  True  True\n",
      "  True  True  True  True  True  True  True  True  True  True  True  True\n",
      "  True  True  True  True  True  True  True  True  True  True  True  True\n",
      "  True  True  True  True  True  True  True  True  True  True  True  True\n",
      "  True  True  True  True  True  True  True  True  True  True  True  True\n",
      "  True  True  True  True  True  True  True  True  True  True  True  True\n",
      "  True  True  True  True  True  True  True  True  True  True  True  True\n",
      "  True  True  True  True  True  True  True  True  True  True  True  True\n",
      "  True  True  True  True  True  True  True  True  True  True  True  True\n",
      "  True  True  True  True  True  True  True  True  True  True  True  True\n",
      "  True  True  True  True  True  True  True  True  True  True  True  True\n",
      "  True  True  True  True]\n"
     ]
    }
   ],
   "source": [
    "print hypervec==hyperrnn"
   ]
  },
  {
   "cell_type": "code",
   "execution_count": 9,
   "metadata": {
    "collapsed": false
   },
   "outputs": [
    {
     "name": "stdout",
     "output_type": "stream",
     "text": [
      "r o t c e v r e p y h   e h t   n i   s r e t t e l   e s e h t   e r o t s\n"
     ]
    },
    {
     "data": {
      "image/png": "[encoded data removed]",
      "text/plain": [
       "<matplotlib.figure.Figure at 0x7fabe6840710>"
      ]
     },
     "metadata": {},
     "output_type": "display_data"
    }
   ],
   "source": [
    "def letter_at_pos_rnn(pos):    \n",
    "    v = np.dot(np.roll(np.eye(N,N), pos, axis=1), hyperrnn)\n",
    "    \n",
    "    vals = np.dot(letter_vectors/N, v.T)\n",
    "    bar(arange(len(vals))+0.15, vals)   \n",
    "    ax=gca()\n",
    "    ax.set_xticks(arange(len(random_idx.alphabet))+0.5)\n",
    "    th = ax.set_xticklabels(list(random_idx.alphabet))\n",
    "    return argmax(vals)\n",
    "\n",
    "for i in range(len(letter_sequence)):\n",
    "    print random_idx.alphabet[letter_at_pos_rnn(i)],\n",
    "    "
   ]
  },
  {
   "cell_type": "markdown",
   "metadata": {},
   "source": [
    "In this case we have to build the unrolling matrix, and then we do matrix multiply, which is much slower. \n",
    "\n",
    "## Roll is a permutation matrix\n",
    "\n",
    "So, the question is what other types of matrices are acceptable as a roll martix. Typically with an RNN, the recurrent weights are just set randomly, but here we can see the hypervector algebra can be created with a certain type of roll matrix/connectivity. The roll matrix at heart is an *orthonormal basis*, but I do not think that every index must be 1 or 0. This matrix can be made more generally, and there are certain properties about this matrix that relate to how an RNN may work and store information.\n",
    "\n",
    "One thing to note is that there is a pattern to the roll matrix -- we cycle through all N possible permutations, and so the roll matrix cannot just be any orthonormal basis. Obviously, the identity matrix would not serve as a good roll matrix. At some point with the permutations, we will do a complete loop around the dimensions. This means that any good roll matrix should have a property like:\n",
    "\n",
    "$$\n",
    "R^N = I\n",
    "$$\n",
    "\n",
    "and \n",
    "\n",
    "$$\n",
    "R^j \\ne I \\\\ for j \\ne (N-1)\n",
    "$$\n",
    "\n",
    "Which basically says that the roll matrix cycles through all the dimensions, and then completes a full loop after N steps. But, you can imagine a lot of orthonormal bases that would not cycle through each dimension. If the vectors in the roll_matrix are rearranged, then the orthonormal basis part stays constant. However, if you switch a few of them, you can make the roll matrix cycle back to the beginning in less than N steps. The identity matrix cycles back in 1 step. The more steps it takes to cycle, then the more positions you have in memory.\n",
    "\n"
   ]
  },
  {
   "cell_type": "code",
   "execution_count": 10,
   "metadata": {
    "collapsed": false
   },
   "outputs": [],
   "source": [
    "\n",
    "def random_orthogonal(n):\n",
    "    a = np.random.random((n,n))\n",
    "    q, r = np.linalg.qr(a)\n",
    "    \n",
    "    return q\n",
    "\n"
   ]
  },
  {
   "cell_type": "code",
   "execution_count": 11,
   "metadata": {
    "collapsed": false
   },
   "outputs": [
    {
     "name": "stdout",
     "output_type": "stream",
     "text": [
      "0.453598022461\n",
      "[[-0.04290557 -0.01704726 -0.00499384 ...,  0.0035885  -0.01401156\n",
      "  -0.01637016]\n",
      " [-0.05338143 -0.0476226   0.03625245 ..., -0.04242007 -0.01244191\n",
      "  -0.0018824 ]\n",
      " [-0.00769506  0.01658061 -0.05387828 ...,  0.00148103 -0.06010688\n",
      "   0.00517649]\n",
      " ..., \n",
      " [-0.03231395 -0.03162741 -0.00387906 ..., -0.03468488  0.02694745\n",
      "   0.02779296]\n",
      " [-0.00429363  0.04902348 -0.05690173 ..., -0.04916701  0.0305425\n",
      "   0.01357336]\n",
      " [-0.04337316 -0.00056738 -0.03343336 ..., -0.02405241 -0.07163793\n",
      "   0.01455291]]\n"
     ]
    }
   ],
   "source": [
    "tstart = time.time()\n",
    "ro = random_orthogonal(N)\n",
    "print time.time() - tstart\n",
    "print ro"
   ]
  },
  {
   "cell_type": "code",
   "execution_count": 12,
   "metadata": {
    "collapsed": true
   },
   "outputs": [],
   "source": [
    "np.savez('data/random_orthogonal_matrix-N=1000-160311.npz', ro=ro)"
   ]
  },
  {
   "cell_type": "markdown",
   "metadata": {},
   "source": [
    "Ok, so a random orthogonal matrix, should work just as well as the roll matrix... "
   ]
  },
  {
   "cell_type": "code",
   "execution_count": 13,
   "metadata": {
    "collapsed": false
   },
   "outputs": [
    {
     "data": {
      "text/plain": [
       "(1000, 1000)"
      ]
     },
     "execution_count": 13,
     "metadata": {},
     "output_type": "execute_result"
    }
   ],
   "source": [
    "ro.shape"
   ]
  },
  {
   "cell_type": "code",
   "execution_count": 14,
   "metadata": {
    "collapsed": false,
    "scrolled": true
   },
   "outputs": [
    {
     "name": "stdout",
     "output_type": "stream",
     "text": [
      "Duration:  0.0287899971008\n"
     ]
    },
    {
     "data": {
      "text/plain": [
       "(array([   1.,   12.,   48.,  116.,  226.,  262.,  199.,   99.,   28.,    9.]),\n",
       " array([-20.90885339, -16.95031462, -12.99177585,  -9.03323708,\n",
       "         -5.0746983 ,  -1.11615953,   2.84237924,   6.80091801,\n",
       "         10.75945679,  14.71799556,  18.67653433]),\n",
       " <a list of 10 Patch objects>)"
      ]
     },
     "execution_count": 14,
     "metadata": {},
     "output_type": "execute_result"
    },
    {
     "data": {
      "image/png": "[encoded data removed]",
      "text/plain": [
       "<matplotlib.figure.Figure at 0x7fabab2681d0>"
      ]
     },
     "metadata": {},
     "output_type": "display_data"
    }
   ],
   "source": [
    "hyperro = np.zeros(N)\n",
    "\n",
    "tstart = time.time()\n",
    "for l in letter_sequence:\n",
    "    lidx = random_idx.alphabet.find(l)\n",
    "    \n",
    "    hyperro = np.dot(ro, hyperro) + letter_vectors[lidx, :]\n",
    "    \n",
    "print 'Duration: ', time.time() - tstart\n",
    "\n",
    "hist(hyperro)"
   ]
  },
  {
   "cell_type": "code",
   "execution_count": 15,
   "metadata": {
    "collapsed": false
   },
   "outputs": [
    {
     "name": "stdout",
     "output_type": "stream",
     "text": [
      "r o t c e v r e p y h   e h t   n i   s r e t t e l   e s e h t   e r o t s\n"
     ]
    },
    {
     "data": {
      "image/png": "[encoded data removed]",
      "text/plain": [
       "<matplotlib.figure.Figure at 0x7fabac3326d0>"
      ]
     },
     "metadata": {},
     "output_type": "display_data"
    }
   ],
   "source": [
    "def letter_at_pos_ro(pos): \n",
    "    # so to read out, we need to decode the ro, which means we have to do a bunch of matrix multiplies.\n",
    "    \n",
    "    v = np.dot(np.linalg.matrix_power(ro, -pos), hyperro)\n",
    "    #v = np.dot(np.roll(np.eye(N,N), pos, axis=1), hyperrnn)\n",
    "    \n",
    "    vals = np.dot(letter_vectors/N, v.T)\n",
    "    bar(arange(len(vals))+0.15, vals)   \n",
    "    ax=gca()\n",
    "    ax.set_xticks(arange(len(random_idx.alphabet))+0.5)\n",
    "    th = ax.set_xticklabels(list(random_idx.alphabet))\n",
    "    return argmax(vals)\n",
    "\n",
    "for i in range(len(letter_sequence)):\n",
    "    print random_idx.alphabet[letter_at_pos_ro(i)],\n",
    "    "
   ]
  },
  {
   "cell_type": "markdown",
   "metadata": {},
   "source": [
    "Cool! So, yes, can just use a random orthonormal matrix as the permutation operation, and can store the hypervectors in the same fashion. \n",
    "\n",
    "This is terribly slow, however, because we have to compute the inverse of the matrix and raise it to a power to go backwards. However, the important point is that we have taken another step towards generalizing the hypervector math to neural networks. \n",
    "\n",
    "This is important because I think that the storage capacity of the hypervectors and utilizing the math is extremely important to consider in the context of an RNN. Becuase we can show that hypervectors and RNN are essentially equivalent, we can say that the storage capacity of a hypervector is similar to RNN.\n",
    "\n",
    "I think this is essential because many don't consider the capacity of an RNN -- how much information can it keep in the recurrent dynamics? Well, the limit is set by how much a hypervector can hold. \n",
    "\n",
    "I think so long as the matrix is orthonormal it should work. Of course identity would not work, even though its orthonormal, and then there are tons of other permutations that won't work as well. At some point the permutation operation has to do a loop, and the max number of iterations for a loop would be N (does it have to loop at some point?). \n",
    "\n",
    "But random orthonormal matrix works well. The hypervector probably cannot store N values anyway, so the loop issue is not so bad. A random basis will likely not have N steps before looping, but it should be high or close to N (maybe?). \n",
    "\n",
    "\n",
    "The final difference with the RNN and hypervectors is that the hypervectors are entirely linear. An RNN often has a non-linear threshold/saturation function. What would this mean in terms of storage and capacity? How would decoding/dereferencing the memory work? \n",
    "\n",
    "\n"
   ]
  },
  {
   "cell_type": "code",
   "execution_count": null,
   "metadata": {
    "collapsed": true
   },
   "outputs": [],
   "source": []
  }
 ],
 "metadata": {
  "kernelspec": {
   "display_name": "Python 2",
   "language": "python",
   "name": "python2"
  },
  "language_info": {
   "codemirror_mode": {
    "name": "ipython",
    "version": 2
   },
   "file_extension": ".py",
   "mimetype": "text/x-python",
   "name": "python",
   "nbconvert_exporter": "python",
   "pygments_lexer": "ipython2",
   "version": "2.7.11"
  }
 },
 "nbformat": 4,
 "nbformat_minor": 0
}
