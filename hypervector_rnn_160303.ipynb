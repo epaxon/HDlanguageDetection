{
 "cells": [
  {
   "cell_type": "markdown",
   "metadata": {},
   "source": [
    "## Recurrent Neural Networks and Hypervectors\n",
    "\n",
    "So, one thing I am thinking about is the connection of the hypervector algebra with the nature of neural networks and other neuro-inspired AI architectures.\n",
    "\n",
    "The primary difference between a neural network and a hypervector is that the neural network has a weight matrix, where each neuron will influence the others in a feedback manner. This matrix is very general, and people attempt to use it to learn or produce patterns. One connection with the recurrent weight matrix and the hypervector algebra is that the roll/permutation operation can be implemented by this weight matrix.\n"
   ]
  },
  {
   "cell_type": "code",
   "execution_count": 1,
   "metadata": {
    "collapsed": false
   },
   "outputs": [
    {
     "name": "stdout",
     "output_type": "stream",
     "text": [
      "height has been deprecated.\n",
      "\n",
      "2016-03-03 11:22\n"
     ]
    }
   ],
   "source": [
    "from pylab import *\n",
    "import random_idx\n",
    "import time\n",
    "%matplotlib inline"
   ]
  },
  {
   "cell_type": "code",
   "execution_count": 2,
   "metadata": {
    "collapsed": false
   },
   "outputs": [
    {
     "name": "stdout",
     "output_type": "stream",
     "text": [
      "[[ 1  1 -1 ..., -1  1 -1]\n",
      " [-1 -1  1 ..., -1 -1 -1]\n",
      " [ 1  1  1 ..., -1 -1  1]\n",
      " ..., \n",
      " [ 1  1  1 ..., -1  1  1]\n",
      " [-1 -1  1 ..., -1  1  1]\n",
      " [ 1 -1 -1 ..., -1 -1 -1]]\n"
     ]
    }
   ],
   "source": [
    "N=10000\n",
    "letter_vectors = 2 * (np.random.randn(len(random_idx.alphabet), N) > 0) - 1\n",
    "print letter_vectors"
   ]
  },
  {
   "cell_type": "code",
   "execution_count": 3,
   "metadata": {
    "collapsed": false
   },
   "outputs": [
    {
     "name": "stdout",
     "output_type": "stream",
     "text": [
      "Duration:  0.00448489189148\n"
     ]
    },
    {
     "data": {
      "text/plain": [
       "(array([   25.,   130.,   531.,  1323.,  2275.,  3566.,  1423.,   563.,\n",
       "          136.,    28.]),\n",
       " array([-22. , -17.6, -13.2,  -8.8,  -4.4,   0. ,   4.4,   8.8,  13.2,\n",
       "         17.6,  22. ]),\n",
       " <a list of 10 Patch objects>)"
      ]
     },
     "execution_count": 3,
     "metadata": {},
     "output_type": "execute_result"
    },
    {
     "data": {
      "image/png": "[encoded data removed]",
      "text/plain": [
       "<matplotlib.figure.Figure at 0x7f57e30a2150>"
      ]
     },
     "metadata": {},
     "output_type": "display_data"
    }
   ],
   "source": [
    "hypervec = np.zeros(N)\n",
    "\n",
    "# So, we can add stuff to the hypervec as usual\n",
    "letter_sequence = 'store these letters in the hypervector'\n",
    "\n",
    "tstart = time.time()\n",
    "for l in letter_sequence:\n",
    "    lidx = random_idx.alphabet.find(l)\n",
    "    hypervec = np.roll(hypervec, 1) + letter_vectors[lidx, :]\n",
    "    \n",
    "print 'Duration: ', time.time() - tstart\n",
    "\n",
    "hist(hypervec)"
   ]
  },
  {
   "cell_type": "code",
   "execution_count": 3,
   "metadata": {
    "collapsed": false
   },
   "outputs": [
    {
     "name": "stdout",
     "output_type": "stream",
     "text": [
      "Duration:  0.00448489189148\n"
     ]
    },
    {
     "data": {
      "text/plain": [
       "(array([   25.,   130.,   531.,  1323.,  2275.,  3566.,  1423.,   563.,\n",
       "          136.,    28.]),\n",
       " array([-22. , -17.6, -13.2,  -8.8,  -4.4,   0. ,   4.4,   8.8,  13.2,\n",
       "         17.6,  22. ]),\n",
       " <a list of 10 Patch objects>)"
      ]
     },
     "execution_count": 3,
     "metadata": {},
     "output_type": "execute_result"
    },
    {
     "data": {
      "image/png": "[encoded data removed]",
      "text/plain": [
       "<matplotlib.figure.Figure at 0x7f57e30a2150>"
      ]
     },
     "metadata": {},
     "output_type": "display_data"
    }
   ],
   "source": [
    "hypervec = np.zeros(N)\n",
    "# So, we can add stuff to the hypervec as usual\n",
    "letter_sequence = 'store these letters in the hypervector'\n",
    "for l in letter_sequence:\n",
    "    lidx = random_idx.alphabet.find(l)\n",
    "    hypervec = np.roll(hypervec, 1) + letter_vectors[lidx, :]"
   ]
  },
  {
   "cell_type": "markdown",
   "metadata": {},
   "source": [
    "So, now the hypervector has each letter stored at an index using the roll operation. You can see how we just roll the hypervector each time we add a letter, as if the hypervector could be taking in a continuous stream. \n",
    "\n",
    "We can then derefence the hypervector, and get the letters at certain positions."
   ]
  },
  {
   "cell_type": "code",
   "execution_count": 4,
   "metadata": {
    "collapsed": false
   },
   "outputs": [
    {
     "name": "stdout",
     "output_type": "stream",
     "text": [
      "r o t c e v r e p y h   e h t   n i   s r e t t e l   e s e h t   e r o t s\n"
     ]
    },
    {
     "data": {
      "image/png": "[encoded data removed]",
      "text/plain": [
       "<matplotlib.figure.Figure at 0x7f57e2f96990>"
      ]
     },
     "metadata": {},
     "output_type": "display_data"
    }
   ],
   "source": [
    "def letter_at_pos(pos):\n",
    "    v = np.roll(hypervec, -pos)\n",
    "    vals = np.dot(letter_vectors/N, v.T)\n",
    "    return argmax(vals)\n",
    "\n",
    "for i in range(len(letter_sequence)):\n",
    "    print random_idx.alphabet[letter_at_pos(i)],\n",
    "    "
   ]
  },
  {
   "cell_type": "markdown",
   "metadata": {},
   "source": [
    "So, it prints the letters out backwards, which is what we asked. \n",
    "\n",
    "Now, the roll operation can be equivalently expressed as a matrix multiply. "
   ]
  },
  {
   "cell_type": "code",
   "execution_count": 36,
   "metadata": {
    "collapsed": false
   },
   "outputs": [
    {
     "name": "stdout",
     "output_type": "stream",
     "text": [
      "[[ 0.  0.  0. ...,  0.  0.  1.]\n",
      " [ 1.  0.  0. ...,  0.  0.  0.]\n",
      " [ 0.  1.  0. ...,  0.  0.  0.]\n",
      " ..., \n",
      " [ 0.  0.  0. ...,  0.  0.  0.]\n",
      " [ 0.  0.  0. ...,  1.  0.  0.]\n",
      " [ 0.  0.  0. ...,  0.  1.  0.]]\n"
     ]
    }
   ],
   "source": [
    "roll_matrix = np.eye(N,N)\n",
    "\n",
    "roll_matrix = np.roll(roll_matrix, -1, axis=1)\n",
    "\n",
    "print roll_matrix"
   ]
  },
  {
   "cell_type": "markdown",
   "metadata": {},
   "source": [
    "This is just an off-diagonal matrix, and this should do the exact permutation operation as roll, but it will be much more inefficient. However, this takes us a step towards generalizing hypervector algebra for recurrent neural networks, because now we can treat the roll matrix as the weights of an RNN.\n",
    "\n",
    "First, lets just make sure it really does work the same way."
   ]
  },
  {
   "cell_type": "code",
   "execution_count": 37,
   "metadata": {
    "collapsed": false
   },
   "outputs": [
    {
     "name": "stdout",
     "output_type": "stream",
     "text": [
      "Duration:  2.77533698082\n"
     ]
    },
    {
     "data": {
      "text/plain": [
       "(array([   25.,   130.,   531.,  1323.,  2275.,  3566.,  1423.,   563.,\n",
       "          136.,    28.]),\n",
       " array([-22. , -17.6, -13.2,  -8.8,  -4.4,   0. ,   4.4,   8.8,  13.2,\n",
       "         17.6,  22. ]),\n",
       " <a list of 10 Patch objects>)"
      ]
     },
     "execution_count": 37,
     "metadata": {},
     "output_type": "execute_result"
    },
    {
     "data": {
      "image/png": "[encoded data removed]",
      "text/plain": [
       "<matplotlib.figure.Figure at 0x7f57a71b5a50>"
      ]
     },
     "metadata": {},
     "output_type": "display_data"
    }
   ],
   "source": [
    "hyperrnn = np.zeros(N)\n",
    "\n",
    "tstart = time.time()\n",
    "for l in letter_sequence:\n",
    "    lidx = random_idx.alphabet.find(l)\n",
    "    \n",
    "    hyperrnn = np.dot(roll_matrix, hyperrnn) + letter_vectors[lidx, :]\n",
    "    \n",
    "print 'Duration: ', time.time() - tstart\n",
    "\n",
    "hist(hyperrnn)"
   ]
  },
  {
   "cell_type": "code",
   "execution_count": 7,
   "metadata": {
    "collapsed": false
   },
   "outputs": [
    {
     "name": "stdout",
     "output_type": "stream",
     "text": [
      "[ True  True  True ...,  True  True  True]\n"
     ]
    }
   ],
   "source": [
    "print hyperrnn == hypervec"
   ]
  },
  {
   "cell_type": "code",
   "execution_count": 11,
   "metadata": {
    "collapsed": false
   },
   "outputs": [
    {
     "name": "stdout",
     "output_type": "stream",
     "text": [
      "r o t c e v r e p y h   e h t   n i   s r e t t e l   e s e h t   e r o t s\n"
     ]
    },
    {
     "data": {
      "image/png": "[encoded data removed]",
      "text/plain": [
       "<matplotlib.figure.Figure at 0x7f57a7502350>"
      ]
     },
     "metadata": {},
     "output_type": "display_data"
    }
   ],
   "source": [
    "def letter_at_pos_rnn(pos):    \n",
    "    v = np.dot(np.roll(np.eye(N,N), pos, axis=1), hyperrnn)\n",
    "    \n",
    "    vals = np.dot(letter_vectors/N, v.T)\n",
    "    bar(arange(len(vals))+0.15, vals)   \n",
    "    ax=gca()\n",
    "    ax.set_xticks(arange(len(random_idx.alphabet))+0.5)\n",
    "    th = ax.set_xticklabels(list(random_idx.alphabet))\n",
    "    return argmax(vals)\n",
    "\n",
    "for i in range(len(letter_sequence)):\n",
    "    print random_idx.alphabet[letter_at_pos_rnn(i)],\n",
    "    "
   ]
  },
  {
   "cell_type": "markdown",
   "metadata": {},
   "source": [
    "In this case we have to build the unrolling matrix, and then we do matrix multiply, which is much slower. \n",
    "\n",
    "## Roll is a permutation matrix\n",
    "\n",
    "So, the question is what other types of matrices are acceptable as a roll martix. Typically with an RNN, the recurrent weights are just set randomly, but here we can see the hypervector algebra can be created with a certain type of roll matrix/connectivity. The roll matrix at heart is an *orthonormal basis*, but I do not think that every index must be 1 or 0. This matrix can be made more generally, and there are certain properties about this matrix that relate to how an RNN may work and store information.\n",
    "\n",
    "One thing to note is that there is a pattern to the roll matrix -- we cycle through all N possible permutations, and so the roll matrix cannot just be any orthonormal basis. Obviously, the identity matrix would not serve as a good roll matrix. At some point with the permutations, we will do a complete loop around the dimensions. This means that any good roll matrix should have a property like:\n",
    "\n",
    "$$\n",
    "R^N = I\n",
    "$$\n",
    "\n",
    "and \n",
    "\n",
    "$$\n",
    "R^j \\ne I \\\\ for j \\ne (N-1)\n",
    "$$\n",
    "\n",
    "Which basically says that the roll matrix cycles through all the dimensions, and then completes a full loop after N steps. But, you can imagine a lot of orthonormal bases that would not cycle through each dimension. If the vectors in the roll_matrix are rearranged, then the orthonormal basis part stays constant. However, if you switch a few of them, you can make the roll matrix cycle back to the beginning in less than N steps. The identity matrix cycles back in 1 step. The more steps it takes to cycle, then the more positions you have in memory.\n",
    "\n"
   ]
  },
  {
   "cell_type": "code",
   "execution_count": 24,
   "metadata": {
    "collapsed": false
   },
   "outputs": [],
   "source": [
    "\n",
    "def random_orthogonal(n):\n",
    "    a = np.random.random((n,n))\n",
    "    q, r = np.linalg.qr(a)\n",
    "    \n",
    "    return q\n",
    "\n"
   ]
  },
  {
   "cell_type": "code",
   "execution_count": 29,
   "metadata": {
    "collapsed": false
   },
   "outputs": [
    {
     "name": "stdout",
     "output_type": "stream",
     "text": [
      "211.493471861\n",
      "[[-0.00119626 -0.00667883  0.0167507  ..., -0.00898524  0.0038121\n",
      "  -0.00408572]\n",
      " [-0.01358668 -0.00997307 -0.01749248 ...,  0.01074642 -0.00253885\n",
      "  -0.01239992]\n",
      " [-0.00081618 -0.01611748 -0.00146403 ...,  0.01042127 -0.0049267\n",
      "  -0.00908821]\n",
      " ..., \n",
      " [-0.01644395  0.00655905 -0.01468457 ...,  0.00199675  0.00458501\n",
      "  -0.00640067]\n",
      " [-0.00510934  0.00171628 -0.00503828 ...,  0.01593396 -0.00012652\n",
      "  -0.00608739]\n",
      " [-0.01070566  0.00687661  0.00021118 ..., -0.00485666  0.00570235\n",
      "  -0.00102476]]\n"
     ]
    }
   ],
   "source": [
    "tstart = time.time()\n",
    "ro = random_orthogonal(N)\n",
    "print time.time() - tstart\n",
    "print ro"
   ]
  },
  {
   "cell_type": "code",
   "execution_count": 30,
   "metadata": {
    "collapsed": true
   },
   "outputs": [],
   "source": [
    "np.savez('data/random_orthogonal_matrix-160303.npz', ro=ro)"
   ]
  },
  {
   "cell_type": "markdown",
   "metadata": {},
   "source": [
    "Ok, so a random orthogonal matrix, should work just as well as the roll matrix... "
   ]
  },
  {
   "cell_type": "code",
   "execution_count": 40,
   "metadata": {
    "collapsed": false
   },
   "outputs": [
    {
     "data": {
      "text/plain": [
       "(10000, 10000)"
      ]
     },
     "execution_count": 40,
     "metadata": {},
     "output_type": "execute_result"
    }
   ],
   "source": [
    "ro.shape"
   ]
  },
  {
   "cell_type": "code",
   "execution_count": 50,
   "metadata": {
    "collapsed": false,
    "scrolled": true
   },
   "outputs": [
    {
     "name": "stdout",
     "output_type": "stream",
     "text": [
      "Duration:  2.84244394302\n"
     ]
    },
    {
     "data": {
      "text/plain": [
       "(array([   30.,   273.,  1020.,  2418.,  3115.,  2130.,   792.,   190.,\n",
       "           27.,     5.]),\n",
       " array([-21.21417195, -16.39716285, -11.58015375,  -6.76314465,\n",
       "         -1.94613555,   2.87087355,   7.68788265,  12.50489174,\n",
       "         17.32190084,  22.13890994,  26.95591904]),\n",
       " <a list of 10 Patch objects>)"
      ]
     },
     "execution_count": 50,
     "metadata": {},
     "output_type": "execute_result"
    },
    {
     "data": {
      "image/png": "[encoded data removed]",
      "text/plain": [
       "<matplotlib.figure.Figure at 0x7f57a6d4d4d0>"
      ]
     },
     "metadata": {},
     "output_type": "display_data"
    }
   ],
   "source": [
    "hyperro = np.zeros(N)\n",
    "\n",
    "tstart = time.time()\n",
    "for l in letter_sequence:\n",
    "    lidx = random_idx.alphabet.find(l)\n",
    "    \n",
    "    hyperro = np.dot(ro, hyperro) + letter_vectors[lidx, :]\n",
    "    \n",
    "print 'Duration: ', time.time() - tstart\n",
    "\n",
    "hist(hyperro)"
   ]
  },
  {
   "cell_type": "code",
   "execution_count": 51,
   "metadata": {
    "collapsed": false
   },
   "outputs": [
    {
     "name": "stdout",
     "output_type": "stream",
     "text": [
      "r o t c e v r e p y h   e h t   n i   s r e t t e l   e s e h t   e r o t s\n"
     ]
    },
    {
     "data": {
      "image/png": "[encoded data removed]",
      "text/plain": [
       "<matplotlib.figure.Figure at 0x7f57a69c9850>"
      ]
     },
     "metadata": {},
     "output_type": "display_data"
    }
   ],
   "source": [
    "def letter_at_pos_ro(pos): \n",
    "    # so to read out, we need to decode the ro, which means we have to do a bunch of matrix multiplies.\n",
    "    \n",
    "    v = np.dot(np.linalg.matrix_power(ro, -pos), hyperro)\n",
    "    #v = np.dot(np.roll(np.eye(N,N), pos, axis=1), hyperrnn)\n",
    "    \n",
    "    vals = np.dot(letter_vectors/N, v.T)\n",
    "    bar(arange(len(vals))+0.15, vals)   \n",
    "    ax=gca()\n",
    "    ax.set_xticks(arange(len(random_idx.alphabet))+0.5)\n",
    "    th = ax.set_xticklabels(list(random_idx.alphabet))\n",
    "    return argmax(vals)\n",
    "\n",
    "for i in range(len(letter_sequence)):\n",
    "    print random_idx.alphabet[letter_at_pos_ro(i)],\n",
    "    "
   ]
  },
  {
   "cell_type": "markdown",
   "metadata": {},
   "source": [
    "Cool! So, yes, can just use a random orthonormal matrix as the permutation operation, and can store the hypervectors in the same fashion. \n",
    "\n",
    "This is terribly slow, however, because we have to compute the inverse of the matrix and raise it to a power to go backwards. However, the important point is that we have taken another step towards generalizing the hypervector math to neural networks. \n",
    "\n",
    "This is important because I think that the storage capacity of the hypervectors and utilizing the math is extremely important to consider in the context of an RNN. Becuase we can show that hypervectors and RNN are essentially equivalent, we can say that the storage capacity of a hypervector is similar to RNN.\n",
    "\n",
    "I think this is essential because many don't consider the capacity of an RNN -- how much information can it keep in the recurrent dynamics? Well, the limit is set by how much a hypervector can hold. \n",
    "\n",
    "I think so long as the matrix is orthonormal it should work. Of course identity would not work, even though its orthonormal, and then there are tons of other permutations that won't work as well. At some point the permutation operation has to do a loop, and the max number of iterations for a loop would be N (does it have to loop at some point?). \n",
    "\n",
    "But random orthonormal matrix works well. The hypervector probably cannot store N values anyway, so the loop issue is not so bad. A random basis will likely not have N steps before looping, but it should be high or close to N (maybe?). \n",
    "\n",
    "\n",
    "The final difference with the RNN and hypervectors is that the hypervectors are entirely linear. An RNN often has a non-linear threshold/saturation function. What would this mean in terms of storage and capacity? How would decoding/dereferencing the memory work? \n",
    "\n",
    "\n"
   ]
  },
  {
   "cell_type": "code",
   "execution_count": 45,
   "metadata": {
    "collapsed": false
   },
   "outputs": [
    {
     "data": {
      "text/plain": [
       "(10000, 10000)"
      ]
     },
     "execution_count": 45,
     "metadata": {},
     "output_type": "execute_result"
    }
   ],
   "source": [
    "ro.shape"
   ]
  },
  {
   "cell_type": "code",
   "execution_count": 46,
   "metadata": {
    "collapsed": false
   },
   "outputs": [
    {
     "data": {
      "text/plain": [
       "(10000,)"
      ]
     },
     "execution_count": 46,
     "metadata": {},
     "output_type": "execute_result"
    }
   ],
   "source": [
    "hyper_ro = np.zeros(N)\n",
    "hyper_ro.shape"
   ]
  },
  {
   "cell_type": "code",
   "execution_count": 47,
   "metadata": {
    "collapsed": false
   },
   "outputs": [
    {
     "data": {
      "text/plain": [
       "matrix([[ 0.,  0.,  0., ...,  0.,  0.,  0.]])"
      ]
     },
     "execution_count": 47,
     "metadata": {},
     "output_type": "execute_result"
    }
   ],
   "source": [
    "np.dot(ro, hyper_ro)\n"
   ]
  },
  {
   "cell_type": "code",
   "execution_count": 49,
   "metadata": {
    "collapsed": false
   },
   "outputs": [],
   "source": [
    "ro = np.array(ro)"
   ]
  },
  {
   "cell_type": "code",
   "execution_count": null,
   "metadata": {
    "collapsed": true
   },
   "outputs": [],
   "source": []
  }
 ],
 "metadata": {
  "kernelspec": {
   "display_name": "Python 2",
   "language": "python",
   "name": "python2"
  },
  "language_info": {
   "codemirror_mode": {
    "name": "ipython",
    "version": 2
   },
   "file_extension": ".py",
   "mimetype": "text/x-python",
   "name": "python",
   "nbconvert_exporter": "python",
   "pygments_lexer": "ipython2",
   "version": "2.7.11"
  }
 },
 "nbformat": 4,
 "nbformat_minor": 0
}
