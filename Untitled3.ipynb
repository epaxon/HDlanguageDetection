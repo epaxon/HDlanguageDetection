{
 "cells": [
  {
   "cell_type": "code",
   "execution_count": 1,
   "metadata": {
    "collapsed": true
   },
   "outputs": [],
   "source": [
    "from pylab import *\n",
    "\n"
   ]
  },
  {
   "cell_type": "code",
   "execution_count": null,
   "metadata": {
    "collapsed": true
   },
   "outputs": [],
   "source": []
  },
  {
   "cell_type": "code",
   "execution_count": 21,
   "metadata": {
    "collapsed": false
   },
   "outputs": [],
   "source": [
    "N = 10000\n",
    "D = 32\n",
    "pres_letter_vecs = 2 * (np.random.randn(D,N) < 0) - 1\n",
    "past_letter_vecs = 2 * (np.random.randn(D,N) < 0) - 1\n",
    "\n",
    "M = 1\n",
    "\n",
    "psi = np.zeros(N)\n",
    "\n",
    "pres_vecs = np.zeros((M, N))\n",
    "past_vecs = np.zeros((M, N))\n",
    "\n",
    "\n",
    "for m in range(M):\n",
    "    past_len = np.random.randint(3,6)\n",
    "    pres_len = np.random.randint(3,6)\n",
    "    \n",
    "    pres_vec = np.zeros(N)\n",
    "    past_vec = np.zeros(N)\n",
    "    \n",
    "    for pl in range(pres_len):\n",
    "        d = np.random.randint(D, size=3)\n",
    "        pres_vec += pres_letter_vecs[d[0], :] * np.roll(pres_letter_vecs[d[1],:], 1) * np.roll(pres_letter_vecs[d[2]], 2)\n",
    "        \n",
    "    for pl in range(past_len):\n",
    "        d = np.random.randint(D, size=3)\n",
    "        past_vec += past_letter_vecs[d[0], :] * np.roll(past_letter_vecs[d[1],:], 1) * np.roll(past_letter_vecs[d[2]], 2)\n",
    "        \n",
    "        \n",
    "    pres_vec /= pres_len\n",
    "    past_vec /= past_len\n",
    "        \n",
    "    pres_vecs[m, :] = pres_vec\n",
    "    past_vecs[m, :] = past_vec\n",
    "    \n",
    "    ss = pres_vec * past_vec\n",
    "    psi += ss / norm(ss)\n",
    "    \n"
   ]
  },
  {
   "cell_type": "code",
   "execution_count": 22,
   "metadata": {
    "collapsed": false
   },
   "outputs": [
    {
     "data": {
      "text/plain": [
       "0.99999999999999933"
      ]
     },
     "execution_count": 22,
     "metadata": {},
     "output_type": "execute_result"
    }
   ],
   "source": [
    "norm(psi)"
   ]
  },
  {
   "cell_type": "code",
   "execution_count": 26,
   "metadata": {
    "collapsed": false
   },
   "outputs": [
    {
     "data": {
      "text/plain": [
       "0.44451598974730916"
      ]
     },
     "execution_count": 26,
     "metadata": {},
     "output_type": "execute_result"
    }
   ],
   "source": [
    "ss = past_vecs[0, :] * psi\n",
    "ss / norm(ss)\n",
    "\n",
    "np.dot(pres_vecs[0,:] / norm(pres_vecs[0,:]), ss)"
   ]
  },
  {
   "cell_type": "code",
   "execution_count": null,
   "metadata": {
    "collapsed": true
   },
   "outputs": [],
   "source": [
    "past_vecs[0, :] * psilt"
   ]
  },
  {
   "cell_type": "code",
   "execution_count": 28,
   "metadata": {
    "collapsed": false
   },
   "outputs": [
    {
     "data": {
      "text/plain": [
       "[<matplotlib.lines.Line2D at 0x7fdc82d21890>]"
      ]
     },
     "execution_count": 28,
     "metadata": {},
     "output_type": "execute_result"
    }
   ],
   "source": [
    "plot(ss[100:200])\n",
    "plot(pres_vecs[0, 100:200])"
   ]
  },
  {
   "cell_type": "code",
   "execution_count": null,
   "metadata": {
    "collapsed": true
   },
   "outputs": [],
   "source": []
  }
 ],
 "metadata": {
  "kernelspec": {
   "display_name": "Python 2",
   "language": "python",
   "name": "python2"
  },
  "language_info": {
   "codemirror_mode": {
    "name": "ipython",
    "version": 2
   },
   "file_extension": ".py",
   "mimetype": "text/x-python",
   "name": "python",
   "nbconvert_exporter": "python",
   "pygments_lexer": "ipython2",
   "version": "2.7.11"
  }
 },
 "nbformat": 4,
 "nbformat_minor": 0
}
