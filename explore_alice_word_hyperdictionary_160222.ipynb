{
 "cells": [
  {
   "cell_type": "markdown",
   "metadata": {},
   "source": [
    "# Alice in Wonderland Hyperdictionary\n",
    "\n",
    "I have created a hyperdictionary that contains each individual word in alice and wonderland. There are a few issues with the dictionary creation, as conjunctions aren't handled very well. This means several conjunctive words are present, such as 'll', 's', 't'. And then a few other spurious letters are stored in the dictionary as words.\n"
   ]
  },
  {
   "cell_type": "code",
   "execution_count": 1,
   "metadata": {
    "collapsed": false
   },
   "outputs": [
    {
     "name": "stdout",
     "output_type": "stream",
     "text": [
      "height has been deprecated.\n",
      "\n",
      "2016-02-22 11:20\n"
     ]
    }
   ],
   "source": [
    "\n",
    "import random_idx\n",
    "import utils\n",
    "import pickle\n",
    "import re\n",
    "import string\n",
    "\n",
    "from pylab import *\n",
    "\n",
    "%matplotlib inline\n"
   ]
  },
  {
   "cell_type": "code",
   "execution_count": 3,
   "metadata": {
    "collapsed": false
   },
   "outputs": [],
   "source": [
    "h = np.load('data/alice_word_hyperdictionary_d1M_160222.npz')\n",
    "letter_vectors = h['letter_vectors']\n",
    "hyperdictionary = h['hyperdictionary']"
   ]
  },
  {
   "cell_type": "code",
   "execution_count": 4,
   "metadata": {
    "collapsed": false
   },
   "outputs": [
    {
     "data": {
      "text/plain": [
       "[<matplotlib.lines.Line2D at 0x7f8a685dd6d0>]"
      ]
     },
     "execution_count": 4,
     "metadata": {},
     "output_type": "execute_result"
    },
    {
     "data": {
      "image/png": "[encoded data removed]",
      "text/plain": [
       "<matplotlib.figure.Figure at 0x7f8a686642d0>"
      ]
     },
     "metadata": {},
     "output_type": "display_data"
    }
   ],
   "source": [
    "N = hyperdictionary.shape[0]\n",
    "plot(hyperdictionary)"
   ]
  },
  {
   "cell_type": "code",
   "execution_count": 5,
   "metadata": {
    "collapsed": true
   },
   "outputs": [],
   "source": [
    "fdict = open(\"raw_texts/texts_english/alice_in_wonderland.txt\")\n",
    "text = fdict.read()\n",
    "\n",
    "sentences = text.split('.')"
   ]
  },
  {
   "cell_type": "code",
   "execution_count": 6,
   "metadata": {
    "collapsed": false
   },
   "outputs": [
    {
     "data": {
      "text/plain": [
       "1207"
      ]
     },
     "execution_count": 6,
     "metadata": {},
     "output_type": "execute_result"
    }
   ],
   "source": [
    "len(sentences)"
   ]
  },
  {
   "cell_type": "code",
   "execution_count": 7,
   "metadata": {
    "collapsed": true
   },
   "outputs": [],
   "source": [
    "def prepare_sentence(sentence_str):\n",
    "    truth_text = sentence_str.lower()\n",
    "    \n",
    "    rm = string.punctuation + string.digits\n",
    "    \n",
    "    for i in string.punctuation:\n",
    "        truth_text = truth_text.replace(i, '')\n",
    "        \n",
    "    truth_text = truth_text.replace('\\n',' ')\n",
    "    truth_text = truth_text.replace('\\r','')\n",
    "    truth_text = truth_text.replace('\\t','')\n",
    "    truth_text = truth_text.strip()\n",
    "        \n",
    "    trial_text = truth_text.replace(' ', '')\n",
    "    \n",
    "    return truth_text, trial_text"
   ]
  },
  {
   "cell_type": "code",
   "execution_count": 8,
   "metadata": {
    "collapsed": false
   },
   "outputs": [],
   "source": [
    "truth_text, trial_text = prepare_sentence(sentences[10])"
   ]
  },
  {
   "cell_type": "code",
   "execution_count": 9,
   "metadata": {
    "collapsed": false
   },
   "outputs": [
    {
     "data": {
      "text/plain": [
       "'firstshetriedtolookdownandmakeoutwhatshewascomingtobutitwastoodarktoseeanythingthenshelookedatthesidesofthewellandnoticedthattheywerefilledwithcupboardsandbookshelveshereandthereshesawmapsandpictureshunguponpegs'"
      ]
     },
     "execution_count": 9,
     "metadata": {},
     "output_type": "execute_result"
    }
   ],
   "source": [
    "trial_text # has no spaces"
   ]
  },
  {
   "cell_type": "code",
   "execution_count": 10,
   "metadata": {
    "collapsed": false
   },
   "outputs": [
    {
     "data": {
      "text/plain": [
       "'first she tried to look down and make out what she was coming to but it was too dark to see anything then she looked at the sides of the well and noticed that they were filled with cupboards and bookshelves here and there she saw maps and pictures hung upon pegs'"
      ]
     },
     "execution_count": 10,
     "metadata": {},
     "output_type": "execute_result"
    }
   ],
   "source": [
    "truth_text # contains the spaces"
   ]
  },
  {
   "cell_type": "markdown",
   "metadata": {},
   "source": [
    "## The greedy way\n",
    "\n",
    "The simplest thing to do is to go through the string of letters, and as soon as you find a word that they hyperdictionary recognizes then say that there should be a space."
   ]
  },
  {
   "cell_type": "code",
   "execution_count": 11,
   "metadata": {
    "collapsed": true
   },
   "outputs": [],
   "source": [
    "\n",
    "def find_spaces_greedy(text):\n",
    "    # going through the text letter by letter, and if you find a word, put a space.\n",
    "    spaces = []\n",
    "    \n",
    "    subword = ''\n",
    "    subvec = np.ones(N)\n",
    "    for i,letter in enumerate(text):\n",
    "        letter_idx = random_idx.alphabet.find(letter)\n",
    "        subvec = np.roll(subvec, 1) * letter_vectors[letter_idx,:]\n",
    "        subword += letter\n",
    "        \n",
    "        # check to see if the subvec is present in the hyperdictionary\n",
    "        val = np.dot(subvec.T, hyperdictionary) / N\n",
    "        \n",
    "        if val > 0.5:\n",
    "            # then we think that we just saw a whole word, and so we add spaces.\n",
    "            spaces.append(i+1)\n",
    "            # and start the subword and subvec over\n",
    "            subword = ''\n",
    "            subvec = np.ones(N)\n",
    "    \n",
    "    return spaces\n",
    "            \n",
    "def insert_spaces(spaces, trial_text):\n",
    "    tt = trial_text\n",
    "    for i,s in enumerate(spaces):\n",
    "        tt = tt[:int(s+i)] + ' ' + tt[int(s+i):]\n",
    "    return tt\n"
   ]
  },
  {
   "cell_type": "code",
   "execution_count": 12,
   "metadata": {
    "collapsed": false
   },
   "outputs": [
    {
     "name": "stdout",
     "output_type": "stream",
     "text": [
      "first she tried to look down and make out what she was coming to but it was too dark to see anything then she looked at the sides of the well and noticed that they were filled with cupboards and bookshelves here and there she saw maps and pictures hung upon pegs\n",
      "f i rstshetriedtolookdownandmakeoutwhatshewascomingtobutitwastoodarktoseeanythingthenshelookedatthesidesofthewellandnoticedthattheywerefilledwithcupboardsandbookshelveshereandthereshesawmapsandpictureshunguponpegs\n"
     ]
    }
   ],
   "source": [
    "spaces = find_spaces_greedy(trial_text)\n",
    "\n",
    "print truth_text\n",
    "print insert_spaces(spaces, trial_text)"
   ]
  },
  {
   "cell_type": "markdown",
   "metadata": {},
   "source": [
    "So, in this case, 'f' and 'i' are indeed words in the book. Many of the single letters -- t, d, s, were put in the dictionary because of punctuation making it look like these were individual characters. So, the greedy algorithm doesn't do too great, because a lot of letters are considered words. 'rstshetried...' is not found so it gives up."
   ]
  },
  {
   "cell_type": "code",
   "execution_count": 13,
   "metadata": {
    "collapsed": false
   },
   "outputs": [
    {
     "name": "stdout",
     "output_type": "stream",
     "text": [
      "perhaps it doesnt understand english thought alice i daresay its a french mouse come over with william the conqueror\n",
      "perhaps i t d o e s ntunderstandenglishthoughtaliceidaresayitsafrenchmousecomeoverwithwilliamtheconqueror\n"
     ]
    }
   ],
   "source": [
    "truth_text, trial_text = prepare_sentence(sentences[77])\n",
    "spaces = find_spaces_greedy(trial_text)\n",
    "print truth_text\n",
    "print insert_spaces(spaces, trial_text)"
   ]
  },
  {
   "cell_type": "markdown",
   "metadata": {},
   "source": [
    "## The lazy way\n",
    "\n",
    "This way makes a bit more sense, we are going to search through from the start and find the longest word that is also present in the hyperdictionary. Then we will loop once we find the longest word space.\n"
   ]
  },
  {
   "cell_type": "code",
   "execution_count": 14,
   "metadata": {
    "collapsed": true
   },
   "outputs": [],
   "source": [
    "def find_spaces_from_start(text, max_look=float('inf')):\n",
    "    # go through the whole text as if from the beginning and find all potential spaces.\n",
    "    spaces = []\n",
    "    val = np.zeros(min((max_look+1, len(text))))\n",
    "    subword = ''\n",
    "    subvec = np.ones(N)\n",
    "    for i,letter in enumerate(text):\n",
    "        letter_idx = random_idx.alphabet.find(letter)\n",
    "        subvec = np.roll(subvec, 1) * letter_vectors[letter_idx,:]\n",
    "        subword += letter\n",
    "        \n",
    "        # check to see if the subvec is present in the hyperdictionary\n",
    "        val[i] = np.dot(subvec.T, hyperdictionary) / N\n",
    "        \n",
    "        if val[i] > 0.5:\n",
    "            # then we think that we just saw a whole word, and so we add space to the next.\n",
    "            spaces.append(i+1)\n",
    "            \n",
    "        if i >= max_look:\n",
    "            break\n",
    "    \n",
    "    #print text\n",
    "    #plot(val)\n",
    "    return spaces\n",
    "            \n",
    "def find_spaces_lazy(text):\n",
    "    spaces = []\n",
    "    sp_last = 0\n",
    "    \n",
    "    while True:\n",
    "        sp = find_spaces_from_start(text, 15)\n",
    "        \n",
    "        if len(sp) > 0:\n",
    "            # then we found a space and will do the loop again, use longest word\n",
    "            spaces.append(sp[-1]+sp_last)\n",
    "            text = text[sp[-1]:]\n",
    "            sp_last = sp_last + sp[-1]\n",
    "        else:\n",
    "            # Then we are done\n",
    "            break\n",
    "    return spaces\n",
    "    "
   ]
  },
  {
   "cell_type": "code",
   "execution_count": 15,
   "metadata": {
    "collapsed": false
   },
   "outputs": [
    {
     "name": "stdout",
     "output_type": "stream",
     "text": [
      "but do cats eat bats i wonder and here alice began to get rather sleepy and went on saying to herself in a dreamy sort of way do cats eat bats do cats eat bats and sometimes do bats eat cats for you see as she couldnt answer either question it didnt much matter which way she put it\n",
      "but do cats eat bats i wonder and here alice began to get rather sleepy and went on saying to herself in a dreamy sort of way do cats eat bats do cats eat bats and sometimes do bats eat cats for you see as she couldnt answer either question it didnt much matter which ways he put it \n"
     ]
    }
   ],
   "source": [
    "truth_text, trial_text = prepare_sentence(sentences[25])\n",
    "spaces = find_spaces_lazy(trial_text)\n",
    "print truth_text\n",
    "print insert_spaces(spaces, trial_text)"
   ]
  },
  {
   "cell_type": "markdown",
   "metadata": {},
   "source": [
    "so, in this case it messed up a bit at the end. 'ways he' instead of 'way she'\n"
   ]
  },
  {
   "cell_type": "code",
   "execution_count": 16,
   "metadata": {
    "collapsed": false
   },
   "outputs": [
    {
     "name": "stdout",
     "output_type": "stream",
     "text": [
      "perhaps it doesnt understand english thought alice i daresay its a french mouse come over with william the conqueror\n",
      "perhaps it doesnt understand english thought alice id are say its a french mouse come over with william the conqueror \n"
     ]
    }
   ],
   "source": [
    "truth_text, trial_text = prepare_sentence(sentences[77])\n",
    "spaces = find_spaces_lazy(trial_text)\n",
    "print truth_text\n",
    "print insert_spaces(spaces, trial_text)"
   ]
  },
  {
   "cell_type": "code",
   "execution_count": 17,
   "metadata": {
    "collapsed": false
   },
   "outputs": [
    {
     "name": "stdout",
     "output_type": "stream",
     "text": [
      "ahem said the mouse with an important air are you all ready this is the driest thing i know\n",
      "ahem said them ou s e with an important air are you all ready this is the driest thing i know \n"
     ]
    }
   ],
   "source": [
    "truth_text, trial_text = prepare_sentence(sentences[100])\n",
    "spaces = find_spaces_lazy(trial_text)\n",
    "print truth_text\n",
    "print insert_spaces(spaces, trial_text)"
   ]
  },
  {
   "cell_type": "markdown",
   "metadata": {},
   "source": [
    "## Using recursion\n",
    "\n",
    "We can make a recursive function that will search through the possibilities and only spit out answers if every word is found."
   ]
  },
  {
   "cell_type": "code",
   "execution_count": 18,
   "metadata": {
    "collapsed": false
   },
   "outputs": [],
   "source": [
    "\n",
    "def find_spaces_recursive(text):\n",
    "    spaces = np.array([])\n",
    "    \n",
    "    sp = find_spaces_from_start(text, 15)\n",
    "       \n",
    "    iswhole = False\n",
    "    \n",
    "    if len(sp) > 0:\n",
    "        # then we found a space and will do the loop again\n",
    "        sp_r = []\n",
    "        nspaces = []\n",
    "        \n",
    "        # go through long to short\n",
    "        for sidx in sp[::-1]:\n",
    "            ss, iswhole = find_spaces_recursive(text[sidx:])                                \n",
    "            nspaces.append(len(ss))\n",
    "            sp_r.append(ss)\n",
    "            \n",
    "            if iswhole:\n",
    "                # Then we are at the end and the whole thing was good!.                \n",
    "                if len(ss) == 0:\n",
    "                    spaces = np.hstack((spaces, sidx)) \n",
    "                else:\n",
    "                    spaces = np.hstack((spaces, sidx, ss+sidx))\n",
    "                    \n",
    "                break\n",
    "        \n",
    "        if not iswhole:\n",
    "            # So, going to return the recursive call that had the most spaces\n",
    "            mxidx = np.argmax(nspaces)\n",
    "            sp_fixed = sp_r[mxidx] + sp[mxidx]\n",
    "            spaces = np.hstack((spaces, sp_fixed))\n",
    "            \n",
    "    if len(text) == 0:\n",
    "        iswhole = True\n",
    "        spaces = np.array([])\n",
    "    \n",
    "    elif not iswhole:\n",
    "        if len(sp) > 0 and sp[-1] == len(text):\n",
    "            # then the whole word was found\n",
    "            iswhole = True\n",
    "        \n",
    "    return spaces, iswhole"
   ]
  },
  {
   "cell_type": "code",
   "execution_count": 19,
   "metadata": {
    "collapsed": false
   },
   "outputs": [],
   "source": [
    "truth_text, trial_text = prepare_sentence(sentences[502])\n",
    "spaces, iswhole = find_spaces_recursive(trial_text)"
   ]
  },
  {
   "cell_type": "code",
   "execution_count": 20,
   "metadata": {
    "collapsed": false
   },
   "outputs": [
    {
     "name": "stdout",
     "output_type": "stream",
     "text": [
      "he moved on as he spoke and the dormouse followed him the march hare moved into the dormouses place and alice rather unwillingly took the place of the march hare\n",
      "he moved on as he spoke and the dormouse followed him them arch hare moved into the dormouses place and alice rather unwillingly took the place of them arch hare \n"
     ]
    }
   ],
   "source": [
    "print truth_text\n",
    "print insert_spaces(spaces, trial_text)"
   ]
  },
  {
   "cell_type": "code",
   "execution_count": 21,
   "metadata": {
    "collapsed": false
   },
   "outputs": [
    {
     "name": "stdout",
     "output_type": "stream",
     "text": [
      "and certainly there was a most extraordinary noise going on withina constant howling and sneezing and every now and then a great crash as if a dish or kettle had been broken to pieces\n",
      "and certainly there was am o s t extraordinary noise going on within a constant howling and sneezing and every now and then a great crash as if a dish or kettle had been broken top i e c e s \n"
     ]
    }
   ],
   "source": [
    "truth_text, trial_text = prepare_sentence(sentences[302])\n",
    "spaces, iswhole = find_spaces_recursive(trial_text)\n",
    "print truth_text\n",
    "print insert_spaces(spaces, trial_text)"
   ]
  },
  {
   "cell_type": "code",
   "execution_count": 22,
   "metadata": {
    "collapsed": false
   },
   "outputs": [
    {
     "name": "stdout",
     "output_type": "stream",
     "text": [
      "alice did not quite like the look of the creature but on the whole she thought it would be quite as safe to stay with it as to go after that savage queen so she waited\n",
      "alice did not quite like the look of the creature but on the whole she thought it would be quite as safe to stay with it as to go after thats a v age queens o she waited \n"
     ]
    }
   ],
   "source": [
    "truth_text, trial_text = prepare_sentence(sentences[662])\n",
    "spaces, iswhole = find_spaces_recursive(trial_text)\n",
    "print truth_text\n",
    "print insert_spaces(spaces, trial_text)"
   ]
  },
  {
   "cell_type": "code",
   "execution_count": 23,
   "metadata": {
    "collapsed": false
   },
   "outputs": [
    {
     "name": "stdout",
     "output_type": "stream",
     "text": [
      "ive so often read in the newspapers at the end of trials there was some attempts at applause which was immediately suppressed by the officers of the court and i never understood what it meant till now\n",
      "ive soo f ten read in then e w s paper sat the end of trials there was some attempts at applause which was immediately suppressed by the officers of the court and in ever understood what it meant till now \n"
     ]
    }
   ],
   "source": [
    "truth_text, trial_text = prepare_sentence(sentences[882])\n",
    "spaces, iswhole = find_spaces_recursive(trial_text)\n",
    "print truth_text\n",
    "print insert_spaces(spaces, trial_text)"
   ]
  },
  {
   "cell_type": "code",
   "execution_count": 24,
   "metadata": {
    "collapsed": false
   },
   "outputs": [
    {
     "name": "stdout",
     "output_type": "stream",
     "text": [
      "alice looked at the jurybox and saw that in her haste she had put the lizard in head downwards and the poor little thing was waving its tail about in a melancholy way being quite unable to move\n",
      "alice looked at the jury box and saw that in her haste she had put the lizard in head downwards and the poor little thing was waving its tail about in a melancholy way being quite unable to move \n"
     ]
    }
   ],
   "source": [
    "truth_text, trial_text = prepare_sentence(sentences[910])\n",
    "spaces, iswhole = find_spaces_recursive(trial_text)\n",
    "print truth_text\n",
    "print insert_spaces(spaces, trial_text)"
   ]
  },
  {
   "cell_type": "code",
   "execution_count": 25,
   "metadata": {
    "collapsed": false
   },
   "outputs": [
    {
     "name": "stdout",
     "output_type": "stream",
     "text": [
      "well thought alice to herself after such a fall as this i shall think nothing of tumbling down stairs how brave theyll all think me at home why i wouldnt say anything about it even if i fell off the top of the house which was very likely true\n",
      "well thought alice to herself after such a fall as this is hall think nothing of tumbling down stairs how brave theyll all think meat home why i wouldnt say anything about it even if i fell off the top of the house which was very likely true \n"
     ]
    }
   ],
   "source": [
    "truth_text, trial_text = prepare_sentence(sentences[12])\n",
    "spaces, iswhole = find_spaces_recursive(trial_text)\n",
    "print truth_text\n",
    "print insert_spaces(spaces, trial_text)"
   ]
  },
  {
   "cell_type": "code",
   "execution_count": 26,
   "metadata": {
    "collapsed": false
   },
   "outputs": [
    {
     "name": "stdout",
     "output_type": "stream",
     "text": [
      "down down down\n",
      "down down down \n"
     ]
    }
   ],
   "source": [
    "truth_text, trial_text = prepare_sentence(sentences[13])\n",
    "spaces, iswhole = find_spaces_recursive(trial_text)\n",
    "print truth_text\n",
    "print insert_spaces(spaces, trial_text)"
   ]
  },
  {
   "cell_type": "code",
   "execution_count": 27,
   "metadata": {
    "collapsed": false
   },
   "outputs": [
    {
     "name": "stdout",
     "output_type": "stream",
     "text": [
      "would the fall never come to an end i wonder how many miles ive fallen by this time she said aloud\n",
      "would the fall never come to an end i wonder how many miles ive fallen by this times hes a id aloud \n"
     ]
    }
   ],
   "source": [
    "truth_text, trial_text = prepare_sentence(sentences[14])\n",
    "spaces, iswhole = find_spaces_recursive(trial_text)\n",
    "print truth_text\n",
    "print insert_spaces(spaces, trial_text)"
   ]
  },
  {
   "cell_type": "code",
   "execution_count": 28,
   "metadata": {
    "collapsed": false
   },
   "outputs": [
    {
     "name": "stdout",
     "output_type": "stream",
     "text": [
      "he was looking up into the sky all the time he was speaking and this alice thought decidedly uncivil\n",
      "he was looking up into the sky all the time he was speaking and this alice thought decidedly uncivil \n"
     ]
    }
   ],
   "source": [
    "truth_text, trial_text = prepare_sentence(sentences[305])\n",
    "spaces, iswhole = find_spaces_recursive(trial_text)\n",
    "print truth_text\n",
    "print insert_spaces(spaces, trial_text)"
   ]
  }
 ],
 "metadata": {
  "kernelspec": {
   "display_name": "Python 2",
   "language": "python",
   "name": "python2"
  },
  "language_info": {
   "codemirror_mode": {
    "name": "ipython",
    "version": 2
   },
   "file_extension": ".py",
   "mimetype": "text/x-python",
   "name": "python",
   "nbconvert_exporter": "python",
   "pygments_lexer": "ipython2",
   "version": "2.7.11"
  }
 },
 "nbformat": 4,
 "nbformat_minor": 0
}
