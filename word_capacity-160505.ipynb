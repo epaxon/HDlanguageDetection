{
 "cells": [
  {
   "cell_type": "code",
   "execution_count": 29,
   "metadata": {
    "collapsed": false
   },
   "outputs": [],
   "source": [
    "\n",
    "import random_idx\n",
    "import utils\n",
    "import pickle\n",
    "import re\n",
    "import string\n",
    "\n",
    "from pylab import *\n",
    "from __future__ import division\n",
    "%matplotlib inline\n"
   ]
  },
  {
   "cell_type": "code",
   "execution_count": 63,
   "metadata": {
    "collapsed": false
   },
   "outputs": [
    {
     "name": "stdout",
     "output_type": "stream",
     "text": [
      "2616\n"
     ]
    }
   ],
   "source": [
    "fdict = open(\"data/alice-vocabulary.txt\")\n",
    "text = fdict.read()\n",
    "\n",
    "word_list = text.split('\\n')\n",
    "del word_list[-1] # the last one is just ''\n",
    "print len(word_list)"
   ]
  },
  {
   "cell_type": "code",
   "execution_count": 32,
   "metadata": {
    "collapsed": true
   },
   "outputs": [],
   "source": [
    "def test_word_hit_hypervector(word_list, N=10000):\n",
    "\n",
    "    hypervector = np.zeros(N)\n",
    "\n",
    "    letter_vectors = 2 * (np.random.randn(N, len(random_idx.alphabet)) > 0) - 1\n",
    "\n",
    "    for word in word_list:\n",
    "        word_vector = np.ones(N)\n",
    "\n",
    "        for letter in word:\n",
    "            lidx = random_idx.alphabet.find(letter)\n",
    "\n",
    "            word_vector = np.roll(word_vector, 1) * letter_vectors[:, lidx]\n",
    "\n",
    "        hypervector += word_vector\n",
    "\n",
    "    word_dots = np.zeros(len(word_list))\n",
    "\n",
    "    for iw,word in enumerate(word_list):\n",
    "        word_vector = np.ones(N)\n",
    "\n",
    "        for letter in word:\n",
    "            lidx = random_idx.alphabet.find(letter)\n",
    "\n",
    "            word_vector = np.roll(word_vector, 1) * letter_vectors[:, lidx]\n",
    "\n",
    "        word_dots[iw] = np.dot(hypervector, word_vector)\n",
    "\n",
    "    return word_dots"
   ]
  },
  {
   "cell_type": "code",
   "execution_count": 55,
   "metadata": {
    "collapsed": false
   },
   "outputs": [],
   "source": [
    "N=10000\n",
    "word_dots = test_word_hit_hypervector(word_list, N=N)"
   ]
  },
  {
   "cell_type": "code",
   "execution_count": 56,
   "metadata": {
    "collapsed": false
   },
   "outputs": [
    {
     "data": {
      "text/plain": [
       "[<matplotlib.lines.Line2D at 0x7f00d6c34650>]"
      ]
     },
     "execution_count": 56,
     "metadata": {},
     "output_type": "execute_result"
    },
    {
     "data": {
      "image/png": "[encoded data removed]",
      "text/plain": [
       "<matplotlib.figure.Figure at 0x7f00d6c27f90>"
      ]
     },
     "metadata": {},
     "output_type": "display_data"
    }
   ],
   "source": [
    "reject_thresh=0.5\n",
    "\n",
    "hist(word_dots, 30);\n",
    "plot([N*reject_thresh,N*reject_thresh], [0,250], ':r', lw=2)"
   ]
  },
  {
   "cell_type": "code",
   "execution_count": 34,
   "metadata": {
    "collapsed": true
   },
   "outputs": [],
   "source": [
    "import scipy\n",
    "\n",
    "def ncdf(z):\n",
    "    return 0.5 * (1 + scipy.special.erf(z/2**0.5))\n",
    "\n",
    "def p_hit(M, N=10000, D=27, reject_thresh=0.5, ares=2000):\n",
    "    M = np.array(M)\n",
    "    p = np.zeros((ares-1, len(M)))\n",
    "\n",
    "    for iM,Mval in enumerate(M):\n",
    "        avals = np.linspace(reject_thresh * N, N + 8 * (N*Mval)**0.5, ares)\n",
    "        \n",
    "        p[:, iM] = ncdf((avals[1:]-N) / ((Mval-1)*N)**0.5) - ncdf((avals[:-1]-N) / ((Mval-1)*N)**0.5)\n",
    "        p[:, iM] *= (ncdf(np.mean(np.vstack((avals[1:], avals[:-1])), axis=0)/(Mval*N)**0.5)) ** (D-1)\n",
    "\n",
    "    return np.sum(p, axis=0)"
   ]
  },
  {
   "cell_type": "code",
   "execution_count": 61,
   "metadata": {
    "collapsed": false
   },
   "outputs": [
    {
     "name": "stdout",
     "output_type": "stream",
     "text": [
      "Simulation: 0.838364539549\n",
      "Theory:     0.835858300045\n"
     ]
    }
   ],
   "source": [
    "print \"Simulation: \" + str(sum(word_dots > reject_thresh*N) / len(word_dots))\n",
    "print \"Theory:     \" + str(p_hit([len(word_list)], N=N, D=1, reject_thresh=reject_thresh)[0])"
   ]
  },
  {
   "cell_type": "code",
   "execution_count": 44,
   "metadata": {
    "collapsed": false
   },
   "outputs": [
    {
     "name": "stdout",
     "output_type": "stream",
     "text": [
      "10000.0\n",
      "20000.0\n",
      "40000.0\n",
      "80000.0\n"
     ]
    },
    {
     "name": "stderr",
     "output_type": "stream",
     "text": [
      "/home/epaxon/anaconda2/lib/python2.7/site-packages/ipykernel/__main__.py:3: DeprecationWarning: using a non-integer number instead of an integer will result in an error in the future\n",
      "  app.launch_new_instance()\n",
      "/home/epaxon/anaconda2/lib/python2.7/site-packages/ipykernel/__main__.py:5: DeprecationWarning: using a non-integer number instead of an integer will result in an error in the future\n"
     ]
    }
   ],
   "source": [
    "test_N = [1e4, 2e4, 4e4, 8e4]\n",
    "\n",
    "p_hit_N = []\n",
    "for iN, N in enumerate(test_N):\n",
    "    print N\n",
    "    wd = test_word_hit_hypervector(word_list, N=N)\n",
    "    \n",
    "    ph = sum(wd > reject_thresh * N) / len(wd)\n",
    "    \n",
    "    p_hit_N.append(ph)    \n"
   ]
  },
  {
   "cell_type": "code",
   "execution_count": 45,
   "metadata": {
    "collapsed": false
   },
   "outputs": [],
   "source": [
    "p_hit_theory = [p_hit([len(word_list)], N=N, D=1, reject_thresh=reject_thresh) for N in test_N]"
   ]
  },
  {
   "cell_type": "code",
   "execution_count": 60,
   "metadata": {
    "collapsed": false
   },
   "outputs": [
    {
     "data": {
      "text/plain": [
       "<matplotlib.text.Text at 0x7f00d677f190>"
      ]
     },
     "execution_count": 60,
     "metadata": {},
     "output_type": "execute_result"
    },
    {
     "data": {
      "image/png": "[encoded data removed]",
      "text/plain": [
       "<matplotlib.figure.Figure at 0x7f00d6a09190>"
      ]
     },
     "metadata": {},
     "output_type": "display_data"
    }
   ],
   "source": [
    "figure(figsize=(10,4))\n",
    "subplot(121)\n",
    "plot(test_N, 1-np.array(p_hit_N), ':or', label='Simulation')\n",
    "plot(test_N, 1-np.array(p_hit_theory), 'k', label='Theory')\n",
    "title('Word Misses - Linear Scale')\n",
    "xlabel('N')\n",
    "ylabel('1 - P(hit)')\n",
    "legend(loc='upper right')\n",
    "\n",
    "subplot(122)\n",
    "plot(test_N, 1-np.array(p_hit_N), ':or', label='Simulation')\n",
    "plot(test_N, 1-np.array(p_hit_theory), 'k', label='Theory')\n",
    "yscale('log')\n",
    "\n",
    "title('Word Misses - Log Scale')\n",
    "xlabel('N')\n",
    "ylabel('1 - P(hit)')"
   ]
  },
  {
   "cell_type": "code",
   "execution_count": null,
   "metadata": {
    "collapsed": true
   },
   "outputs": [],
   "source": []
  }
 ],
 "metadata": {
  "kernelspec": {
   "display_name": "Python 2",
   "language": "python",
   "name": "python2"
  },
  "language_info": {
   "codemirror_mode": {
    "name": "ipython",
    "version": 2
   },
   "file_extension": ".py",
   "mimetype": "text/x-python",
   "name": "python",
   "nbconvert_exporter": "python",
   "pygments_lexer": "ipython2",
   "version": "2.7.11"
  }
 },
 "nbformat": 4,
 "nbformat_minor": 0
}
