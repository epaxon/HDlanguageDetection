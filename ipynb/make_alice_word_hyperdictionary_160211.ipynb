{
 "cells": [
  {
   "cell_type": "markdown",
   "metadata": {},
   "source": [
    "# Creating the Alice Word Hyperdictionary\n",
    "\n",
    "We are going to create a hypervector that contains every individual word in the book. We will then use this hyperdictionary in order to attempt at putting the spaces back into sentences with the spaces removed.\n"
   ]
  },
  {
   "cell_type": "code",
   "execution_count": 1,
   "metadata": {
    "collapsed": false
   },
   "outputs": [
    {
     "name": "stdout",
     "output_type": "stream",
     "text": [
      "height has been deprecated.\n",
      "\n",
      "2016-02-22 11:16\n"
     ]
    }
   ],
   "source": [
    "\n",
    "import random_idx\n",
    "import utils\n",
    "import pickle\n",
    "import re\n",
    "import string\n",
    "\n",
    "from pylab import *\n",
    "\n",
    "%matplotlib inline\n"
   ]
  },
  {
   "cell_type": "code",
   "execution_count": 2,
   "metadata": {
    "collapsed": false
   },
   "outputs": [
    {
     "data": {
      "text/plain": [
       "3060"
      ]
     },
     "execution_count": 2,
     "metadata": {},
     "output_type": "execute_result"
    }
   ],
   "source": [
    "fdict = open(\"raw_texts/texts_english/alice_in_wonderland.txt\")\n",
    "text = fdict.read().lower()\n",
    "\n",
    "punct = string.punctuation + string.digits\n",
    "\n",
    "for i in punct:\n",
    "    if i == '-':\n",
    "        text = text.replace(i, ' ')\n",
    "    else:\n",
    "        text = text.replace(i, '')\n",
    "    \n",
    "text = text.replace('\\n', ' ')\n",
    "\n",
    "    \n",
    "word_list = set(text.split()[1:]);\n",
    "len(word_list)"
   ]
  },
  {
   "cell_type": "code",
   "execution_count": null,
   "metadata": {
    "collapsed": false
   },
   "outputs": [],
   "source": []
  },
  {
   "cell_type": "code",
   "execution_count": 3,
   "metadata": {
    "collapsed": false
   },
   "outputs": [
    {
     "name": "stdout",
     "output_type": "stream",
     "text": [
      "[[-1 -1  1 ...,  1  1 -1]\n",
      " [-1  1  1 ...,  1  1 -1]\n",
      " [-1  1 -1 ..., -1  1  1]\n",
      " ..., \n",
      " [-1 -1 -1 ...,  1 -1  1]\n",
      " [ 1  1 -1 ...,  1 -1  1]\n",
      " [ 1  1 -1 ...,  1 -1  1]]\n"
     ]
    }
   ],
   "source": [
    "N=1000000\n",
    "letter_vectors = 2 * (np.random.randn(len(random_idx.alphabet), N) > 0) - 1\n",
    "print letter_vectors"
   ]
  },
  {
   "cell_type": "code",
   "execution_count": 4,
   "metadata": {
    "collapsed": false
   },
   "outputs": [
    {
     "name": "stdout",
     "output_type": "stream",
     "text": [
      "secondly pardon limited saves knelt four sleep hanging ringlets oldest hate assembled forget whose lory calculate paris blacking presents whatsoever under inwards sorry worth updated music void rise every jack govern seals fireplace school prize wooden pinch persisted favoured leaders tired efforts feathers request elegant likely louder machines shining even meekly errors hide pace solemn thunder lizard poison above conduct new increasing ever told join never wrapping here hundreds met protection possibility hers cardboard shriek dry property daughter leaves changed reports swam barrowful smoke pack changes ventured golden secure owed ground explained angrily feelings brought patience moral guests drowned punching txt negligence spoke would arms insult distributing dormouses overhead therefore leant survive fainting tell breathe paperwork posting evening hurt grief glass excellent adjourn hole hold outdated must me locked room work dodo worm roof obstacle elbow my shook rosetree quiver serpent give unjust flung organized frighten want extraordinary keep returned end turn complaining agony returning damage machine how hot answer truthful poker flustered mouths lad ladder after containing wrong jumping lay curiosity law lap types attempt childhood wink wriggling green aloud order wind wine executed office dreamed over prohibition london mabel before chatte fit somewhere lefthand fix writing better production fig glanced croquet weeks overcome then them slate safe break caterpillar they interrupt one bank pegs grammar meat alternately leading herald eleventh roast each went side bone mean calmly financial telescope fairly series dodged vote taught forgot flock sounds reminding velvet network tales sighing forty fellows content re laid millennium got size forth foundation splashed stamping turning given free uglification whereupon mallets wanted telescopes enormous ate shelves writhing cackled messages days pence hopeless moving footsteps bite user enjoy already dunce curiouser additions synonymous encouraging hearing wash another thoughtfully thick electronic awfully service indicate beauti xii top girls airs master too wildly legs bitter dogs listen consented ceiling solemnly took direct hadnt positively character begins distance coward tree second seated project matter splendidly exclaimed flame williams askance feeling chrysalis ran httpwwwgutenbergorg shyly modern mind mine sorrow talking rat manner seen seem tells eels strength thoroughly eagerly subjects doors laughed gravy nobody though ebook regular mouth plenty grave zealand incomplete alarm m dog swamp ridiculous sun notion came decidedly saying currants pardoned pope lewis queen sage ending attempts defects queer earth toast flowers spite explain folded sugar deepest disgust executive do cartwheels squeaking stop coast frowning shutting cushion altogether frying nasty dr learned comply bat countries nicely anxiously shape licking method twice bad softly release explanations steam ears blew fair checks depends decided flashed cattle corrupt miserable mournfully best subject pebbles said away irs unable finger sorts approach preserve claws crossly interrupting terms confusion weak however camomile twinkling drew extent picking maynt improve pity received protect accident reported country ill cup adventures edgar players games treacle argue asked tone appeared royal lullaby height active wider beheaded merchantibility speak shouting tarts three been quarrelling chimneys much axis interest schoolroom expected lovely threw natured life wags mushroom twinkled concerning grunt uncommon locations child catch doth teapot has disclaimers lessen tastes air ugly near neat viii stopping voice employees mistake remembering ix seven compliance fourteenth played is it iv ii gloomily cant im clinging in mouse id if grown growl severity credit perform things make linked forehead damages unfortunate vegetable plates several couple bells youth tops hand delight marched dozing opportunity thoughts kid butter hearth kept matters settled possessed youre rome humbly impertinent hearts the yours trademarkcopyright left just sentence distribute sleepy atheling verses identify farther yes yer yet electronically previous adding spectacles hjckrrh cherry had grumbled belongs easy prison save hat gave boxed possible possibly dreamy flamingoes afore destroy judge replace burnt shoulder sorrows appearing uncivil seaside alice quadrille theyre specific renamed officer night hung towards right old deal people sends crown somehow dead clubs escape dear straightening bore goldfish creep confusing denies friend for bottom purple ear everything asking shakespeare denied serpents beating christmas pinched holiday knew burn disappeared lamps paid losing bowing permitted takes wept limitation theirs newspapers choke o costs dinner despair permission sluggard raised sob whats facility wasting puzzle obtaining delighted cauldron son down respectable bats lieu balanced federal frightened methods cleared crowd wag support sneezing fight derision morcar call was happy fork head creation waistcoat form offer attempted becoming back failure hear heap boon removed true flavour rippling inside attached maximum until note scream unusually dinahs temper proud proved sticks screaming fury toss paragraphs muscular drive howling guessed promised melan curious accounting archive peeping solicitation floor generally handed tis beheading setting holding tie vanished shrink saucepans picture brothers pronounced surprise ointment welcome skirt fell ridges inkstand unlocking died puss spades cheated together beds longed contemptuous time push treading profits concept managed chain whoever dance untwist fulcrum invent crocodile mile chair displaying milk row certainly father passage answered charge unpleasant promoting terror circumstances agreed jogged fancied brown downloading made keeping hatter choice liability stays cook ma trouble exact feeble minute cool sighed presented did turns dig accidentally leave settle quick teaching scaly round prevent brave says tougher sigh discover sign cost dried dinahll helpless irritated appear assistance axes uniform current paragraph lazily goes reply falling geography filled growls jury partners honour v french water corporation twentieth yards elses hoarse along appears change wait box sending thirty impatiently lazy wherever united gryphon trial usually shifting quarrel useful morals extra hopeful merely marked inquisitively puffed swallowed stingy everybody driest angry visit only france expend live wood somersault wondering teeth associated today loving chapter entrance sharing afford flying teases ignorant wwwgutenbergorg effort fly wouldnt pretend modified longitude cat soup sour can growing making dispute laughter mouses heart crazy frontispiece nursing figure december arise carroll confused agent paused heard chin dropped phrase counting stole evidently pink requirements winter fortunately buttered watching pine write till fourth stigand condemn may dive spot cease crashed birthday tipped mad date such data grow man scrambling classics natural remember succeeded whenever maybe daisies tale provide suet so crept offend arrived pulled talk recognised refund unsolicited shoes seeing indeed pointed werent displayed canary years course quarrelled shake argued statements cold still owl birds limbs derive yawning thank curly interesting curls civil window offers dreadfully thump consequential ours main into happened roses non lonely tucked conversations sooner bound underneath tails soo half not now provision hall nor wont execute shouted name chuckled corners drop rock scolded entirely creature em domain eh bursting beloved hurried goose skurried begun year distributor happen worried irons living canvas opened profit concert abide hastily looking seriously stupid housemaid receiving juror attended state cart quite bringing besides card care advance beautify language reasonable honest thing place invalidity invitation promotion think waited first sprawling arithmetic xi ootiful revenue spoken yourself merrily fast directly carry impossible ring open tomorrow cheerfully sheep city little necessarily checked silent arch caught waist t anyone trampled returns shiver legally white west speaking eyes way mostly that snatch viewing alas eyed editions copy holder than wide accordance require future apples venture were cards accessed proofread wandering and addressing tasted remained ann turned argument voices say medium anger themselves saw any sat snorting tulip transcription downwards rudeness wandered equipment emphasis hookah take online haste encouraged butterfly begin sure altered opposite neatly clearer zigzag obsolete donation printed pair knee educations pages queens pencils especially fills considered egg later steady hungry playing managing joys stockings hedgehog salt trembled duchesss laws walking show cheap discovered bright corner fifth curled busily nice title nodded histories considerable coaxing tears going posted shrill toffee get between mission whiles unimportant cannot nearly hedge resource seldom morning miles liable executes finishing where staff deletions declared crumbs burst pennyworth fanned asleep hell violates wonder ways jumped pencil label teacup behind hiss cautiously reading across caucus whispered notice tut queerest killing blame gratefully singers come croqueted dates repeating cakes many stupidest quiet nile blasts personal s loudly disappointment railway expression sulkily comes riddle among loveliest afterwards lacie pot pop accusation stretched learning constant precious custody considering uglify cares suppressed mark breath punished judging hardly mary engine direction indirect thousand flurry wake evidence those granted case myself folding turtles these sobbed warning slippery antipathies promising squeezed shrieks invited ein ive thatll donors rubbing engaged couples middle sudden contract heels return ascii worry binary different pat author pay edwin same check speech triumphantly physical pan week finish nest pglaf director persons running changing passing complained traps charges no roughly without grinned bottle fidgeted summer being when rest violent growled kill touch exclamation speed sulky blow death dipped widest hint thinking rose seems except confirmed thimble treatment prominently struck bread real around kills desperately read lowing dark politely world earls execution lady vague dare tremulous pounds draggled sternly donations either downward passionate reduced twelve shillings calculated lobster respect businesspglaforg mustard provided legal moon httpgutenbergorglicense expressing moderate knife turkey felt arrow business fitness gbnewbypglaforg broken references throw on subdued oh of violence accepted shrimp chop boldly journey stand knave youve mixed ou notifies or imitated quietly appealed burning trot trademark spreading youd lifted legged rising determine dreaming england happening shrinking your performing her hes there hed start cats caterpillars low lot jaws attends mercia hare mischief jug enough mice trying with feather longer rush waste arranged tiptoe tones conqueror grass agree gone fright taste ah ak moved deep fellow as bawled at file walks watched horse tremble again hasnt rubbed idiot field implied remarks you puppy poor indemnify oneself inquired uncorked remarked whiskers whistling includes waving gutenberg important included brass sneeze pool freely applause wife sobbing tricks sharks having principal once strings growling all snout consider pointing caused month dish follow faster children whiting conger dreadful ravens remarkable hunting unenforceability encourage opportunities laughing to tail tm wants solicit crimson smile sound woman worse sitting very fat fan minded hatching fall soles washing prisoners list joined large sang sand small indemnity fashion familiarly quicker rats ten tea past rate pass further httppglaforgfundraising expenses creatures grinning what stood darkness clock deeply section stool stoop version northumbria nurse public full compilation loose answers hours compressed affectionately directions handwriting applicable search deductible tortoise difficulty stretching memorandum soldier periodic murdering narrow peering followed family suddenly clapping vii usurpation put toys thatched research readily eye proceed injure faint two damaged splash taken more flat wretched door knows company stick broke particular known foundations hurry producing glad cunning gazing none include hour pocket created offended remain pressing nine indicating learn knocked furrows history beautiful shark feebly gravely rustled share accept states confirmation sense interpreted sharp garden information needs court advantage rather comfort disclaim magpie maps occasionally footman canterbury shouldnt tried rude suppose advice derived purring coming gardeners pleaded unlink hedgehogs a short crowded loud paw eats shore shade banks pleasure dream fender replied help incessantly hypertext soon held isnt paper through committed existence smiling its roots fanning rapidly forwards pray fairbanks buttercup actually late harmless absence parts speaker might arguments good somebody unrolled ye noticing foot executions mystery easily always rattle fluttered someone stopped die found fairy pleasanter heavy status harm transcribe begged upstairs house fish hard idea duchess punitive scratching hart really anxious dears flower missed wondered rearing since pigeon trusts print snappishly humble pun crouched upon guess pleasant houses reason imagine ask rises beginning thrown pairs computers curtsey terribly expecting w daisy fallen porpoise dont slipped feel dinn knocking number fancy feet done shilling fees miss executioners story heads redistributing twenty least paint station passed hundred recovered bowed relieved uncommonly ebooks immediate procession luckily part believe stairs king kind grew kindly bag double grey spirited i stalk treated declare executioner picked wasnt dainties defect livery murder aged fading sell lie dancing b commotion officers lit swallowing breeze finding relief play added reality eggs reach most virus plan eaten nothing accepting extremely oyster mineral performances clear sometimes charitable infringement clean daresay lying ugh particularly languid fond scattered idiotic carefully croqueting fine find faces rocket copyright grazed justice nervous original distributed unwillingly unhappy pretty money circle shepherd his hit meanwhile express trees obtain whistle courage hid exempt pretending shared him chimney distraction cry alteration doubled gloves common x engraved nibbled wrote set signify throwing see hoarsely are sea close bark arm feared shower learnt library lastly pictures wow please won various guilt donate numerous arrum kneel meal knowing latin creating timidly vanishing both c f last license panther dismay became forgotten whole finds tittered sentenced liked majesty drunk simple sweet address manners whatever hollow alone unfolded simply likes supple patiently described lizards acceptance lets whos whom secret dropping pg collected meeting empty resting lived gay boy fire ada remark else understand demand despite mournful furrow stolen fur look raw solid straight bill rope forgetting while pressed leaning fun ful theres swim hoping violently itself beautifully ready kings funny righthand choking grant belong shorter rules copying grand modification advise used snail discontinue yesterday desks patriotic moment flown cucumber purpose uneasily timid wheres lower older person edge regulating grins redistribution clasped lobsters listening morsel rumbling httppglaforg questions using love addresses cut cur also hated alternate kissed eager internal grin crying complying remaining surprised tillie australia march format showing pattering game entangled bit wings like knock imposed d shaped follows incidental chorus eel provoking foolish walrus often obliged lodging some remarking understood lips marmalade hurriedly sight wonderland candle capering newsletter pale ourselves saucer savage nonproprietary scale twinkle pet shall lark nose be run remembered word processing agreement refused fee nowhere ache by comfits bristling anything wore prove straightened naturedly shiny bleeds silence undoing letter conquest within nonsense jurymen piteous frames lesson signifies sad question long consultation prettier suit sections indignantly files royalties himself an inches registered memory hoped alive atom upright line dull raising peeped directed hush ut up us accustomed proves called yelled possession ordered roared specified skimming graceful denying codes theyll puzzling backs occasional ornamented nay mock tart brushing draw energetic gross favourite faintly occurred william meaning tms smiled fishes song neednt sides ago land e practically age required walked annoyed impatient neighbouring fitted far international convert sounded prizes rabbit splashing sixpence go contributions cupboards seemed itll young send literary oclock critical breach pleasing sent retire presently flinging outside panting maam squeaked spoon putting rattling telling drinking continued severely redistribute magic respectful stiff array shock michael try tunnel race verdict havent insolence disclaimer concluded smaller everythings uncomfortably sensation boots licensed uncomfortable expense odd newby formats diamonds giving squeeze access paying waiting experiment eating capital bird poky body lessons melancholy led chose elect upsetting beasts commercial fifteenth believed busy let sink others slates sing invented fifteen settling vinegar great uneasy receive involved larger leaving slightest simpleton opinion climb behead makes thats wig examining named apple claim win disobey manage dormouse addressed names duck doubtfully apply nibbling singing standing use cheered from links zip archbishop readable processions frog next few doubt crab doubling eaglet cheeks sort throne clever rich started inclined about carrying labelled sharply baby actual iii annoy account balls animals panted locks this shrieked pour curtseying arches anywhere crossed thin meet didnt fetch bend proprietary bent reeds plate ferrets lock tax dripping pieces high professor weve pulling something bones wonderful paws onions contempt sir educational curving defective sit trumpet six occur delay located need courtiers animal instead furiously pretexts farm watch waters act thunderstorm tied doze pigs men minding multiplication terrier gregory patted intellectual noises lines interrupted trembling chief httpwwwpglaforg allow crawling furious volunteers flapper bathing closely reeling move doubtful produced including mentioned remove exclusion banquet permanent choose orange derivative bye originator crash practice muddle flew cutting kiss hands front day toes sneezed delightful tureen truth accounts sneezes bills shaking normans brush footmen doing globe books sands thirteen measure our footmans wander witness out sobs uglifying hedges hatters eyelids barley exporting cause red oblong shut mississippi undo puppys attending completely collection jurors yard prepare gallons could rustling times conversation length produce trickling sorrowful clamour plainly blown pitied soothing fits howled representations owner blows undertone ancient sadly slatesll strict ordering vulgar muttered their perfectly sixteenth shell explanation exactly verse branches herself neck bother yawned beg submitted bee stupidly listeners individual detach providing result thistle tidy gently comfortable tide comfortably have throat wearily clearly viewed afraid dishes bough wits able contact instance sh which copied blades unless centre who but prisoner alarmed why deny flappers gather upset face looked absurd guinea painting fact affair pleases bring planning contemptuously soldiers fear pleased chanced nearer pause based knowledge gutenbergs jaw jar should buttons smallest employee fumbled handsome hope indignant meant prosecute listened means beat beau muttering bear ones words beak entity following brain shy taxes calling stuff she contain rapped fixed generations available shedding official exists tossing frame salmon we edition computer desperate forepaws closer coils pattern drawling written difficulties identification closed neither youll email bed opening hurrying key group puzzled problem staring restrictions shingle taking doorway figures swallow otherwise walk subscribe laugh table seaography addition thanked copies immense poured slowly treat certain curtain proposal kitchen remedies shoulders am farmer alices neighbour latitude finished ensuring mail smoking general present volunteer theyve riddles plain vanilla appearance examine will riper owns wild advisable instantly almost vi thus site jelly helped against partner sits tumbled denial perhaps began cross brightened strange tumbling digging largest party glaring twelfth difficult elbows spell drink disagree effect beast introduce sisters collar cheshire off nevertheless dinah well fighting thought english position raving drawing usual lest taller barking cried less moments ambition fancying cries stored distant parchment web tight sky lake reasons book adoption maintaining wet earnestly ought kick raven ledge provisions whispers royalty five know knot desk immediately audibly flamingo ahem lost sizes crawled payments lose become works soft page replacement accessible shed because authority hair shes choosing proper home happens est esq avoid kettle disk leap does passion saucepan belt chains warranties pepper noise inaccurate reaching contradicted choked crust trials gained sister ashamed carried getting tray brandy httppglaforgdonate carrier tongue introduced swimming warranty turtle own letters screamed oop guard doesnt promise tiny theyd couldnt quickly charities custard knuckles ridge additional rushed rightly noticed spread startled powdered receipt north fountains repeated goals hm shant highest eat he hearthrug wise places whether wish scroll variations signed placed below catching woke cake distribution piece minutes display stirring diligently rabbits whisper pie pig twist tempered ink trotting girl performed variety dressed lately deserved other special branch suppress hippopotamus conclusion giddy repeat star muchness june stay refreshments chance teacups throughout friends grunted yelp tinkling lasted rule pictured extras elsie lives trims baked indirectly\n"
     ]
    }
   ],
   "source": [
    "hyperdictionary = np.zeros(N)\n",
    "count = 0\n",
    "vals = []\n",
    "subwords = []\n",
    "\n",
    "for word in word_list:\n",
    "    subword = ''\n",
    "    subvec = np.ones(N)\n",
    "    for i,letter in enumerate(word):\n",
    "        letter_idx = random_idx.alphabet.find(letter)\n",
    "        subvec = np.roll(subvec, 1) * letter_vectors[letter_idx,:]\n",
    "        subword += letter\n",
    "        \n",
    "    # check to see if the subvec is already present in the hyperdictionary\n",
    "    val = np.dot(subvec.T, hyperdictionary) / N\n",
    "    #vals.append(val)\n",
    "    #subwords.append(subword)\n",
    "        \n",
    "    # If the substring is not present, then val should be near 0\n",
    "    if val < 0.5:\n",
    "        # then add the substring\n",
    "        print word,\n",
    "        hyperdictionary += subvec\n",
    "        count += 1"
   ]
  },
  {
   "cell_type": "code",
   "execution_count": 5,
   "metadata": {
    "collapsed": true
   },
   "outputs": [],
   "source": [
    "np.savez('alice_word_hyperdictionary_d1M_160222.npz', letter_vectors=letter_vectors, hyperdictionary=hyperdictionary)"
   ]
  },
  {
   "cell_type": "code",
   "execution_count": null,
   "metadata": {
    "collapsed": true
   },
   "outputs": [],
   "source": []
  }
 ],
 "metadata": {
  "kernelspec": {
   "display_name": "Python 2",
   "language": "python",
   "name": "python2"
  },
  "language_info": {
   "codemirror_mode": {
    "name": "ipython",
    "version": 2
   },
   "file_extension": ".py",
   "mimetype": "text/x-python",
   "name": "python",
   "nbconvert_exporter": "python",
   "pygments_lexer": "ipython2",
   "version": "2.7.11"
  }
 },
 "nbformat": 4,
 "nbformat_minor": 0
}
