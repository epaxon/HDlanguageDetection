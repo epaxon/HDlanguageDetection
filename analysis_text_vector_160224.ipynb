{
 "cells": [
  {
   "cell_type": "markdown",
   "metadata": {},
   "source": [
    "# Text vectors as encoding expected values\n",
    "\n",
    "I have spent some time thinking about how the vector encoding operates. The work below suggests that the text vectors are encoding the expected values of the high-dimensional hashes that it assembles from the text. I have recreated the text vector by normalizing it by the number of elements it has summed. Then I can dot this with a unit-length text vector to get the actual expected value of the text element. \n",
    "\n",
    "I then compare the results of the text vector computations with the actual occurrence of the text. It is clear that there is a significant connection, and that the text vector is effectively encoding the expected value. This all makes sense when you think about what is happening. \n",
    "\n"
   ]
  },
  {
   "cell_type": "code",
   "execution_count": 1,
   "metadata": {
    "collapsed": false
   },
   "outputs": [
    {
     "name": "stdout",
     "output_type": "stream",
     "text": [
      "height has been deprecated.\n",
      "\n",
      "2016-02-24 09:29\n"
     ]
    }
   ],
   "source": [
    "\n",
    "import random_idx\n",
    "import utils\n",
    "import pickle\n",
    "\n",
    "from pylab import *\n",
    "\n",
    "%matplotlib inline\n"
   ]
  },
  {
   "cell_type": "code",
   "execution_count": 2,
   "metadata": {
    "collapsed": false
   },
   "outputs": [
    {
     "name": "stdout",
     "output_type": "stream",
     "text": [
      "0 1000 2000 3000 4000 5000 6000 7000 8000 9000 10000 11000 12000 13000 14000 15000 16000 17000 18000 19000 20000 21000 22000 23000 24000 25000 26000 27000 28000 29000 30000 31000 32000 33000 34000 35000 36000 37000 38000 39000 40000 41000 42000 43000 44000 45000 46000 47000 48000 49000 50000 51000 52000 53000 54000 55000 56000 57000 58000 59000 60000 61000 62000 63000 64000 65000 66000 67000 68000 69000 70000 71000 72000 73000 74000 75000 76000 77000 78000 79000 80000 81000 82000 83000 84000 85000 86000 87000 88000 89000 90000 91000 92000 93000 94000 95000 96000 97000 98000 99000 100000 101000 102000 103000 104000 105000 106000 107000 108000 109000 110000 111000 112000 113000 114000 115000 116000 117000 118000 119000 120000 0 1000 2000 3000 4000 5000 6000 7000 8000 9000 10000 11000 12000 13000 14000 15000 16000 17000 18000 19000 20000 21000 22000 23000 24000 25000 26000 27000 28000 29000 30000 31000 32000 33000 34000 35000 36000 37000 38000 39000 40000 41000 42000 43000 44000 45000 46000 47000 48000 49000 50000 51000 52000 53000 54000 55000 56000 57000 58000 59000 60000 61000 62000 63000 64000 65000 66000 67000 68000 69000 70000 71000 72000 73000 74000 75000 76000 77000 78000 79000 80000 81000 82000 83000 84000 85000 86000 87000 88000 89000 90000 91000 92000 93000 94000 95000 96000 97000 98000 99000 100000 101000 102000 103000 104000 105000 106000 107000 108000 109000 110000 111000 112000 113000 114000 115000 116000 117000 118000 119000 120000\n"
     ]
    }
   ],
   "source": [
    "fread = open(\"alice_RI_letters\", \"r\")\n",
    "fread1 = open(\"alice_lang_vectors\", \"r\")\n",
    "RI_letters = pickle.load(fread)\n",
    "lang_vectors = pickle.load(fread1)\n",
    "fread.close()\n",
    "fread1.close()\n",
    "\n",
    "N=RI_letters.shape[1]\n",
    "\n",
    "text_name=\"preprocessed_texts/AliceInWonderland.txt\"\n",
    "\n",
    "text = utils.load_text(text_name)\n",
    "\n",
    "# generate text vector from alice based on each character\n",
    "# this function creates a normalized text vector\n",
    "alice_text_vector1 = random_idx.generate_text_vector(N, RI_letters, 1, text)\n",
    "\n",
    "#%%\n",
    "# generate text vector based on each pair of characters\n",
    "alice_text_vector2 = random_idx.generate_text_vector(N, RI_letters, 2, text)"
   ]
  },
  {
   "cell_type": "code",
   "execution_count": 3,
   "metadata": {
    "collapsed": false
   },
   "outputs": [
    {
     "name": "stdout",
     "output_type": "stream",
     "text": [
      "1.00287097096\n"
     ]
    }
   ],
   "source": [
    "# This is now a normalized vector operation, which means the probability\n",
    "# should be encoded, and that the sum over all letters should be 1\n",
    "letter_vals = np.dot(RI_letters/N, alice_text_vector1.T)\n",
    "\n",
    "print sum(letter_vals)\n"
   ]
  },
  {
   "cell_type": "code",
   "execution_count": 4,
   "metadata": {
    "collapsed": true
   },
   "outputs": [],
   "source": [
    "\n",
    "# So, this is really just encoding the expected value of each letter based on \n",
    "# the given text. This means that letter_vals should be very close to the counts\n",
    "# of the letters found in the text\n",
    "\n",
    "letter_counts = np.zeros(len(random_idx.alphabet))\n",
    "\n",
    "for i,letter in enumerate(random_idx.alphabet):\n",
    "    letter_counts[i] = text.count(letter)\n",
    "\n",
    "letter_prob = letter_counts / sum(letter_counts)\n"
   ]
  },
  {
   "cell_type": "code",
   "execution_count": 5,
   "metadata": {
    "collapsed": false
   },
   "outputs": [
    {
     "data": {
      "text/plain": [
       "<matplotlib.legend.Legend at 0x7f3facf2a150>"
      ]
     },
     "execution_count": 5,
     "metadata": {},
     "output_type": "execute_result"
    },
    {
     "data": {
      "image/png": "[encoded data removed]",
      "text/plain": [
       "<matplotlib.figure.Figure at 0x7f3fba789d10>"
      ]
     },
     "metadata": {},
     "output_type": "display_data"
    }
   ],
   "source": [
    "figure(figsize=(10,8))\n",
    "\n",
    "bar(arange(len(letter_vals))+0.15, letter_vals, width=0.35, color='b', label='text vector')\n",
    "bar(arange(len(letter_vals))+0.5, letter_prob, width=0.35, color='r', label='text occurence')\n",
    "\n",
    "ax = gca()\n",
    "\n",
    "ax.set_xticks(arange(len(letter_vals))+0.5)\n",
    "th = ax.set_xticklabels(list(random_idx.alphabet))\n",
    "\n",
    "legend()\n"
   ]
  },
  {
   "cell_type": "markdown",
   "metadata": {},
   "source": [
    "## 2-letter based text vectors, do not contain information about individual characters\n",
    "\n",
    "If we look for individual letters in alice_text_vector2, then they will have low counts, because we only stored expected counts of letter pairs. Each letter pair has its own unique hash, and this is different than the individual letter. In a text vector made up of only letter pairs, the individual hashes will never show up. This means that the lookup of individual letters will all have very small values near 0 -- i.e. the text never contained indivual letters\n"
   ]
  },
  {
   "cell_type": "code",
   "execution_count": 6,
   "metadata": {
    "collapsed": false
   },
   "outputs": [
    {
     "data": {
      "image/png": "[encoded data removed]",
      "text/plain": [
       "<matplotlib.figure.Figure at 0x7f3fd483ff90>"
      ]
     },
     "metadata": {},
     "output_type": "display_data"
    }
   ],
   "source": [
    "letter_vals12 = np.dot(RI_letters/N, alice_text_vector2.T)\n",
    "\n",
    "figure;\n",
    "bar(arange(len(letter_vals12)), letter_vals12)\n",
    "\n",
    "ax = gca()\n",
    "\n",
    "ax.set_xticks(arange(len(letter_vals))+1)\n",
    "th = ax.set_xticklabels(list(random_idx.alphabet))\n",
    "\n"
   ]
  },
  {
   "cell_type": "markdown",
   "metadata": {},
   "source": [
    "So, now if we go through every pair of letters we can get the probabilities"
   ]
  },
  {
   "cell_type": "code",
   "execution_count": 7,
   "metadata": {
    "collapsed": false
   },
   "outputs": [
    {
     "name": "stdout",
     "output_type": "stream",
     "text": [
      "0.982935469997\n"
     ]
    }
   ],
   "source": [
    "letter_vals2 = np.zeros(len(random_idx.alphabet)**2)\n",
    "letter_counts2 = np.zeros(len(random_idx.alphabet)**2)\n",
    "letter_pairs = []\n",
    "c = 0\n",
    "\n",
    "for i, letter1 in enumerate(random_idx.alphabet):\n",
    "    for j, letter2 in enumerate(random_idx.alphabet):\n",
    "        \n",
    "        letter_pairs.append(letter1+letter2)\n",
    "        \n",
    "        letter_counts2[c] = text.count(letter_pairs[c])\n",
    "        \n",
    "        vector = np.roll(RI_letters[i,:], 1) * RI_letters[j,:]\n",
    "        \n",
    "        letter_vals2[c] = np.dot(vector/N, alice_text_vector2.T)\n",
    "        c+=1\n",
    "\n",
    "#%%\n",
    "letter_prob2 = letter_counts2 / sum(letter_counts2)\n",
    "\n",
    "# this should be close to 1\n",
    "print sum(letter_vals2)"
   ]
  },
  {
   "cell_type": "markdown",
   "metadata": {},
   "source": [
    "In the plot, I am just going to take some of the more significant pairs and not plot all 27\\*27 pairs of letters."
   ]
  },
  {
   "cell_type": "code",
   "execution_count": 8,
   "metadata": {
    "collapsed": false
   },
   "outputs": [
    {
     "data": {
      "image/png": "[encoded data removed]",
      "text/plain": [
       "<matplotlib.figure.Figure at 0x7f3facb81a50>"
      ]
     },
     "metadata": {},
     "output_type": "display_data"
    }
   ],
   "source": [
    "#%%\n",
    "figure(figsize=(16,12))\n",
    "\n",
    "sig_idx = find(letter_vals2 > 0.005)\n",
    "\n",
    "b1=bar(arange(len(letter_vals2[sig_idx]))+0.15, letter_vals2[sig_idx], width=0.35, color='b')\n",
    "b2=bar(arange(len(letter_prob2[sig_idx]))+0.5, letter_prob2[sig_idx], width=0.35, color='r')\n",
    "\n",
    "ax = gca()\n",
    "\n",
    "ax.set_xticks(arange(len(letter_vals2[sig_idx]))+0.5)\n",
    "\n",
    "pair_labels = []\n",
    "for i in sig_idx:\n",
    "    pair_labels.append(letter_pairs[i])\n",
    "    \n",
    "t1 = ax.set_xticklabels(pair_labels)"
   ]
  },
  {
   "cell_type": "code",
   "execution_count": 9,
   "metadata": {
    "collapsed": false
   },
   "outputs": [
    {
     "name": "stdout",
     "output_type": "stream",
     "text": [
      "th he er in an it ou on at re es ed ea en nd to ha ng et nt\n"
     ]
    }
   ],
   "source": [
    "sort_idx = argsort(letter_vals2)\n",
    "\n",
    "for i in range(20):\n",
    "    print letter_pairs[sort_idx[-1-i]], "
   ]
  },
  {
   "cell_type": "code",
   "execution_count": null,
   "metadata": {
    "collapsed": true
   },
   "outputs": [],
   "source": []
  }
 ],
 "metadata": {
  "kernelspec": {
   "display_name": "Python 2",
   "language": "python",
   "name": "python2"
  },
  "language_info": {
   "codemirror_mode": {
    "name": "ipython",
    "version": 2
   },
   "file_extension": ".py",
   "mimetype": "text/x-python",
   "name": "python",
   "nbconvert_exporter": "python",
   "pygments_lexer": "ipython2",
   "version": "2.7.11"
  }
 },
 "nbformat": 4,
 "nbformat_minor": 0
}
