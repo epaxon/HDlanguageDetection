{
 "cells": [
  {
   "cell_type": "code",
   "execution_count": 10,
   "metadata": {
    "collapsed": true
   },
   "outputs": [],
   "source": [
    "from __future__ import division\n",
    "import numpy as np\n",
    "import scipy.special\n",
    "\n",
    "def ncdf(z):\n",
    "    return 0.5 * (1 + scipy.special.erf(z/2**0.5))\n",
    "\n",
    "def p_correct_snr(M, N=10000, D=27, ares=2000):\n",
    "    M = np.array(M)\n",
    "    p = np.zeros((ares-1, len(M)))\n",
    "\n",
    "    for iM,Mval in enumerate(M):\n",
    "        \n",
    "        snr = (N / Mval)**0.5\n",
    "        # span the Hit distribution up to 8 standard deviations @todo: make parameter\n",
    "        avals = np.linspace(snr - 8, snr + 8, ares)\n",
    "        \n",
    "        # the discretized gaussian of the hit\n",
    "        p[:, iM] = ncdf((avals[1:]-snr)) - ncdf((avals[:-1]-snr))\n",
    "        # times the discretized cumulative gaussian of the reject\n",
    "        p[:, iM] *= (ncdf(np.mean(np.vstack((avals[1:], avals[:-1])), axis=0))) ** (D-1)\n",
    "        \n",
    "    return np.sum(p, axis=0) # integrate over the avals\n",
    "\n",
    "  "
   ]
  },
  {
   "cell_type": "code",
   "execution_count": 11,
   "metadata": {
    "collapsed": false
   },
   "outputs": [],
   "source": [
    "\n",
    "M = np.arange(10000)+1\n",
    "pc = p_correct_snr(M)"
   ]
  },
  {
   "cell_type": "code",
   "execution_count": 12,
   "metadata": {
    "collapsed": false
   },
   "outputs": [
    {
     "data": {
      "text/plain": [
       "(0, 1.05)"
      ]
     },
     "execution_count": 12,
     "metadata": {},
     "output_type": "execute_result"
    },
    {
     "data": {
      "image/png": "[encoded data removed]",
      "text/plain": [
       "<matplotlib.figure.Figure at 0x7fa08384e090>"
      ]
     },
     "metadata": {},
     "output_type": "display_data"
    }
   ],
   "source": [
    "from pylab import *\n",
    "%matplotlib inline\n",
    "\n",
    "plot(M, pc, 'k', lw=2)\n",
    "ylim([0, 1.05])"
   ]
  },
  {
   "cell_type": "code",
   "execution_count": null,
   "metadata": {
    "collapsed": true
   },
   "outputs": [],
   "source": []
  }
 ],
 "metadata": {
  "kernelspec": {
   "display_name": "Python 2",
   "language": "python",
   "name": "python2"
  },
  "language_info": {
   "codemirror_mode": {
    "name": "ipython",
    "version": 2
   },
   "file_extension": ".py",
   "mimetype": "text/x-python",
   "name": "python",
   "nbconvert_exporter": "python",
   "pygments_lexer": "ipython2",
   "version": "2.7.11"
  }
 },
 "nbformat": 4,
 "nbformat_minor": 0
}
